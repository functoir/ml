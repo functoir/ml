{
 "cells": [
  {
   "cell_type": "markdown",
   "metadata": {},
   "source": [
    "# HW1  Try out gradient descent\n"
   ]
  },
  {
   "cell_type": "markdown",
   "metadata": {},
   "source": [
    "You should submit this jupyter notebook with your solutions. The solutions should include the code and also the output of all the cells.\n",
    "\n",
    "Note that for the problmes that require a cost function as input you should always use the most recent cost function that you have implemented (unless specified otherwise)."
   ]
  },
  {
   "cell_type": "markdown",
   "metadata": {},
   "source": [
    "1) [5 points] Calculate the derivative of following cost function and write it down:\n",
    "\n",
    "$g(w) = \\frac{1}{50}\\left(w^4 + w^2 + 10w - 50 \\right)$"
   ]
  },
  {
   "cell_type": "markdown",
   "metadata": {},
   "source": [
    "$\\frac{\\partial}{\\partial w}g(w) = \\frac{1}{50}(4w^3 + 2w + 10)$"
   ]
  },
  {
   "cell_type": "markdown",
   "metadata": {},
   "source": [
    "2) [25 points] Implement the gradient descent function as discussed in class using the gradient derived in the last problem. The function should return the cost history for each step. Use the code template below:\n"
   ]
  },
  {
   "cell_type": "code",
   "execution_count": 3,
   "metadata": {},
   "outputs": [
    {
     "name": "stdout",
     "output_type": "stream",
     "text": [
      "Any[-0.7600000000000002, -1.290075539842886, -1.39931544335316, -1.3644675565397297, -1.3780917173556881, -1.3730510376285379, -1.3749584884632344, -1.3742425723518625, -1.3745121135670446, -1.374410750158897]\n"
     ]
    }
   ],
   "source": [
    "#gradient descent function\n",
    "#inputs: alpha (learning rate parameter), max_its (maximum number of iterations), w0 (initialization)\n",
    "\n",
    "function gradient_descent(alpha, max_its, w0)\n",
    "    cost_history = []\n",
    "    w = w0\n",
    "    for i in 1:max_its\n",
    "        w -= alpha * dw(w)\n",
    "\n",
    "        push!(cost_history, w)\n",
    "    end\n",
    "    cost_history\n",
    "end\n",
    "\n",
    "g(w) = 1/50 * (w^4 + w^2 + 10*w - 50)\n",
    "dw(w) = 1/50 * (4 * w^3 + 2^w + 10)\n",
    "\n",
    "\n",
    "println(gradient_descent(3, 10, 2.0))"
   ]
  },
  {
   "cell_type": "markdown",
   "metadata": {},
   "source": [
    "3) [10 points] Run the gradient_descent function you implemented three times, with the following parameters. Generate a single plot showing the cost as a function of step number for all three runs (combine all three runs into a single plot). If you are not familiar with plotting in python, here is the docs for matplotlib:(https://matplotlib.org/3.2.1/api/_as_gen/matplotlib.pyplot.plot.html#matplotlib.pyplot.plot). \n",
    "\n",
    "\n",
    "$w^0$ = 2.0\n",
    "max_its = 1000\n",
    "\n",
    "# first run\n",
    "alpha = 1\n",
    "# second run\n",
    "alpha = 0.1\n",
    "# third run\n",
    "alpha = 0.01\n"
   ]
  },
  {
   "cell_type": "code",
   "execution_count": 1,
   "metadata": {},
   "outputs": [
    {
     "name": "stderr",
     "output_type": "stream",
     "text": [
      "\u001b[32m\u001b[1m   Updating\u001b[22m\u001b[39m registry at `~/.julia/registries/General`\n"
     ]
    },
    {
     "name": "stderr",
     "output_type": "stream",
     "text": [
      "#=#=#                                                                         \r"
     ]
    },
    {
     "name": "stderr",
     "output_type": "stream",
     "text": [
      "##O#-#                                                                        \r"
     ]
    },
    {
     "name": "stderr",
     "output_type": "stream",
     "text": [
      "##O=#  #                                                                      \r"
     ]
    },
    {
     "name": "stderr",
     "output_type": "stream",
     "text": [
      "#=#=-#  #                                                                     \r"
     ]
    },
    {
     "name": "stderr",
     "output_type": "stream",
     "text": [
      "-#O#- #   #                                                                   \r"
     ]
    },
    {
     "name": "stderr",
     "output_type": "stream",
     "text": [
      "-=#=#   #   #                                                                 \r"
     ]
    },
    {
     "name": "stderr",
     "output_type": "stream",
     "text": [
      "-=O#-#   #   #                                                                \r"
     ]
    },
    {
     "name": "stderr",
     "output_type": "stream",
     "text": [
      "-=O=#  #   #   #                                                              \r"
     ]
    },
    {
     "name": "stderr",
     "output_type": "stream",
     "text": [
      "-=O=-#  #    #   #                                                            \r"
     ]
    },
    {
     "name": "stderr",
     "output_type": "stream",
     "text": [
      "-=O=- #   #   #    #                                                          \r"
     ]
    },
    {
     "name": "stderr",
     "output_type": "stream",
     "text": [
      "-=O=-   #   #   #     #                                                       \r"
     ]
    },
    {
     "name": "stderr",
     "output_type": "stream",
     "text": [
      "-=O=-    #   #    #     #                                                     \r"
     ]
    },
    {
     "name": "stderr",
     "output_type": "stream",
     "text": [
      "-=O=-      #   #     #    #                                                   \r"
     ]
    },
    {
     "name": "stderr",
     "output_type": "stream",
     "text": [
      "-=O=-        #   #     #    #                                                 \r"
     ]
    },
    {
     "name": "stderr",
     "output_type": "stream",
     "text": [
      "-=O=-         #    #     #     #                                              \r"
     ]
    },
    {
     "name": "stderr",
     "output_type": "stream",
     "text": [
      "-=O=-           #     #    #     #                                            \r"
     ]
    },
    {
     "name": "stderr",
     "output_type": "stream",
     "text": [
      "-=O=-             #     #     #     #                                         \r"
     ]
    },
    {
     "name": "stderr",
     "output_type": "stream",
     "text": [
      "-=O=-                #    #     #     #                                       \r"
     ]
    },
    {
     "name": "stderr",
     "output_type": "stream",
     "text": [
      "-=O=-                  #    #     #     #                                     \r"
     ]
    },
    {
     "name": "stderr",
     "output_type": "stream",
     "text": [
      "-=O=-                    #     #     #     #                                  \r"
     ]
    },
    {
     "name": "stderr",
     "output_type": "stream",
     "text": [
      "-=O=-                      #     #     #     #                                \r"
     ]
    },
    {
     "name": "stderr",
     "output_type": "stream",
     "text": [
      "-=O=-                         #     #     #     #                             \r"
     ]
    },
    {
     "name": "stderr",
     "output_type": "stream",
     "text": [
      "-=O=-                           #     #     #     #                           \r"
     ]
    },
    {
     "name": "stderr",
     "output_type": "stream",
     "text": [
      "-=O=-                             #     #     #     #                         \r"
     ]
    },
    {
     "name": "stderr",
     "output_type": "stream",
     "text": [
      "-=O=-                                #     #     #    #                       \r"
     ]
    },
    {
     "name": "stderr",
     "output_type": "stream",
     "text": [
      "-=O=-                                  #     #     #     #                    \r"
     ]
    },
    {
     "name": "stderr",
     "output_type": "stream",
     "text": [
      "-=O=-                                     #     #    #     #                  \r"
     ]
    },
    {
     "name": "stderr",
     "output_type": "stream",
     "text": [
      "-=O=-                                       #     #    #     #                \r"
     ]
    },
    {
     "name": "stderr",
     "output_type": "stream",
     "text": [
      "-=O=-                                         #     #     #    #              \r"
     ]
    },
    {
     "name": "stderr",
     "output_type": "stream",
     "text": [
      "-=O=-                                            #    #     #   #             \r"
     ]
    },
    {
     "name": "stderr",
     "output_type": "stream",
     "text": [
      "-=O=-                                              #     #    #   #           \r"
     ]
    },
    {
     "name": "stderr",
     "output_type": "stream",
     "text": [
      "-=O=-                                                #     #   #    #         \r"
     ]
    },
    {
     "name": "stderr",
     "output_type": "stream",
     "text": [
      "-=O=-                                                  #     #   #   #        \r"
     ]
    },
    {
     "name": "stderr",
     "output_type": "stream",
     "text": [
      "-=O=-                                                     #    #   #   #      \r"
     ]
    },
    {
     "name": "stderr",
     "output_type": "stream",
     "text": [
      "-=O=-                                                       #   #   #   #     \r"
     ]
    },
    {
     "name": "stderr",
     "output_type": "stream",
     "text": [
      "-=O=-                                                         #   #   #  #    \r"
     ]
    },
    {
     "name": "stderr",
     "output_type": "stream",
     "text": [
      "-=O=-                                                          #    #  #  #   \r"
     ]
    },
    {
     "name": "stderr",
     "output_type": "stream",
     "text": [
      "-=O=-                                                            #   #  #  #  \r"
     ]
    },
    {
     "name": "stderr",
     "output_type": "stream",
     "text": [
      "-=O=-                                                              #   # # #  \r"
     ]
    },
    {
     "name": "stderr",
     "output_type": "stream",
     "text": [
      "-=O=-                                                               #   # # # \r"
     ]
    },
    {
     "name": "stderr",
     "output_type": "stream",
     "text": [
      "-=O=-                                                                 #  # ## \r"
     ]
    },
    {
     "name": "stderr",
     "output_type": "stream",
     "text": [
      "-=O=-                                                                  #  # # \r"
     ]
    },
    {
     "name": "stderr",
     "output_type": "stream",
     "text": [
      "-=O=-                                                                   #  ###\r"
     ]
    },
    {
     "name": "stderr",
     "output_type": "stream",
     "text": [
      "-=O=-                                                                    # ## \r"
     ]
    },
    {
     "name": "stderr",
     "output_type": "stream",
     "text": [
      "-=O=-                                                                     # # \r"
     ]
    },
    {
     "name": "stderr",
     "output_type": "stream",
     "text": [
      "-=O=-                                                                      ## \r"
     ]
    },
    {
     "name": "stderr",
     "output_type": "stream",
     "text": [
      "-=O=-                                                                      ## \r"
     ]
    },
    {
     "name": "stderr",
     "output_type": "stream",
     "text": [
      "-=O=-                                                                      ###\r"
     ]
    },
    {
     "name": "stderr",
     "output_type": "stream",
     "text": [
      "-=O=-                                                                     # # \r"
     ]
    },
    {
     "name": "stderr",
     "output_type": "stream",
     "text": [
      "-=O=-                                                                    # ## \r"
     ]
    },
    {
     "name": "stderr",
     "output_type": "stream",
     "text": [
      "-=O=-                                                                   # # # \r"
     ]
    },
    {
     "name": "stderr",
     "output_type": "stream",
     "text": [
      "-=O=-                                                                  # # ## \r"
     ]
    },
    {
     "name": "stderr",
     "output_type": "stream",
     "text": [
      "\r                                                                           1.1%"
     ]
    },
    {
     "name": "stderr",
     "output_type": "stream",
     "text": [
      "\r#######                                                                   10.0%"
     ]
    },
    {
     "name": "stderr",
     "output_type": "stream",
     "text": [
      "\r##############                                                            20.6%"
     ]
    },
    {
     "name": "stderr",
     "output_type": "stream",
     "text": [
      "\r#######################                                                   33.0%"
     ]
    },
    {
     "name": "stderr",
     "output_type": "stream",
     "text": [
      "\r####################################                                      50.5%"
     ]
    },
    {
     "name": "stderr",
     "output_type": "stream",
     "text": [
      "\r#################################################                         68.4%"
     ]
    },
    {
     "name": "stderr",
     "output_type": "stream",
     "text": [
      "\r#############################################################             85.3%"
     ]
    },
    {
     "name": "stderr",
     "output_type": "stream",
     "text": [
      "\r#######################################################################   98.8%\r######################################################################## 100.0%\n"
     ]
    },
    {
     "name": "stderr",
     "output_type": "stream",
     "text": [
      "\u001b[32m\u001b[1m  Resolving\u001b[22m\u001b[39m package versions...\n"
     ]
    },
    {
     "name": "stderr",
     "output_type": "stream",
     "text": [
      "\u001b[32m\u001b[1m  Installed\u001b[22m\u001b[39m FFTW_jll ───── v3.3.9+8\n",
      "\u001b[32m\u001b[1m  Installed\u001b[22m\u001b[39m Libiconv_jll ─ v1.16.0+8\n",
      "\u001b[32m\u001b[1m  Installed\u001b[22m\u001b[39m MKL_jll ────── v2021.1.1+2\n"
     ]
    },
    {
     "name": "stderr",
     "output_type": "stream",
     "text": [
      "\u001b[32m\u001b[1mUpdating\u001b[22m\u001b[39m `~/.julia/environments/v1.5/Project.toml`\n",
      " \u001b[90m [91a5bcdd] \u001b[39m"
     ]
    },
    {
     "name": "stderr",
     "output_type": "stream",
     "text": [
      "\u001b[92m+ Plots v1.0.14\u001b[39m\n",
      "\u001b[32m\u001b[1mUpdating\u001b[22m\u001b[39m `~/.julia/environments/v1.5/Manifest.toml`\n"
     ]
    },
    {
     "name": "stderr",
     "output_type": "stream",
     "text": [
      " \u001b[90m [f5851436] \u001b[39m\u001b[93m↑ FFTW_jll v3.3.9+7 ⇒ v3.3.9+8\u001b[39m\n",
      " \u001b[90m [94ce4f54] \u001b[39m\u001b[93m↑ Libiconv_jll v1.16.0+7 ⇒ v1.16.0+8\u001b[39m\n",
      " \u001b[90m [856f044c] \u001b[39m\u001b[93m↑ MKL_jll v2021.1.1+1 ⇒ v2021.1.1+2\u001b[39m\n"
     ]
    },
    {
     "name": "stderr",
     "output_type": "stream",
     "text": [
      "connect: Connection refused\n",
      "GKS: can't connect to GKS socket application\n",
      "\n",
      "GKS: Open failed in routine OPEN_WS\n",
      "GKS: GKS not in proper state. GKS must be either in the state WSOP or WSAC in routine ACTIVATE_WS\n",
      "connect: Connection refused\n",
      "GKS: can't connect to GKS socket application\n",
      "\n",
      "GKS: Open failed in routine OPEN_WS\n",
      "GKS: GKS not in proper state. GKS must be either in the state WSOP or WSAC in routine ACTIVATE_WS\n",
      "connect: Connection refused\n",
      "GKS: can't connect to GKS socket application\n",
      "\n",
      "GKS: Open failed in routine OPEN_WS\n",
      "GKS: GKS not in proper state. GKS must be either in the state WSOP or WSAC in routine ACTIVATE_WS\n",
      "connect: Connection refused\n",
      "GKS: can't connect to GKS socket application\n",
      "\n",
      "GKS: Open failed in routine OPEN_WS\n",
      "GKS: GKS not in proper state. GKS must be either in the state WSOP or WSAC in routine ACTIVATE_WS\n",
      "connect: Connection refused\n",
      "GKS: can't connect to GKS socket application\n",
      "\n",
      "GKS: Open failed in routine OPEN_WS\n",
      "GKS: GKS not in proper state. GKS must be either in the state WSOP or WSAC in routine ACTIVATE_WS\n",
      "connect: Connection refused\n",
      "GKS: can't connect to GKS socket application\n",
      "\n",
      "GKS: Open failed in routine OPEN_WS\n",
      "GKS: GKS not in proper state. GKS must be either in the state WSOP or WSAC in routine ACTIVATE_WS\n",
      "connect: Connection refused\n",
      "GKS: can't connect to GKS socket application\n",
      "\n",
      "GKS: Open failed in routine OPEN_WS\n",
      "GKS: GKS not in proper state. GKS must be either in the state WSOP or WSAC in routine ACTIVATE_WS\n",
      "connect: Connection refused\n",
      "GKS: can't connect to GKS socket application\n",
      "\n",
      "GKS: Open failed in routine OPEN_WS\n",
      "GKS: GKS not in proper state. GKS must be either in the state WSOP or WSAC in routine ACTIVATE_WS\n",
      "connect: Connection refused\n",
      "GKS: can't connect to GKS socket application\n",
      "\n",
      "GKS: Open failed in routine OPEN_WS\n",
      "GKS: GKS not in proper state. GKS must be either in the state WSOP or WSAC in routine ACTIVATE_WS\n",
      "connect: Connection refused\n",
      "GKS: can't connect to GKS socket application\n",
      "\n",
      "GKS: Open failed in routine OPEN_WS\n",
      "GKS: GKS not in proper state. GKS must be either in the state WSOP or WSAC in routine ACTIVATE_WS\n",
      "connect: Connection refused\n",
      "GKS: can't connect to GKS socket application\n",
      "\n",
      "GKS: Open failed in routine OPEN_WS\n",
      "GKS: GKS not in proper state. GKS must be either in the state WSOP or WSAC in routine ACTIVATE_WS\n",
      "connect: Connection refused\n",
      "GKS: can't connect to GKS socket application\n",
      "\n",
      "GKS: Open failed in routine OPEN_WS\n",
      "GKS: GKS not in proper state. GKS must be either in the state WSOP or WSAC in routine ACTIVATE_WS\n",
      "connect: Connection refused\n",
      "GKS: can't connect to GKS socket application\n",
      "\n",
      "GKS: Open failed in routine OPEN_WS\n",
      "GKS: GKS not in proper state. GKS must be either in the state WSOP or WSAC in routine ACTIVATE_WS\n",
      "connect: Connection refused\n",
      "GKS: can't connect to GKS socket application\n",
      "\n",
      "GKS: Open failed in routine OPEN_WS\n",
      "GKS: GKS not in proper state. GKS must be either in the state WSOP or WSAC in routine ACTIVATE_WS\n",
      "connect: Connection refused\n",
      "GKS: can't connect to GKS socket application\n",
      "\n",
      "GKS: Open failed in routine OPEN_WS\n",
      "GKS: GKS not in proper state. GKS must be either in the state WSOP or WSAC in routine ACTIVATE_WS\n",
      "connect: Connection refused\n",
      "GKS: can't connect to GKS socket application\n",
      "\n",
      "GKS: Open failed in routine OPEN_WS\n",
      "GKS: GKS not in proper state. GKS must be either in the state WSOP or WSAC in routine ACTIVATE_WS\n",
      "connect: Connection refused\n",
      "GKS: can't connect to GKS socket application\n",
      "\n",
      "GKS: Open failed in routine OPEN_WS\n",
      "GKS: GKS not in proper state. GKS must be either in the state WSOP or WSAC in routine ACTIVATE_WS\n",
      "connect: Connection refused\n",
      "GKS: can't connect to GKS socket application\n",
      "\n",
      "GKS: Open failed in routine OPEN_WS\n",
      "GKS: GKS not in proper state. GKS must be either in the state WSOP or WSAC in routine ACTIVATE_WS\n",
      "connect: Connection refused\n",
      "GKS: can't connect to GKS socket application\n",
      "\n",
      "GKS: Open failed in routine OPEN_WS\n",
      "GKS: GKS not in proper state. GKS must be either in the state WSOP or WSAC in routine ACTIVATE_WS\n",
      "connect: Connection refused\n",
      "GKS: can't connect to GKS socket application\n",
      "\n",
      "GKS: Open failed in routine OPEN_WS\n",
      "GKS: GKS not in proper state. GKS must be either in the state WSOP or WSAC in routine ACTIVATE_WS\n",
      "connect: Connection refused\n",
      "GKS: can't connect to GKS socket application\n",
      "\n",
      "GKS: Open failed in routine OPEN_WS\n",
      "GKS: GKS not in proper state. GKS must be either in the state WSOP or WSAC in routine ACTIVATE_WS\n",
      "connect: Connection refused\n",
      "GKS: can't connect to GKS socket application\n",
      "\n",
      "GKS: Open failed in routine OPEN_WS\n",
      "GKS: GKS not in proper state. GKS must be either in the state WSOP or WSAC in routine ACTIVATE_WS\n",
      "connect: Connection refused\n",
      "GKS: can't connect to GKS socket application\n",
      "\n",
      "GKS: Open failed in routine OPEN_WS\n",
      "GKS: GKS not in proper state. GKS must be either in the state WSOP or WSAC in routine ACTIVATE_WS\n",
      "connect: Connection refused\n",
      "GKS: can't connect to GKS socket application\n",
      "\n",
      "GKS: Open failed in routine OPEN_WS\n",
      "GKS: GKS not in proper state. GKS must be either in the state WSOP or WSAC in routine ACTIVATE_WS\n",
      "connect: Connection refused\n",
      "GKS: can't connect to GKS socket application\n",
      "\n",
      "GKS: Open failed in routine OPEN_WS\n",
      "GKS: GKS not in proper state. GKS must be either in the state WSOP or WSAC in routine ACTIVATE_WS\n",
      "connect: Connection refused\n",
      "GKS: can't connect to GKS socket application\n",
      "\n",
      "GKS: Open failed in routine OPEN_WS\n",
      "GKS: GKS not in proper state. GKS must be either in the state WSOP or WSAC in routine ACTIVATE_WS\n",
      "connect: Connection refused\n",
      "GKS: can't connect to GKS socket application\n",
      "\n",
      "GKS: Open failed in routine OPEN_WS\n",
      "GKS: GKS not in proper state. GKS must be either in the state WSOP or WSAC in routine ACTIVATE_WS\n",
      "connect: Connection refused\n",
      "GKS: can't connect to GKS socket application\n",
      "\n",
      "GKS: Open failed in routine OPEN_WS\n",
      "GKS: GKS not in proper state. GKS must be either in the state WSOP or WSAC in routine ACTIVATE_WS\n",
      "connect: Connection refused\n",
      "GKS: can't connect to GKS socket application\n",
      "\n",
      "GKS: Open failed in routine OPEN_WS\n",
      "GKS: GKS not in proper state. GKS must be either in the state WSOP or WSAC in routine ACTIVATE_WS\n",
      "connect: Connection refused\n",
      "GKS: can't connect to GKS socket application\n",
      "\n",
      "GKS: Open failed in routine OPEN_WS\n",
      "GKS: GKS not in proper state. GKS must be either in the state WSOP or WSAC in routine ACTIVATE_WS\n",
      "connect: Connection refused\n",
      "GKS: can't connect to GKS socket application\n",
      "\n",
      "GKS: Open failed in routine OPEN_WS\n",
      "GKS: GKS not in proper state. GKS must be either in the state WSOP or WSAC in routine ACTIVATE_WS\n",
      "connect: Connection refused\n",
      "GKS: can't connect to GKS socket application\n",
      "\n",
      "GKS: Open failed in routine OPEN_WS\n",
      "GKS: GKS not in proper state. GKS must be either in the state WSOP or WSAC in routine ACTIVATE_WS\n",
      "connect: Connection refused\n",
      "GKS: can't connect to GKS socket application\n",
      "\n",
      "GKS: Open failed in routine OPEN_WS\n",
      "GKS: GKS not in proper state. GKS must be either in the state WSOP or WSAC in routine ACTIVATE_WS\n",
      "connect: Connection refused\n",
      "GKS: can't connect to GKS socket application\n",
      "\n",
      "GKS: Open failed in routine OPEN_WS\n",
      "GKS: GKS not in proper state. GKS must be either in the state WSOP or WSAC in routine ACTIVATE_WS\n",
      "connect: Connection refused\n",
      "GKS: can't connect to GKS socket application\n",
      "\n",
      "GKS: Open failed in routine OPEN_WS\n",
      "GKS: GKS not in proper state. GKS must be either in the state WSOP or WSAC in routine ACTIVATE_WS\n",
      "connect: Connection refused\n",
      "GKS: can't connect to GKS socket application\n",
      "\n",
      "GKS: Open failed in routine OPEN_WS\n",
      "GKS: GKS not in proper state. GKS must be either in the state WSOP or WSAC in routine ACTIVATE_WS\n",
      "connect: Connection refused\n",
      "GKS: can't connect to GKS socket application\n",
      "\n",
      "GKS: Open failed in routine OPEN_WS\n",
      "GKS: GKS not in proper state. GKS must be either in the state WSOP or WSAC in routine ACTIVATE_WS\n",
      "connect: Connection refused\n",
      "GKS: can't connect to GKS socket application\n",
      "\n",
      "GKS: Open failed in routine OPEN_WS\n",
      "GKS: GKS not in proper state. GKS must be either in the state WSOP or WSAC in routine ACTIVATE_WS\n",
      "connect: Connection refused\n",
      "GKS: can't connect to GKS socket application\n",
      "\n",
      "GKS: Open failed in routine OPEN_WS\n",
      "GKS: GKS not in proper state. GKS must be either in the state WSOP or WSAC in routine ACTIVATE_WS\n",
      "connect: Connection refused\n",
      "GKS: can't connect to GKS socket application\n",
      "\n",
      "GKS: Open failed in routine OPEN_WS\n",
      "GKS: GKS not in proper state. GKS must be either in the state WSOP or WSAC in routine ACTIVATE_WS\n",
      "connect: Connection refused\n",
      "GKS: can't connect to GKS socket application\n",
      "\n",
      "GKS: Open failed in routine OPEN_WS\n",
      "GKS: GKS not in proper state. GKS must be either in the state WSOP or WSAC in routine ACTIVATE_WS\n",
      "qt.qpa.xcb: could not connect to display 172.24.64.1:0\n",
      "qt.qpa.plugin: Could not load the Qt platform plugin \"xcb\" in \"\" even though it was found.\n",
      "This application failed to start because no Qt platform plugin could be initialized. Reinstalling the application may fix this problem.\n",
      "\n",
      "Available platform plugins are: eglfs, linuxfb, minimal, minimalegl, offscreen, vnc, wayland-egl, wayland, wayland-xcomposite-egl, wayland-xcomposite-glx, xcb.\n",
      "\n",
      "Aborted\n",
      "connect: Connection refused\n",
      "GKS: can't connect to GKS socket application\n",
      "\n",
      "GKS: Open failed in routine OPEN_WS\n",
      "GKS: GKS not in proper state. GKS must be either in the state WSOP or WSAC in routine ACTIVATE_WS\n",
      "connect: Connection refused\n",
      "GKS: can't connect to GKS socket application\n",
      "\n",
      "GKS: Open failed in routine OPEN_WS\n",
      "GKS: GKS not in proper state. GKS must be either in the state WSOP or WSAC in routine ACTIVATE_WS\n",
      "connect: Connection refused\n",
      "GKS: can't connect to GKS socket application\n",
      "\n",
      "GKS: Open failed in routine OPEN_WS\n",
      "GKS: GKS not in proper state. GKS must be either in the state WSOP or WSAC in routine ACTIVATE_WS\n",
      "connect: Connection refused\n",
      "qt.qpa.xcb: could not connect to display 172.24.64.1:0\n",
      "qt.qpa.plugin: Could not load the Qt platform plugin \"xcb\" in \"\" even though it was found.\n",
      "This application failed to start because no Qt platform plugin could be initialized. Reinstalling the application may fix this problem.\n",
      "\n",
      "Available platform plugins are: eglfs, linuxfb, minimal, minimalegl, offscreen, vnc, wayland-egl, wayland, wayland-xcomposite-egl, wayland-xcomposite-glx, xcb.\n",
      "\n",
      "qt.qpa.xcb: could not connect to display 172.24.64.1:0\n",
      "qt.qpa.plugin: Could not load the Qt platform plugin \"xcb\" in \"\" even though it was found.\n",
      "This application failed to start because no Qt platform plugin could be initialized. Reinstalling the application may fix this problem.\n",
      "\n",
      "Available platform plugins are: eglfs, linuxfb, minimal, minimalegl, offscreen, vnc, wayland-egl, wayland, wayland-xcomposite-egl, wayland-xcomposite-glx, xcb.\n",
      "\n",
      "Aborted\n",
      "Aborted\n",
      "GKS: can't connect to GKS socket application\n",
      "\n",
      "GKS: Open failed in routine OPEN_WS\n",
      "GKS: GKS not in proper state. GKS must be either in the state WSOP or WSAC in routine ACTIVATE_WS\n",
      "connect: Connection refused\n",
      "GKS: can't connect to GKS socket application\n",
      "\n",
      "GKS: Open failed in routine OPEN_WS\n",
      "GKS: GKS not in proper state. GKS must be either in the state WSOP or WSAC in routine ACTIVATE_WS\n",
      "qt.qpa.xcb: could not connect to display 172.24.64.1:0\n",
      "qt.qpa.xcb: could not connect to display 172.24.64.1:0\n",
      "qt.qpa.plugin: Could not load the Qt platform plugin \"xcb\" in \"\" even though it was found.\n",
      "qt.qpa.plugin: Could not load the Qt platform plugin \"xcb\" in \"\" even though it was found.\n",
      "This application failed to start because no Qt platform plugin could be initialized. Reinstalling the application may fix this problem.\n",
      "\n",
      "Available platform plugins are: eglfs, linuxfb, minimal, minimalegl, offscreen, vnc, wayland-egl, wayland, wayland-xcomposite-egl, wayland-xcomposite-glx, xcb.\n",
      "\n",
      "This application failed to start because no Qt platform plugin could be initialized. Reinstalling the application may fix this problem.\n",
      "\n",
      "Available platform plugins are: eglfs, linuxfb, minimal, minimalegl, offscreen, vnc, wayland-egl, wayland, wayland-xcomposite-egl, wayland-xcomposite-glx, xcb.\n",
      "\n",
      "Aborted\n",
      "Aborted\n",
      "connect: Connection refused\n",
      "GKS: can't connect to GKS socket application\n",
      "\n",
      "GKS: Open failed in routine OPEN_WS\n",
      "GKS: GKS not in proper state. GKS must be either in the state WSOP or WSAC in routine ACTIVATE_WS\n",
      "connect: Connection refused\n",
      "GKS: can't connect to GKS socket application\n",
      "\n",
      "GKS: Open failed in routine OPEN_WS\n",
      "GKS: GKS not in proper state. GKS must be either in the state WSOP or WSAC in routine ACTIVATE_WS\n",
      "qt.qpa.xcb: could not connect to display 172.24.64.1:0\n",
      "qt.qpa.plugin: Could not load the Qt platform plugin \"xcb\" in \"\" even though it was found.\n",
      "This application failed to start because no Qt platform plugin could be initialized. Reinstalling the application may fix this problem.\n",
      "\n",
      "Available platform plugins are: eglfs, linuxfb, minimal, minimalegl, offscreen, vnc, wayland-egl, wayland, wayland-xcomposite-egl, wayland-xcomposite-glx, xcb.\n",
      "\n",
      "Aborted\n",
      "connect: Connection refused\n",
      "GKS: can't connect to GKS socket application\n",
      "\n",
      "GKS: Open failed in routine OPEN_WS\n",
      "GKS: GKS not in proper state. GKS must be either in the state WSOP or WSAC in routine ACTIVATE_WS\n",
      "connect: Connection refused\n",
      "qt.qpa.xcb: could not connect to display 172.24.64.1:0\n",
      "qt.qpa.xcb: could not connect to display 172.24.64.1:0\n",
      "qt.qpa.plugin: Could not load the Qt platform plugin \"xcb\" in \"\" even though it was found.\n",
      "qt.qpa.plugin: Could not load the Qt platform plugin \"xcb\" in \"\" even though it was found.\n",
      "This application failed to start because no Qt platform plugin could be initialized. Reinstalling the application may fix this problem.\n",
      "\n",
      "Available platform plugins are: eglfs, linuxfb, minimal, minimalegl, offscreen, vnc, wayland-egl, wayland, wayland-xcomposite-egl, wayland-xcomposite-glx, xcb.\n",
      "\n",
      "This application failed to start because no Qt platform plugin could be initialized. Reinstalling the application may fix this problem.\n",
      "\n",
      "Available platform plugins are: eglfs, linuxfb, minimal, minimalegl, offscreen, vnc, wayland-egl, wayland, wayland-xcomposite-egl, wayland-xcomposite-glx, xcb.\n",
      "\n",
      "Aborted\n",
      "Aborted\n",
      "GKS: can't connect to GKS socket application\n",
      "\n",
      "GKS: Open failed in routine OPEN_WS\n",
      "GKS: GKS not in proper state. GKS must be either in the state WSOP or WSAC in routine ACTIVATE_WS\n",
      "connect: Connection refused\n",
      "GKS: can't connect to GKS socket application\n",
      "\n",
      "GKS: Open failed in routine OPEN_WS\n",
      "GKS: GKS not in proper state. GKS must be either in the state WSOP or WSAC in routine ACTIVATE_WS\n",
      "qt.qpa.xcb: could not connect to display 172.24.64.1:0\n",
      "qt.qpa.plugin: Could not load the Qt platform plugin \"xcb\" in \"\" even though it was found.\n",
      "qt.qpa.xcb: could not connect to display 172.24.64.1:0\n",
      "This application failed to start because no Qt platform plugin could be initialized. Reinstalling the application may fix this problem.\n",
      "\n",
      "Available platform plugins are: eglfs, linuxfb, minimal, minimalegl, offscreen, vnc, wayland-egl, wayland, wayland-xcomposite-egl, wayland-xcomposite-glx, xcb.\n",
      "\n",
      "qt.qpa.plugin: Could not load the Qt platform plugin \"xcb\" in \"\" even though it was found.\n",
      "This application failed to start because no Qt platform plugin could be initialized. Reinstalling the application may fix this problem.\n",
      "\n",
      "Available platform plugins are: eglfs, linuxfb, minimal, minimalegl, offscreen, vnc, wayland-egl, wayland, wayland-xcomposite-egl, wayland-xcomposite-glx, xcb.\n",
      "\n",
      "Aborted\n",
      "Aborted\n",
      "connect: Connection refused\n",
      "GKS: can't connect to GKS socket application\n",
      "\n",
      "GKS: Open failed in routine OPEN_WS\n",
      "GKS: GKS not in proper state. GKS must be either in the state WSOP or WSAC in routine ACTIVATE_WS\n",
      "connect: Connection refused\n",
      "GKS: can't connect to GKS socket application\n",
      "\n",
      "GKS: Open failed in routine OPEN_WS\n",
      "GKS: GKS not in proper state. GKS must be either in the state WSOP or WSAC in routine ACTIVATE_WS\n",
      "qt.qpa.xcb: could not connect to display 172.24.64.1:0\n",
      "qt.qpa.plugin: Could not load the Qt platform plugin \"xcb\" in \"\" even though it was found.\n",
      "This application failed to start because no Qt platform plugin could be initialized. Reinstalling the application may fix this problem.\n",
      "\n",
      "Available platform plugins are: eglfs, linuxfb, minimal, minimalegl, offscreen, vnc, wayland-egl, wayland, wayland-xcomposite-egl, wayland-xcomposite-glx, xcb.\n",
      "\n",
      "Aborted\n",
      "connect: Connection refused\n",
      "GKS: can't connect to GKS socket application\n",
      "\n",
      "GKS: Open failed in routine OPEN_WS\n",
      "GKS: GKS not in proper state. GKS must be either in the state WSOP or WSAC in routine ACTIVATE_WS\n",
      "connect: Connection refused\n",
      "GKS: can't connect to GKS socket application\n",
      "\n",
      "GKS: Open failed in routine OPEN_WS\n",
      "GKS: GKS not in proper state. GKS must be either in the state WSOP or WSAC in routine ACTIVATE_WS\n",
      "qt.qpa.xcb: could not connect to display 172.24.64.1:0\n",
      "qt.qpa.xcb: could not connect to display 172.24.64.1:0\n",
      "qt.qpa.plugin: Could not load the Qt platform plugin \"xcb\" in \"\" even though it was found.\n",
      "qt.qpa.plugin: Could not load the Qt platform plugin \"xcb\" in \"\" even though it was found.\n",
      "This application failed to start because no Qt platform plugin could be initialized. Reinstalling the application may fix this problem.\n",
      "\n",
      "Available platform plugins are: eglfs, linuxfb, minimal, minimalegl, offscreen, vnc, wayland-egl, wayland, wayland-xcomposite-egl, wayland-xcomposite-glx, xcb.\n",
      "\n",
      "This application failed to start because no Qt platform plugin could be initialized. Reinstalling the application may fix this problem.\n",
      "\n",
      "Available platform plugins are: eglfs, linuxfb, minimal, minimalegl, offscreen, vnc, wayland-egl, wayland, wayland-xcomposite-egl, wayland-xcomposite-glx, xcb.\n",
      "\n",
      "Aborted\n",
      "Aborted\n",
      "connect: Connection refused\n",
      "GKS: can't connect to GKS socket application\n",
      "\n",
      "GKS: Open failed in routine OPEN_WS\n",
      "GKS: GKS not in proper state. GKS must be either in the state WSOP or WSAC in routine ACTIVATE_WS\n",
      "qt.qpa.xcb: could not connect to display 172.24.64.1:0\n",
      "qt.qpa.xcb: could not connect to display 172.24.64.1:0\n",
      "qt.qpa.plugin: Could not load the Qt platform plugin \"xcb\" in \"\" even though it was found.\n",
      "qt.qpa.plugin: Could not load the Qt platform plugin \"xcb\" in \"\" even though it was found.\n",
      "This application failed to start because no Qt platform plugin could be initialized. Reinstalling the application may fix this problem.\n",
      "\n",
      "Available platform plugins are: eglfs, linuxfb, minimal, minimalegl, offscreen, vnc, wayland-egl, wayland, wayland-xcomposite-egl, wayland-xcomposite-glx, xcb.\n",
      "\n",
      "This application failed to start because no Qt platform plugin could be initialized. Reinstalling the application may fix this problem.\n",
      "\n",
      "Available platform plugins are: eglfs, linuxfb, minimal, minimalegl, offscreen, vnc, wayland-egl, wayland, wayland-xcomposite-egl, wayland-xcomposite-glx, xcb.\n",
      "\n",
      "Aborted\n",
      "Aborted\n",
      "connect: Connection refused\n",
      "GKS: can't connect to GKS socket application\n",
      "\n",
      "GKS: Open failed in routine OPEN_WS\n",
      "GKS: GKS not in proper state. GKS must be either in the state WSOP or WSAC in routine ACTIVATE_WS\n",
      "connect: Connection refused\n",
      "GKS: can't connect to GKS socket application\n",
      "\n",
      "GKS: Open failed in routine OPEN_WS\n",
      "GKS: GKS not in proper state. GKS must be either in the state WSOP or WSAC in routine ACTIVATE_WS\n",
      "qt.qpa.xcb: could not connect to display 172.24.64.1:0\n",
      "qt.qpa.plugin: Could not load the Qt platform plugin \"xcb\" in \"\" even though it was found.\n",
      "This application failed to start because no Qt platform plugin could be initialized. Reinstalling the application may fix this problem.\n",
      "\n",
      "Available platform plugins are: eglfs, linuxfb, minimal, minimalegl, offscreen, vnc, wayland-egl, wayland, wayland-xcomposite-egl, wayland-xcomposite-glx, xcb.\n",
      "\n",
      "Aborted\n",
      "connect: Connection refused\n",
      "GKS: can't connect to GKS socket application\n",
      "\n",
      "GKS: Open failed in routine OPEN_WS\n",
      "GKS: GKS not in proper state. GKS must be either in the state WSOP or WSAC in routine ACTIVATE_WS\n",
      "connect: Connection refused\n",
      "GKS: can't connect to GKS socket application\n",
      "\n",
      "GKS: Open failed in routine OPEN_WS\n",
      "GKS: GKS not in proper state. GKS must be either in the state WSOP or WSAC in routine ACTIVATE_WS\n",
      "qt.qpa.xcb: could not connect to display 172.24.64.1:0\n",
      "qt.qpa.xcb: could not connect to display 172.24.64.1:0\n",
      "qt.qpa.plugin: Could not load the Qt platform plugin \"xcb\" in \"\" even though it was found.\n",
      "This application failed to start because no Qt platform plugin could be initialized. Reinstalling the application may fix this problem.\n",
      "\n",
      "Available platform plugins are: eglfs, linuxfb, minimal, minimalegl, offscreen, vnc, wayland-egl, wayland, wayland-xcomposite-egl, wayland-xcomposite-glx, xcb.\n",
      "\n",
      "qt.qpa.plugin: Could not load the Qt platform plugin \"xcb\" in \"\" even though it was found.\n",
      "This application failed to start because no Qt platform plugin could be initialized. Reinstalling the application may fix this problem.\n",
      "\n",
      "Available platform plugins are: eglfs, linuxfb, minimal, minimalegl, offscreen, vnc, wayland-egl, wayland, wayland-xcomposite-egl, wayland-xcomposite-glx, xcb.\n",
      "\n",
      "Aborted\n",
      "Aborted\n",
      "connect: Connection refused\n",
      "GKS: can't connect to GKS socket application\n",
      "\n",
      "GKS: Open failed in routine OPEN_WS\n",
      "GKS: GKS not in proper state. GKS must be either in the state WSOP or WSAC in routine ACTIVATE_WS\n",
      "qt.qpa.xcb: could not connect to display 172.24.64.1:0\n",
      "qt.qpa.plugin: Could not load the Qt platform plugin \"xcb\" in \"\" even though it was found.\n",
      "This application failed to start because no Qt platform plugin could be initialized. Reinstalling the application may fix this problem.\n",
      "\n",
      "Available platform plugins are: eglfs, linuxfb, minimal, minimalegl, offscreen, vnc, wayland-egl, wayland, wayland-xcomposite-egl, wayland-xcomposite-glx, xcb.\n",
      "\n",
      "qt.qpa.xcb: could not connect to display 172.24.64.1:0\n",
      "qt.qpa.plugin: Could not load the Qt platform plugin \"xcb\" in \"\" even though it was found.\n",
      "This application failed to start because no Qt platform plugin could be initialized. Reinstalling the application may fix this problem.\n",
      "\n",
      "Available platform plugins are: eglfs, linuxfb, minimal, minimalegl, offscreen, vnc, wayland-egl, wayland, wayland-xcomposite-egl, wayland-xcomposite-glx, xcb.\n",
      "\n",
      "Aborted\n",
      "Aborted\n",
      "connect: Connection refused\n",
      "GKS: can't connect to GKS socket application\n",
      "\n",
      "GKS: Open failed in routine OPEN_WS\n",
      "GKS: GKS not in proper state. GKS must be either in the state WSOP or WSAC in routine ACTIVATE_WS\n",
      "connect: Connection refused\n",
      "GKS: can't connect to GKS socket application\n",
      "\n",
      "GKS: Open failed in routine OPEN_WS\n",
      "GKS: GKS not in proper state. GKS must be either in the state WSOP or WSAC in routine ACTIVATE_WS\n",
      "qt.qpa.xcb: could not connect to display 172.24.64.1:0\n",
      "qt.qpa.plugin: Could not load the Qt platform plugin \"xcb\" in \"\" even though it was found.\n",
      "This application failed to start because no Qt platform plugin could be initialized. Reinstalling the application may fix this problem.\n",
      "\n",
      "Available platform plugins are: eglfs, linuxfb, minimal, minimalegl, offscreen, vnc, wayland-egl, wayland, wayland-xcomposite-egl, wayland-xcomposite-glx, xcb.\n",
      "\n",
      "Aborted\n",
      "connect: Connection refused\n",
      "GKS: can't connect to GKS socket application\n",
      "\n",
      "GKS: Open failed in routine OPEN_WS\n",
      "GKS: GKS not in proper state. GKS must be either in the state WSOP or WSAC in routine ACTIVATE_WS\n",
      "connect: Connection refused\n",
      "GKS: can't connect to GKS socket application\n",
      "\n",
      "GKS: Open failed in routine OPEN_WS\n",
      "GKS: GKS not in proper state. GKS must be either in the state WSOP or WSAC in routine ACTIVATE_WS\n",
      "qt.qpa.xcb: could not connect to display 172.24.64.1:0\n",
      "qt.qpa.xcb: could not connect to display 172.24.64.1:0\n",
      "qt.qpa.plugin: Could not load the Qt platform plugin \"xcb\" in \"\" even though it was found.\n",
      "This application failed to start because no Qt platform plugin could be initialized. Reinstalling the application may fix this problem.\n",
      "\n",
      "Available platform plugins are: eglfs, linuxfb, minimal, minimalegl, offscreen, vnc, wayland-egl, wayland, wayland-xcomposite-egl, wayland-xcomposite-glx, xcb.\n",
      "\n",
      "qt.qpa.plugin: Could not load the Qt platform plugin \"xcb\" in \"\" even though it was found.\n",
      "This application failed to start because no Qt platform plugin could be initialized. Reinstalling the application may fix this problem.\n",
      "\n",
      "Available platform plugins are: eglfs, linuxfb, minimal, minimalegl, offscreen, vnc, wayland-egl, wayland, wayland-xcomposite-egl, wayland-xcomposite-glx, xcb.\n",
      "\n",
      "Aborted\n",
      "Aborted\n",
      "connect: Connection refused\n",
      "GKS: can't connect to GKS socket application\n",
      "\n",
      "GKS: Open failed in routine OPEN_WS\n",
      "GKS: GKS not in proper state. GKS must be either in the state WSOP or WSAC in routine ACTIVATE_WS\n",
      "qt.qpa.xcb: could not connect to display 172.24.64.1:0\n",
      "qt.qpa.xcb: could not connect to display 172.24.64.1:0\n",
      "qt.qpa.plugin: Could not load the Qt platform plugin \"xcb\" in \"\" even though it was found.\n",
      "qt.qpa.plugin: Could not load the Qt platform plugin \"xcb\" in \"\" even though it was found.\n",
      "This application failed to start because no Qt platform plugin could be initialized. Reinstalling the application may fix this problem.\n",
      "\n",
      "Available platform plugins are: eglfs, linuxfb, minimal, minimalegl, offscreen, vnc, wayland-egl, wayland, wayland-xcomposite-egl, wayland-xcomposite-glx, xcb.\n",
      "\n",
      "This application failed to start because no Qt platform plugin could be initialized. Reinstalling the application may fix this problem.\n",
      "\n",
      "Available platform plugins are: eglfs, linuxfb, minimal, minimalegl, offscreen, vnc, wayland-egl, wayland, wayland-xcomposite-egl, wayland-xcomposite-glx, xcb.\n",
      "\n",
      "Aborted\n",
      "Aborted\n",
      "connect: Connection refused\n",
      "GKS: can't connect to GKS socket application\n",
      "\n",
      "GKS: Open failed in routine OPEN_WS\n",
      "GKS: GKS not in proper state. GKS must be either in the state WSOP or WSAC in routine ACTIVATE_WS\n",
      "connect: Connection refused\n",
      "GKS: can't connect to GKS socket application\n",
      "\n",
      "GKS: Open failed in routine OPEN_WS\n",
      "GKS: GKS not in proper state. GKS must be either in the state WSOP or WSAC in routine ACTIVATE_WS\n",
      "qt.qpa.xcb: could not connect to display 172.24.64.1:0\n",
      "qt.qpa.plugin: Could not load the Qt platform plugin \"xcb\" in \"\" even though it was found.\n",
      "This application failed to start because no Qt platform plugin could be initialized. Reinstalling the application may fix this problem.\n",
      "\n",
      "Available platform plugins are: eglfs, linuxfb, minimal, minimalegl, offscreen, vnc, wayland-egl, wayland, wayland-xcomposite-egl, wayland-xcomposite-glx, xcb.\n",
      "\n",
      "Aborted\n",
      "connect: Connection refused\n",
      "GKS: can't connect to GKS socket application\n",
      "\n",
      "GKS: Open failed in routine OPEN_WS\n",
      "GKS: GKS not in proper state. GKS must be either in the state WSOP or WSAC in routine ACTIVATE_WS\n",
      "connect: Connection refused\n",
      "GKS: can't connect to GKS socket application\n",
      "\n",
      "GKS: Open failed in routine OPEN_WS\n",
      "GKS: GKS not in proper state. GKS must be either in the state WSOP or WSAC in routine ACTIVATE_WS\n",
      "qt.qpa.xcb: could not connect to display 172.24.64.1:0\n",
      "qt.qpa.plugin: Could not load the Qt platform plugin \"xcb\" in \"\" even though it was found.\n",
      "This application failed to start because no Qt platform plugin could be initialized. Reinstalling the application may fix this problem.\n",
      "\n",
      "Available platform plugins are: eglfs, linuxfb, minimal, minimalegl, offscreen, vnc, wayland-egl, wayland, wayland-xcomposite-egl, wayland-xcomposite-glx, xcb.\n",
      "\n",
      "qt.qpa.xcb: could not connect to display 172.24.64.1:0\n",
      "qt.qpa.plugin: Could not load the Qt platform plugin \"xcb\" in \"\" even though it was found.\n",
      "This application failed to start because no Qt platform plugin could be initialized. Reinstalling the application may fix this problem.\n",
      "\n",
      "Available platform plugins are: eglfs, linuxfb, minimal, minimalegl, offscreen, vnc, wayland-egl, wayland, wayland-xcomposite-egl, wayland-xcomposite-glx, xcb.\n",
      "\n",
      "Aborted\n",
      "Aborted\n",
      "connect: Connection refused\n",
      "GKS: can't connect to GKS socket application\n",
      "\n",
      "GKS: Open failed in routine OPEN_WS\n",
      "GKS: GKS not in proper state. GKS must be either in the state WSOP or WSAC in routine ACTIVATE_WS\n",
      "qt.qpa.xcb: could not connect to display 172.24.64.1:0\n",
      "qt.qpa.xcb: could not connect to display 172.24.64.1:0\n",
      "qt.qpa.plugin: Could not load the Qt platform plugin \"xcb\" in \"\" even though it was found.\n",
      "qt.qpa.plugin: Could not load the Qt platform plugin \"xcb\" in \"\" even though it was found.\n",
      "This application failed to start because no Qt platform plugin could be initialized. Reinstalling the application may fix this problem.\n",
      "\n",
      "Available platform plugins are: eglfs, linuxfb, minimal, minimalegl, offscreen, vnc, wayland-egl, wayland, wayland-xcomposite-egl, wayland-xcomposite-glx, xcb.\n",
      "\n",
      "This application failed to start because no Qt platform plugin could be initialized. Reinstalling the application may fix this problem.\n",
      "\n",
      "Available platform plugins are: eglfs, linuxfb, minimal, minimalegl, offscreen, vnc, wayland-egl, wayland, wayland-xcomposite-egl, wayland-xcomposite-glx, xcb.\n",
      "\n",
      "Aborted\n",
      "Aborted\n",
      "connect: Connection refused\n",
      "GKS: can't connect to GKS socket application\n",
      "\n",
      "GKS: Open failed in routine OPEN_WS\n",
      "GKS: GKS not in proper state. GKS must be either in the state WSOP or WSAC in routine ACTIVATE_WS\n",
      "connect: Connection refused\n",
      "GKS: can't connect to GKS socket application\n",
      "\n",
      "GKS: Open failed in routine OPEN_WS\n",
      "GKS: GKS not in proper state. GKS must be either in the state WSOP or WSAC in routine ACTIVATE_WS\n",
      "qt.qpa.xcb: could not connect to display 172.24.64.1:0\n",
      "qt.qpa.xcb: could not connect to display 172.24.64.1:0\n",
      "qt.qpa.plugin: Could not load the Qt platform plugin \"xcb\" in \"\" even though it was found.\n",
      "qt.qpa.plugin: Could not load the Qt platform plugin \"xcb\" in \"\" even though it was found.\n",
      "This application failed to start because no Qt platform plugin could be initialized. Reinstalling the application may fix this problem.\n",
      "\n",
      "Available platform plugins are: eglfs, linuxfb, minimal, minimalegl, offscreen, vnc, wayland-egl, wayland, wayland-xcomposite-egl, wayland-xcomposite-glx, xcb.\n",
      "\n",
      "This application failed to start because no Qt platform plugin could be initialized. Reinstalling the application may fix this problem.\n",
      "\n",
      "Available platform plugins are: eglfs, linuxfb, minimal, minimalegl, offscreen, vnc, wayland-egl, wayland, wayland-xcomposite-egl, wayland-xcomposite-glx, xcb.\n",
      "\n",
      "Aborted\n",
      "Aborted\n",
      "connect: Connection refused\n",
      "GKS: can't connect to GKS socket application\n",
      "\n",
      "GKS: Open failed in routine OPEN_WS\n",
      "GKS: GKS not in proper state. GKS must be either in the state WSOP or WSAC in routine ACTIVATE_WS\n",
      "connect: Connection refused\n",
      "GKS: can't connect to GKS socket application\n",
      "\n",
      "GKS: Open failed in routine OPEN_WS\n",
      "GKS: GKS not in proper state. GKS must be either in the state WSOP or WSAC in routine ACTIVATE_WS\n",
      "qt.qpa.xcb: could not connect to display 172.24.64.1:0\n",
      "qt.qpa.plugin: Could not load the Qt platform plugin \"xcb\" in \"\" even though it was found.\n",
      "This application failed to start because no Qt platform plugin could be initialized. Reinstalling the application may fix this problem.\n",
      "\n",
      "Available platform plugins are: eglfs, linuxfb, minimal, minimalegl, offscreen, vnc, wayland-egl, wayland, wayland-xcomposite-egl, wayland-xcomposite-glx, xcb.\n",
      "\n",
      "Aborted\n",
      "connect: Connection refused\n",
      "GKS: can't connect to GKS socket application\n",
      "\n",
      "GKS: Open failed in routine OPEN_WS\n",
      "GKS: GKS not in proper state. GKS must be either in the state WSOP or WSAC in routine ACTIVATE_WS\n",
      "connect: Connection refused\n",
      "qt.qpa.xcb: could not connect to display 172.24.64.1:0\n",
      "qt.qpa.xcb: could not connect to display 172.24.64.1:0\n",
      "qt.qpa.plugin: Could not load the Qt platform plugin \"xcb\" in \"\" even though it was found.\n",
      "qt.qpa.plugin: Could not load the Qt platform plugin \"xcb\" in \"\" even though it was found.\n",
      "This application failed to start because no Qt platform plugin could be initialized. Reinstalling the application may fix this problem.\n",
      "\n",
      "Available platform plugins are: eglfs, linuxfb, minimal, minimalegl, offscreen, vnc, wayland-egl, wayland, wayland-xcomposite-egl, wayland-xcomposite-glx, xcb.\n",
      "\n",
      "This application failed to start because no Qt platform plugin could be initialized. Reinstalling the application may fix this problem.\n",
      "\n",
      "Available platform plugins are: eglfs, linuxfb, minimal, minimalegl, offscreen, vnc, wayland-egl, wayland, wayland-xcomposite-egl, wayland-xcomposite-glx, xcb.\n",
      "\n",
      "Aborted\n",
      "Aborted\n",
      "GKS: can't connect to GKS socket application\n",
      "\n",
      "GKS: Open failed in routine OPEN_WS\n",
      "GKS: GKS not in proper state. GKS must be either in the state WSOP or WSAC in routine ACTIVATE_WS\n",
      "connect: Connection refused\n",
      "GKS: can't connect to GKS socket application\n",
      "\n",
      "GKS: Open failed in routine OPEN_WS\n",
      "GKS: GKS not in proper state. GKS must be either in the state WSOP or WSAC in routine ACTIVATE_WS\n",
      "qt.qpa.xcb: could not connect to display 172.24.64.1:0\n",
      "qt.qpa.xcb: could not connect to display 172.24.64.1:0\n",
      "qt.qpa.plugin: Could not load the Qt platform plugin \"xcb\" in \"\" even though it was found.\n",
      "qt.qpa.plugin: Could not load the Qt platform plugin \"xcb\" in \"\" even though it was found.\n",
      "This application failed to start because no Qt platform plugin could be initialized. Reinstalling the application may fix this problem.\n",
      "\n",
      "Available platform plugins are: eglfs, linuxfb, minimal, minimalegl, offscreen, vnc, wayland-egl, wayland, wayland-xcomposite-egl, wayland-xcomposite-glx, xcb.\n",
      "\n",
      "This application failed to start because no Qt platform plugin could be initialized. Reinstalling the application may fix this problem.\n",
      "\n",
      "Available platform plugins are: eglfs, linuxfb, minimal, minimalegl, offscreen, vnc, wayland-egl, wayland, wayland-xcomposite-egl, wayland-xcomposite-glx, xcb.\n",
      "\n",
      "Aborted\n",
      "Aborted\n",
      "connect: Connection refused\n",
      "GKS: can't connect to GKS socket application\n",
      "\n",
      "GKS: Open failed in routine OPEN_WS\n",
      "GKS: GKS not in proper state. GKS must be either in the state WSOP or WSAC in routine ACTIVATE_WS\n",
      "connect: Connection refused\n",
      "GKS: can't connect to GKS socket application\n",
      "\n",
      "GKS: Open failed in routine OPEN_WS\n",
      "GKS: GKS not in proper state. GKS must be either in the state WSOP or WSAC in routine ACTIVATE_WS\n",
      "qt.qpa.xcb: could not connect to display 172.24.64.1:0\n",
      "qt.qpa.plugin: Could not load the Qt platform plugin \"xcb\" in \"\" even though it was found.\n",
      "This application failed to start because no Qt platform plugin could be initialized. Reinstalling the application may fix this problem.\n",
      "\n",
      "Available platform plugins are: eglfs, linuxfb, minimal, minimalegl, offscreen, vnc, wayland-egl, wayland, wayland-xcomposite-egl, wayland-xcomposite-glx, xcb.\n",
      "\n",
      "Aborted\n",
      "connect: Connection refused\n",
      "GKS: can't connect to GKS socket application\n",
      "\n",
      "GKS: Open failed in routine OPEN_WS\n",
      "GKS: GKS not in proper state. GKS must be either in the state WSOP or WSAC in routine ACTIVATE_WS\n",
      "connect: Connection refused\n",
      "qt.qpa.xcb: could not connect to display 172.24.64.1:0\n",
      "qt.qpa.xcb: could not connect to display 172.24.64.1:0\n",
      "qt.qpa.plugin: Could not load the Qt platform plugin \"xcb\" in \"\" even though it was found.\n",
      "qt.qpa.plugin: Could not load the Qt platform plugin \"xcb\" in \"\" even though it was found.\n",
      "This application failed to start because no Qt platform plugin could be initialized. Reinstalling the application may fix this problem.\n",
      "\n",
      "Available platform plugins are: eglfs, linuxfb, minimal, minimalegl, offscreen, vnc, wayland-egl, wayland, wayland-xcomposite-egl, wayland-xcomposite-glx, xcb.\n",
      "\n",
      "This application failed to start because no Qt platform plugin could be initialized. Reinstalling the application may fix this problem.\n",
      "\n",
      "Available platform plugins are: eglfs, linuxfb, minimal, minimalegl, offscreen, vnc, wayland-egl, wayland, wayland-xcomposite-egl, wayland-xcomposite-glx, xcb.\n",
      "\n",
      "Aborted\n",
      "Aborted\n",
      "GKS: can't connect to GKS socket application\n",
      "\n",
      "GKS: Open failed in routine OPEN_WS\n",
      "GKS: GKS not in proper state. GKS must be either in the state WSOP or WSAC in routine ACTIVATE_WS\n",
      "connect: Connection refused\n",
      "GKS: can't connect to GKS socket application\n",
      "\n",
      "GKS: Open failed in routine OPEN_WS\n",
      "GKS: GKS not in proper state. GKS must be either in the state WSOP or WSAC in routine ACTIVATE_WS\n",
      "qt.qpa.xcb: could not connect to display 172.24.64.1:0\n",
      "qt.qpa.plugin: Could not load the Qt platform plugin \"xcb\" in \"\" even though it was found.\n",
      "This application failed to start because no Qt platform plugin could be initialized. Reinstalling the application may fix this problem.\n",
      "\n",
      "Available platform plugins are: eglfs, linuxfb, minimal, minimalegl, offscreen, vnc, wayland-egl, wayland, wayland-xcomposite-egl, wayland-xcomposite-glx, xcb.\n",
      "\n",
      "qt.qpa.xcb: could not connect to display 172.24.64.1:0\n",
      "qt.qpa.plugin: Could not load the Qt platform plugin \"xcb\" in \"\" even though it was found.\n",
      "This application failed to start because no Qt platform plugin could be initialized. Reinstalling the application may fix this problem.\n",
      "\n",
      "Available platform plugins are: eglfs, linuxfb, minimal, minimalegl, offscreen, vnc, wayland-egl, wayland, wayland-xcomposite-egl, wayland-xcomposite-glx, xcb.\n",
      "\n",
      "Aborted\n",
      "Aborted\n",
      "connect: Connection refused\n",
      "GKS: can't connect to GKS socket application\n",
      "\n",
      "GKS: Open failed in routine OPEN_WS\n",
      "GKS: GKS not in proper state. GKS must be either in the state WSOP or WSAC in routine ACTIVATE_WS\n",
      "connect: Connection refused\n",
      "GKS: can't connect to GKS socket application\n",
      "\n",
      "GKS: Open failed in routine OPEN_WS\n",
      "GKS: GKS not in proper state. GKS must be either in the state WSOP or WSAC in routine ACTIVATE_WS\n",
      "qt.qpa.xcb: could not connect to display 172.24.64.1:0\n",
      "qt.qpa.plugin: Could not load the Qt platform plugin \"xcb\" in \"\" even though it was found.\n",
      "This application failed to start because no Qt platform plugin could be initialized. Reinstalling the application may fix this problem.\n",
      "\n",
      "Available platform plugins are: eglfs, linuxfb, minimal, minimalegl, offscreen, vnc, wayland-egl, wayland, wayland-xcomposite-egl, wayland-xcomposite-glx, xcb.\n",
      "\n",
      "Aborted\n",
      "connect: Connection refused\n",
      "GKS: can't connect to GKS socket application\n",
      "\n",
      "GKS: Open failed in routine OPEN_WS\n",
      "GKS: GKS not in proper state. GKS must be either in the state WSOP or WSAC in routine ACTIVATE_WS\n",
      "connect: Connection refused\n",
      "GKS: can't connect to GKS socket application\n",
      "\n",
      "GKS: Open failed in routine OPEN_WS\n",
      "GKS: GKS not in proper state. GKS must be either in the state WSOP or WSAC in routine ACTIVATE_WS\n",
      "qt.qpa.xcb: could not connect to display 172.24.64.1:0\n",
      "qt.qpa.xcb: could not connect to display 172.24.64.1:0\n",
      "qt.qpa.plugin: Could not load the Qt platform plugin \"xcb\" in \"\" even though it was found.\n",
      "qt.qpa.plugin: Could not load the Qt platform plugin \"xcb\" in \"\" even though it was found.\n",
      "This application failed to start because no Qt platform plugin could be initialized. Reinstalling the application may fix this problem.\n",
      "\n",
      "Available platform plugins are: eglfs, linuxfb, minimal, minimalegl, offscreen, vnc, wayland-egl, wayland, wayland-xcomposite-egl, wayland-xcomposite-glx, xcb.\n",
      "\n",
      "This application failed to start because no Qt platform plugin could be initialized. Reinstalling the application may fix this problem.\n",
      "\n",
      "Available platform plugins are: eglfs, linuxfb, minimal, minimalegl, offscreen, vnc, wayland-egl, wayland, wayland-xcomposite-egl, wayland-xcomposite-glx, xcb.\n",
      "\n",
      "Aborted\n",
      "Aborted\n",
      "connect: Connection refused\n",
      "GKS: can't connect to GKS socket application\n",
      "\n",
      "GKS: Open failed in routine OPEN_WS\n",
      "GKS: GKS not in proper state. GKS must be either in the state WSOP or WSAC in routine ACTIVATE_WS\n",
      "qt.qpa.xcb: could not connect to display 172.24.64.1:0\n",
      "qt.qpa.plugin: Could not load the Qt platform plugin \"xcb\" in \"\" even though it was found.\n",
      "This application failed to start because no Qt platform plugin could be initialized. Reinstalling the application may fix this problem.\n",
      "\n",
      "Available platform plugins are: eglfs, linuxfb, minimal, minimalegl, offscreen, vnc, wayland-egl, wayland, wayland-xcomposite-egl, wayland-xcomposite-glx, xcb.\n",
      "\n",
      "qt.qpa.xcb: could not connect to display 172.24.64.1:0\n",
      "qt.qpa.plugin: Could not load the Qt platform plugin \"xcb\" in \"\" even though it was found.\n",
      "This application failed to start because no Qt platform plugin could be initialized. Reinstalling the application may fix this problem.\n",
      "\n",
      "Available platform plugins are: eglfs, linuxfb, minimal, minimalegl, offscreen, vnc, wayland-egl, wayland, wayland-xcomposite-egl, wayland-xcomposite-glx, xcb.\n",
      "\n",
      "Aborted\n",
      "Aborted\n",
      "connect: Connection refused\n",
      "GKS: can't connect to GKS socket application\n",
      "\n",
      "GKS: Open failed in routine OPEN_WS\n",
      "GKS: GKS not in proper state. GKS must be either in the state WSOP or WSAC in routine ACTIVATE_WS\n",
      "connect: Connection refused\n",
      "GKS: can't connect to GKS socket application\n",
      "\n",
      "GKS: Open failed in routine OPEN_WS\n",
      "GKS: GKS not in proper state. GKS must be either in the state WSOP or WSAC in routine ACTIVATE_WS\n",
      "qt.qpa.xcb: could not connect to display 172.24.64.1:0\n",
      "qt.qpa.plugin: Could not load the Qt platform plugin \"xcb\" in \"\" even though it was found.\n",
      "This application failed to start because no Qt platform plugin could be initialized. Reinstalling the application may fix this problem.\n",
      "\n",
      "Available platform plugins are: eglfs, linuxfb, minimal, minimalegl, offscreen, vnc, wayland-egl, wayland, wayland-xcomposite-egl, wayland-xcomposite-glx, xcb.\n",
      "\n",
      "Aborted\n",
      "connect: Connection refused\n",
      "GKS: can't connect to GKS socket application\n",
      "\n",
      "GKS: Open failed in routine OPEN_WS\n",
      "GKS: GKS not in proper state. GKS must be either in the state WSOP or WSAC in routine ACTIVATE_WS\n",
      "connect: Connection refused\n",
      "GKS: can't connect to GKS socket application\n",
      "\n",
      "GKS: Open failed in routine OPEN_WS\n",
      "GKS: GKS not in proper state. GKS must be either in the state WSOP or WSAC in routine ACTIVATE_WS\n",
      "qt.qpa.xcb: could not connect to display 172.24.64.1:0\n",
      "qt.qpa.xcb: could not connect to display 172.24.64.1:0\n",
      "qt.qpa.plugin: Could not load the Qt platform plugin \"xcb\" in \"\" even though it was found.\n",
      "This application failed to start because no Qt platform plugin could be initialized. Reinstalling the application may fix this problem.\n",
      "\n",
      "Available platform plugins are: eglfs, linuxfb, minimal, minimalegl, offscreen, vnc, wayland-egl, wayland, wayland-xcomposite-egl, wayland-xcomposite-glx, xcb.\n",
      "\n",
      "qt.qpa.plugin: Could not load the Qt platform plugin \"xcb\" in \"\" even though it was found.\n",
      "This application failed to start because no Qt platform plugin could be initialized. Reinstalling the application may fix this problem.\n",
      "\n",
      "Available platform plugins are: eglfs, linuxfb, minimal, minimalegl, offscreen, vnc, wayland-egl, wayland, wayland-xcomposite-egl, wayland-xcomposite-glx, xcb.\n",
      "\n",
      "Aborted\n",
      "Aborted\n",
      "connect: Connection refused\n",
      "GKS: can't connect to GKS socket application\n",
      "\n",
      "GKS: Open failed in routine OPEN_WS\n",
      "GKS: GKS not in proper state. GKS must be either in the state WSOP or WSAC in routine ACTIVATE_WS\n",
      "qt.qpa.xcb: could not connect to display 172.24.64.1:0\n",
      "qt.qpa.xcb: could not connect to display 172.24.64.1:0\n",
      "qt.qpa.plugin: Could not load the Qt platform plugin \"xcb\" in \"\" even though it was found.\n",
      "This application failed to start because no Qt platform plugin could be initialized. Reinstalling the application may fix this problem.\n",
      "\n",
      "Available platform plugins are: eglfs, linuxfb, minimal, minimalegl, offscreen, vnc, wayland-egl, wayland, wayland-xcomposite-egl, wayland-xcomposite-glx, xcb.\n",
      "\n",
      "qt.qpa.plugin: Could not load the Qt platform plugin \"xcb\" in \"\" even though it was found.\n",
      "This application failed to start because no Qt platform plugin could be initialized. Reinstalling the application may fix this problem.\n",
      "\n",
      "Available platform plugins are: eglfs, linuxfb, minimal, minimalegl, offscreen, vnc, wayland-egl, wayland, wayland-xcomposite-egl, wayland-xcomposite-glx, xcb.\n",
      "\n",
      "Aborted\n",
      "Aborted\n",
      "connect: Connection refused\n",
      "GKS: can't connect to GKS socket application\n",
      "\n",
      "GKS: Open failed in routine OPEN_WS\n",
      "GKS: GKS not in proper state. GKS must be either in the state WSOP or WSAC in routine ACTIVATE_WS\n",
      "connect: Connection refused\n",
      "GKS: can't connect to GKS socket application\n",
      "\n",
      "GKS: Open failed in routine OPEN_WS\n",
      "GKS: GKS not in proper state. GKS must be either in the state WSOP or WSAC in routine ACTIVATE_WS\n",
      "qt.qpa.xcb: could not connect to display 172.24.64.1:0\n",
      "qt.qpa.plugin: Could not load the Qt platform plugin \"xcb\" in \"\" even though it was found.\n",
      "This application failed to start because no Qt platform plugin could be initialized. Reinstalling the application may fix this problem.\n",
      "\n",
      "Available platform plugins are: eglfs, linuxfb, minimal, minimalegl, offscreen, vnc, wayland-egl, wayland, wayland-xcomposite-egl, wayland-xcomposite-glx, xcb.\n",
      "\n",
      "Aborted\n",
      "connect: Connection refused\n",
      "GKS: can't connect to GKS socket application\n",
      "\n",
      "GKS: Open failed in routine OPEN_WS\n",
      "GKS: GKS not in proper state. GKS must be either in the state WSOP or WSAC in routine ACTIVATE_WS\n",
      "connect: Connection refused\n",
      "GKS: can't connect to GKS socket application\n",
      "\n",
      "GKS: Open failed in routine OPEN_WS\n",
      "GKS: GKS not in proper state. GKS must be either in the state WSOP or WSAC in routine ACTIVATE_WS\n",
      "qt.qpa.xcb: could not connect to display 172.24.64.1:0\n",
      "qt.qpa.plugin: Could not load the Qt platform plugin \"xcb\" in \"\" even though it was found.\n",
      "This application failed to start because no Qt platform plugin could be initialized. Reinstalling the application may fix this problem.\n",
      "\n",
      "Available platform plugins are: eglfs, linuxfb, minimal, minimalegl, offscreen, vnc, wayland-egl, wayland, wayland-xcomposite-egl, wayland-xcomposite-glx, xcb.\n",
      "\n",
      "qt.qpa.xcb: could not connect to display 172.24.64.1:0\n",
      "qt.qpa.plugin: Could not load the Qt platform plugin \"xcb\" in \"\" even though it was found.\n",
      "This application failed to start because no Qt platform plugin could be initialized. Reinstalling the application may fix this problem.\n",
      "\n",
      "Available platform plugins are: eglfs, linuxfb, minimal, minimalegl, offscreen, vnc, wayland-egl, wayland, wayland-xcomposite-egl, wayland-xcomposite-glx, xcb.\n",
      "\n",
      "Aborted\n",
      "Aborted\n",
      "connect: Connection refused\n",
      "GKS: can't connect to GKS socket application\n",
      "\n",
      "GKS: Open failed in routine OPEN_WS\n",
      "GKS: GKS not in proper state. GKS must be either in the state WSOP or WSAC in routine ACTIVATE_WS\n",
      "qt.qpa.xcb: could not connect to display 172.24.64.1:0\n",
      "qt.qpa.plugin: Could not load the Qt platform plugin \"xcb\" in \"\" even though it was found.\n",
      "This application failed to start because no Qt platform plugin could be initialized. Reinstalling the application may fix this problem.\n",
      "\n",
      "Available platform plugins are: eglfs, linuxfb, minimal, minimalegl, offscreen, vnc, wayland-egl, wayland, wayland-xcomposite-egl, wayland-xcomposite-glx, xcb.\n",
      "\n",
      "qt.qpa.xcb: could not connect to display 172.24.64.1:0\n",
      "qt.qpa.plugin: Could not load the Qt platform plugin \"xcb\" in \"\" even though it was found.\n",
      "This application failed to start because no Qt platform plugin could be initialized. Reinstalling the application may fix this problem.\n",
      "\n",
      "Available platform plugins are: eglfs, linuxfb, minimal, minimalegl, offscreen, vnc, wayland-egl, wayland, wayland-xcomposite-egl, wayland-xcomposite-glx, xcb.\n",
      "\n",
      "Aborted\n",
      "Aborted\n",
      "connect: Connection refused\n",
      "GKS: can't connect to GKS socket application\n",
      "\n",
      "GKS: Open failed in routine OPEN_WS\n",
      "GKS: GKS not in proper state. GKS must be either in the state WSOP or WSAC in routine ACTIVATE_WS\n",
      "connect: Connection refused\n",
      "GKS: can't connect to GKS socket application\n",
      "\n",
      "GKS: Open failed in routine OPEN_WS\n",
      "GKS: GKS not in proper state. GKS must be either in the state WSOP or WSAC in routine ACTIVATE_WS\n",
      "qt.qpa.xcb: could not connect to display 172.24.64.1:0\n",
      "qt.qpa.xcb: could not connect to display 172.24.64.1:0\n",
      "qt.qpa.plugin: Could not load the Qt platform plugin \"xcb\" in \"\" even though it was found.\n",
      "This application failed to start because no Qt platform plugin could be initialized. Reinstalling the application may fix this problem.\n",
      "\n",
      "Available platform plugins are: eglfs, linuxfb, minimal, minimalegl, offscreen, vnc, wayland-egl, wayland, wayland-xcomposite-egl, wayland-xcomposite-glx, xcb.\n",
      "\n",
      "qt.qpa.plugin: Could not load the Qt platform plugin \"xcb\" in \"\" even though it was found.\n",
      "This application failed to start because no Qt platform plugin could be initialized. Reinstalling the application may fix this problem.\n",
      "\n",
      "Available platform plugins are: eglfs, linuxfb, minimal, minimalegl, offscreen, vnc, wayland-egl, wayland, wayland-xcomposite-egl, wayland-xcomposite-glx, xcb.\n",
      "\n",
      "Aborted\n",
      "Aborted\n",
      "connect: Connection refused\n",
      "GKS: can't connect to GKS socket application\n",
      "\n",
      "GKS: Open failed in routine OPEN_WS\n",
      "GKS: GKS not in proper state. GKS must be either in the state WSOP or WSAC in routine ACTIVATE_WS\n",
      "connect: Connection refused\n",
      "GKS: can't connect to GKS socket application\n",
      "\n",
      "GKS: Open failed in routine OPEN_WS\n",
      "GKS: GKS not in proper state. GKS must be either in the state WSOP or WSAC in routine ACTIVATE_WS\n",
      "qt.qpa.xcb: could not connect to display 172.24.64.1:0\n",
      "qt.qpa.plugin: Could not load the Qt platform plugin \"xcb\" in \"\" even though it was found.\n",
      "This application failed to start because no Qt platform plugin could be initialized. Reinstalling the application may fix this problem.\n",
      "\n",
      "Available platform plugins are: eglfs, linuxfb, minimal, minimalegl, offscreen, vnc, wayland-egl, wayland, wayland-xcomposite-egl, wayland-xcomposite-glx, xcb.\n",
      "\n",
      "Aborted\n",
      "connect: Connection refused\n",
      "GKS: can't connect to GKS socket application\n",
      "\n",
      "GKS: Open failed in routine OPEN_WS\n",
      "GKS: GKS not in proper state. GKS must be either in the state WSOP or WSAC in routine ACTIVATE_WS\n",
      "qt.qpa.xcb: could not connect to display 172.24.64.1:0\n",
      "qt.qpa.xcb: could not connect to display 172.24.64.1:0\n",
      "qt.qpa.plugin: Could not load the Qt platform plugin \"xcb\" in \"\" even though it was found.\n",
      "This application failed to start because no Qt platform plugin could be initialized. Reinstalling the application may fix this problem.\n",
      "\n",
      "Available platform plugins are: eglfs, linuxfb, minimal, minimalegl, offscreen, vnc, wayland-egl, wayland, wayland-xcomposite-egl, wayland-xcomposite-glx, xcb.\n",
      "\n",
      "qt.qpa.plugin: Could not load the Qt platform plugin \"xcb\" in \"\" even though it was found.\n",
      "This application failed to start because no Qt platform plugin could be initialized. Reinstalling the application may fix this problem.\n",
      "\n",
      "Available platform plugins are: eglfs, linuxfb, minimal, minimalegl, offscreen, vnc, wayland-egl, wayland, wayland-xcomposite-egl, wayland-xcomposite-glx, xcb.\n",
      "\n",
      "Aborted\n",
      "Aborted\n",
      "connect: Connection refused\n",
      "GKS: can't connect to GKS socket application\n",
      "\n",
      "GKS: Open failed in routine OPEN_WS\n",
      "GKS: GKS not in proper state. GKS must be either in the state WSOP or WSAC in routine ACTIVATE_WS\n",
      "connect: Connection refused\n",
      "GKS: can't connect to GKS socket application\n",
      "\n",
      "GKS: Open failed in routine OPEN_WS\n",
      "GKS: GKS not in proper state. GKS must be either in the state WSOP or WSAC in routine ACTIVATE_WS\n",
      "qt.qpa.xcb: could not connect to display 172.24.64.1:0\n",
      "qt.qpa.xcb: could not connect to display 172.24.64.1:0\n",
      "qt.qpa.plugin: Could not load the Qt platform plugin \"xcb\" in \"\" even though it was found.\n",
      "qt.qpa.plugin: Could not load the Qt platform plugin \"xcb\" in \"\" even though it was found.\n",
      "This application failed to start because no Qt platform plugin could be initialized. Reinstalling the application may fix this problem.\n",
      "\n",
      "Available platform plugins are: eglfs, linuxfb, minimal, minimalegl, offscreen, vnc, wayland-egl, wayland, wayland-xcomposite-egl, wayland-xcomposite-glx, xcb.\n",
      "\n",
      "This application failed to start because no Qt platform plugin could be initialized. Reinstalling the application may fix this problem.\n",
      "\n",
      "Available platform plugins are: eglfs, linuxfb, minimal, minimalegl, offscreen, vnc, wayland-egl, wayland, wayland-xcomposite-egl, wayland-xcomposite-glx, xcb.\n",
      "\n",
      "Aborted\n",
      "Aborted\n",
      "connect: Connection refused\n",
      "GKS: can't connect to GKS socket application\n",
      "\n",
      "GKS: Open failed in routine OPEN_WS\n",
      "GKS: GKS not in proper state. GKS must be either in the state WSOP or WSAC in routine ACTIVATE_WS\n",
      "connect: Connection refused\n",
      "GKS: can't connect to GKS socket application\n",
      "\n",
      "GKS: Open failed in routine OPEN_WS\n",
      "GKS: GKS not in proper state. GKS must be either in the state WSOP or WSAC in routine ACTIVATE_WS\n",
      "qt.qpa.xcb: could not connect to display 172.24.64.1:0\n",
      "qt.qpa.plugin: Could not load the Qt platform plugin \"xcb\" in \"\" even though it was found.\n",
      "This application failed to start because no Qt platform plugin could be initialized. Reinstalling the application may fix this problem.\n",
      "\n",
      "Available platform plugins are: eglfs, linuxfb, minimal, minimalegl, offscreen, vnc, wayland-egl, wayland, wayland-xcomposite-egl, wayland-xcomposite-glx, xcb.\n",
      "\n",
      "Aborted\n",
      "connect: Connection refused\n",
      "GKS: can't connect to GKS socket application\n",
      "\n",
      "GKS: Open failed in routine OPEN_WS\n",
      "GKS: GKS not in proper state. GKS must be either in the state WSOP or WSAC in routine ACTIVATE_WS\n",
      "connect: Connection refused\n",
      "qt.qpa.xcb: could not connect to display 172.24.64.1:0\n",
      "qt.qpa.plugin: Could not load the Qt platform plugin \"xcb\" in \"\" even though it was found.\n",
      "qt.qpa.xcb: could not connect to display 172.24.64.1:0\n",
      "This application failed to start because no Qt platform plugin could be initialized. Reinstalling the application may fix this problem.\n",
      "\n",
      "Available platform plugins are: eglfs, linuxfb, minimal, minimalegl, offscreen, vnc, wayland-egl, wayland, wayland-xcomposite-egl, wayland-xcomposite-glx, xcb.\n",
      "\n",
      "qt.qpa.plugin: Could not load the Qt platform plugin \"xcb\" in \"\" even though it was found.\n",
      "This application failed to start because no Qt platform plugin could be initialized. Reinstalling the application may fix this problem.\n",
      "\n",
      "Available platform plugins are: eglfs, linuxfb, minimal, minimalegl, offscreen, vnc, wayland-egl, wayland, wayland-xcomposite-egl, wayland-xcomposite-glx, xcb.\n",
      "\n",
      "Aborted\n",
      "Aborted\n",
      "GKS: can't connect to GKS socket application\n",
      "\n",
      "GKS: Open failed in routine OPEN_WS\n",
      "GKS: GKS not in proper state. GKS must be either in the state WSOP or WSAC in routine ACTIVATE_WS\n",
      "connect: Connection refused\n",
      "GKS: can't connect to GKS socket application\n",
      "\n",
      "GKS: Open failed in routine OPEN_WS\n",
      "GKS: GKS not in proper state. GKS must be either in the state WSOP or WSAC in routine ACTIVATE_WS\n",
      "qt.qpa.xcb: could not connect to display 172.24.64.1:0\n",
      "qt.qpa.xcb: could not connect to display 172.24.64.1:0\n",
      "qt.qpa.plugin: Could not load the Qt platform plugin \"xcb\" in \"\" even though it was found.\n",
      "qt.qpa.plugin: Could not load the Qt platform plugin \"xcb\" in \"\" even though it was found.\n",
      "This application failed to start because no Qt platform plugin could be initialized. Reinstalling the application may fix this problem.\n",
      "\n",
      "Available platform plugins are: eglfs, linuxfb, minimal, minimalegl, offscreen, vnc, wayland-egl, wayland, wayland-xcomposite-egl, wayland-xcomposite-glx, xcb.\n",
      "\n",
      "This application failed to start because no Qt platform plugin could be initialized. Reinstalling the application may fix this problem.\n",
      "\n",
      "Available platform plugins are: eglfs, linuxfb, minimal, minimalegl, offscreen, vnc, wayland-egl, wayland, wayland-xcomposite-egl, wayland-xcomposite-glx, xcb.\n",
      "\n",
      "Aborted\n",
      "Aborted\n",
      "connect: Connection refused\n",
      "GKS: can't connect to GKS socket application\n",
      "\n",
      "GKS: Open failed in routine OPEN_WS\n",
      "GKS: GKS not in proper state. GKS must be either in the state WSOP or WSAC in routine ACTIVATE_WS\n",
      "connect: Connection refused\n",
      "GKS: can't connect to GKS socket application\n",
      "\n",
      "GKS: Open failed in routine OPEN_WS\n",
      "GKS: GKS not in proper state. GKS must be either in the state WSOP or WSAC in routine ACTIVATE_WS\n",
      "qt.qpa.xcb: could not connect to display 172.24.64.1:0\n",
      "qt.qpa.plugin: Could not load the Qt platform plugin \"xcb\" in \"\" even though it was found.\n",
      "This application failed to start because no Qt platform plugin could be initialized. Reinstalling the application may fix this problem.\n",
      "\n",
      "Available platform plugins are: eglfs, linuxfb, minimal, minimalegl, offscreen, vnc, wayland-egl, wayland, wayland-xcomposite-egl, wayland-xcomposite-glx, xcb.\n",
      "\n",
      "Aborted\n"
     ]
    },
    {
     "name": "stderr",
     "output_type": "stream",
     "text": [
      "qt.qpa.xcb: could not connect to display 172.24.64.1:0\n",
      "qt.qpa.xcb: could not connect to display 172.24.64.1:0\n",
      "qt.qpa.plugin: Could not load the Qt platform plugin \"xcb\" in \"\" even though it was found.\n",
      "qt.qpa.plugin: Could not load the Qt platform plugin \"xcb\" in \"\" even though it was found.\n",
      "This application failed to start because no Qt platform plugin could be initialized. Reinstalling the application may fix this problem.\n",
      "\n",
      "Available platform plugins are: eglfs, linuxfb, minimal, minimalegl, offscreen, vnc, wayland-egl, wayland, wayland-xcomposite-egl, wayland-xcomposite-glx, xcb.\n",
      "\n",
      "This application failed to start because no Qt platform plugin could be initialized. Reinstalling the application may fix this problem.\n",
      "\n",
      "Available platform plugins are: eglfs, linuxfb, minimal, minimalegl, offscreen, vnc, wayland-egl, wayland, wayland-xcomposite-egl, wayland-xcomposite-glx, xcb.\n",
      "\n",
      "Aborted\n"
     ]
    },
    {
     "name": "stderr",
     "output_type": "stream",
     "text": [
      "Aborted\n"
     ]
    },
    {
     "name": "stderr",
     "output_type": "stream",
     "text": [
      "┌ Info: Saved animation to \n",
      "│   fn = /tmp/jl_REcFA7.gif\n",
      "└ @ Plots /root/.julia/packages/Plots/8GUYs/src/animation.jl:102\n"
     ]
    },
    {
     "data": {
      "text/html": [
       "<img src=\"data:image/gif;base64,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\" />"
      ],
      "text/plain": [
       "Plots.AnimatedGif(\"/tmp/jl_REcFA7.gif\")"
      ]
     },
     "metadata": {},
     "output_type": "display_data"
    }
   ],
   "source": [
    "# using Gadfly\n",
    "# %matplotlib inline\n",
    "\n",
    "# max_steps = 1000\n",
    "# steps = list(range(1000))\n",
    "# alpha_1 = gradient_descent(1, 1000, 2.0)\n",
    "# alpha_2 = gradient_descent(0.1, 1000, 2.0)\n",
    "# alpha_3 = gradient_descent(0.01, 1000, 2.0)\n",
    "\n",
    "# plt.plot(steps, alpha_1, color=\"green\", label='alpha=1')\n",
    "# plt.plot(steps, alpha_2, color=\"blue\", label='alpha=0.1')\n",
    "# plt.plot(steps, alpha_3, color=\"red\",label='alpha=0.01')\n",
    "\n",
    "# plt.show()\n",
    "import Pkg; Pkg.add(\"Plots\");\n",
    "using Plots\n",
    "# define the Lorenz attractor\n",
    "Base.@kwdef mutable struct Lorenz\n",
    "    dt::Float64 = 0.02\n",
    "    σ::Float64 = 10\n",
    "    ρ::Float64 = 28\n",
    "    β::Float64 = 8/3\n",
    "    x::Float64 = 1\n",
    "    y::Float64 = 1\n",
    "    z::Float64 = 1\n",
    "end\n",
    "\n",
    "function step!(l::Lorenz)\n",
    "    dx = l.σ * (l.y - l.x)\n",
    "    dy = l.x * (l.ρ - l.z) - l.y\n",
    "    dz = l.x * l.y - l.β * l.z\n",
    "    l.x += l.dt * dx\n",
    "    l.y += l.dt * dy\n",
    "    l.z += l.dt * dz\n",
    "end\n",
    "\n",
    "attractor = Lorenz()\n",
    "\n",
    "\n",
    "# initialize a 3D plot with 1 empty series\n",
    "plt = plot3d(\n",
    "    1,\n",
    "    xlim = (-30, 30),\n",
    "    ylim = (-30, 30),\n",
    "    zlim = (0, 60),\n",
    "    title = \"Lorenz Attractor\",\n",
    "    marker = 2,\n",
    ")\n",
    "\n",
    "# build an animated gif by pushing new points to the plot, saving every 10th frame\n",
    "@gif for i=1:1500\n",
    "    step!(attractor)\n",
    "    push!(plt, attractor.x, attractor.y, attractor.z)\n",
    "end every 10\n"
   ]
  },
  {
   "cell_type": "markdown",
   "metadata": {},
   "source": [
    "For the next few problems we will be comparing fixed and diminishing learning rates"
   ]
  },
  {
   "cell_type": "markdown",
   "metadata": {},
   "source": [
    "Take the following cost function:\n",
    "\\begin{equation}\n",
    "g(w) = \\left \\vert w \\right \\vert\n",
    "\\end{equation}"
   ]
  },
  {
   "cell_type": "markdown",
   "metadata": {},
   "source": [
    "4) [5 points] Is this function convex? If no, why not? If yes, where is its global minimum?"
   ]
  },
  {
   "cell_type": "markdown",
   "metadata": {},
   "source": [
    "Yes, the function is convex.\n",
    "\n",
    "$$\n",
    "\\forall w \\in \\mathbb{R}, \\quad g(w) = \\left \\vert w \\right \\vert \\ge 0\n",
    "$$\n",
    "\n",
    "The global minimum is at $w = 0$"
   ]
  },
  {
   "cell_type": "markdown",
   "metadata": {},
   "source": [
    "5) [5 points] What is the derivative of the cost function? "
   ]
  },
  {
   "cell_type": "markdown",
   "metadata": {},
   "source": [
    "6) [20 points] Rewrite the gradient descent function from question 2 such that it takes the cost funciton g as input and uses the autograd library to calculate the gradient. The function should return the weight and cost history for each step. Use the code template below.\n",
    "\n",
    "autograd is a python package for automatic calculation of the gradient. Here is a tutorial on it: (http://www.cs.toronto.edu/~rgrosse/courses/csc321_2017/tutorials/tut4.pdf\n",
    "\n",
    "Note that in Python you can pass functions around like any other variables. That is why you can pass the cost function g to the gradient_descent function. \n",
    "\n",
    "You should be able to install it by running \"pip install autograd\" in a cell in your Jupyter notebook."
   ]
  },
  {
   "cell_type": "code",
   "execution_count": 9,
   "metadata": {},
   "outputs": [
    {
     "data": {
      "text/plain": [
       "([-1.1337755648,\n",
       "  -1.1689720452318344,\n",
       "  -1.1699441600458738,\n",
       "  -1.169967990975653,\n",
       "  -1.1699692242956627,\n",
       "  -1.1699692815982672,\n",
       "  -1.16996928432737,\n",
       "  -1.1699692844566565,\n",
       "  -1.1699692844627883,\n",
       "  -1.1699692844630791],\n",
       " [-0.7600000000000002,\n",
       "  -1.16344576,\n",
       "  -1.2458689398802976,\n",
       "  -1.2322467675572077,\n",
       "  -1.2353172253121802,\n",
       "  -1.2346540140018982,\n",
       "  -1.2347986845644061,\n",
       "  -1.2347671933426054,\n",
       "  -1.2347740513753216,\n",
       "  -1.2347725580104927])"
      ]
     },
     "execution_count": 9,
     "metadata": {},
     "output_type": "execute_result"
    }
   ],
   "source": [
    "from autograd import grad \n",
    "\n",
    "#gradient descent function\n",
    "#inputs: g (cost function), alpha (learning rate parameter), max_its (maximum number of iterations), w (initialization)\n",
    "def gradient_descent(g, alpha, max_its, w0):\n",
    "    \n",
    "    # 0. find gradient function\n",
    "    gradient = grad(g)\n",
    "    \n",
    "    # 1. initialize cost history\n",
    "    cost_history = []\n",
    "    weight_history = []\n",
    "    w = w0\n",
    "    \n",
    "    # 2. for each iteration step...\n",
    "    for _ in range(max_its):\n",
    "        \n",
    "        # 2. compute the gradient and step\n",
    "        w -= alpha * gradient(w)\n",
    "        \n",
    "        # 3. record the current value.\n",
    "        cost_history.append(w)\n",
    "        weight_history.append(g(w))\n",
    "        \n",
    "    return weight_history, cost_history\n",
    "\n",
    "def g(w) : return 1/50 * (w**4 + w**2 + 10 * w - 50)\n",
    "\n",
    "gradient_descent(g, 3, 10, 2.0)"
   ]
  },
  {
   "cell_type": "markdown",
   "metadata": {},
   "source": [
    "7) [10 points] Make a run of max_its=20 steps of gradient descent with initialization at the point $w^0 = 1.75$, and a fixed learning rate of $\\alpha = 0.5$. Using the cost and weight history, plot the cost as a function of the weight for each step (cost on y-axis, weight on x-axis). Recall that the terms weight and parameter used interchangeably and both refer to w."
   ]
  },
  {
   "cell_type": "code",
   "execution_count": 10,
   "metadata": {},
   "outputs": [
    {
     "data": {
      "image/png": "[encoded data removed]",
      "text/plain": [
       "<Figure size 432x288 with 1 Axes>"
      ]
     },
     "metadata": {
      "needs_background": "light"
     },
     "output_type": "display_data"
    }
   ],
   "source": [
    "import matplotlib.pyplot as plt\n",
    "%matplotlib inline\n",
    "\n",
    "max_steps = 20\n",
    "weight_history, cost_history = gradient_descent(g, 0.5, max_steps, 1.75)\n",
    "\n",
    "plt.plot(weight_history, weight_history, color=\"green\", label='cost VS weight')\n",
    "\n",
    "plt.title(\"     Weight vs Cost     \")\n",
    "plt.xlabel(\"Weight\")\n",
    "plt.ylabel(\"Cost\")\n",
    "\n",
    "plt.show()"
   ]
  },
  {
   "cell_type": "markdown",
   "metadata": {},
   "source": [
    "8) [15 points] Make a run of max_its=20 steps of gradient descent with initialization at the point $w^0 = 1.75$, using the diminishing rule $\\alpha = \\frac{1}{k}$ (for this you have to modify the gradient_descent function slightly. Use the code template below. Using the cost and wiehgt history, plot the cost as a function of the weight for each step (cost on y-axis, weight on x-axis)"
   ]
  },
  {
   "cell_type": "code",
   "execution_count": 6,
   "metadata": {},
   "outputs": [
    {
     "data": {
      "text/plain": [
       "([-0.7334622207999999,\n",
       "  -0.7883124899098676,\n",
       "  -0.8164681231522911,\n",
       "  -0.8348983622960525,\n",
       "  -0.8484120363152406,\n",
       "  -0.8589974626729193,\n",
       "  -0.8676554391820444,\n",
       "  -0.874955883693749,\n",
       "  -0.8812522596595546,\n",
       "  -0.8867779812360536],\n",
       " [1.08,\n",
       "  0.9080115200000001,\n",
       "  0.8092742515776709,\n",
       "  0.7405812332837892,\n",
       "  0.6881577098139622,\n",
       "  0.6458915293975616,\n",
       "  0.6105498594096075,\n",
       "  0.5802211564973873,\n",
       "  0.5536838600129391,\n",
       "  0.5301112002143646])"
      ]
     },
     "execution_count": 6,
     "metadata": {},
     "output_type": "execute_result"
    }
   ],
   "source": [
    "from autograd import grad \n",
    "\n",
    "#gradient descent function\n",
    "#inputs: g (cost function), alpha (learning rate parameter), max_its (maximum number of iterations), w (initialization)\n",
    "def gradient_descent(g, alpha, max_its, w0):\n",
    "    gradient = grad(g)\n",
    "    \n",
    "    flag = alpha == \"diminishing\"\n",
    "    \n",
    "    # 1. initialize cost history\n",
    "    cost_history = []\n",
    "    weight_history = []\n",
    "    w = w0\n",
    "    \n",
    "    # 2. for each iteration step...\n",
    "    for step in range(max_its):\n",
    "        \n",
    "        # 2. compute the gradient and step\n",
    "        a = alpha if not flag else 1 / (step + 1)\n",
    "        w -= a * gradient(w)\n",
    "        \n",
    "        # 3. record the current value.\n",
    "        cost_history.append(w)\n",
    "        weight_history.append(g(w))\n",
    "        \n",
    "    return weight_history, cost_history\n",
    "\n",
    "\n",
    "def g(w) : return 1/50 * (w**4 + w**2 + 10 * w - 50)\n",
    "\n",
    "gradient_descent(g, \"diminishing\", 10, 2.0)"
   ]
  },
  {
   "cell_type": "markdown",
   "metadata": {},
   "source": [
    "9) [10 points]  Generate a single plot showing the cost as a function of step number for both runs (combine all  runs into a single plot). Which approach works better? Why ?"
   ]
  },
  {
   "cell_type": "code",
   "execution_count": 10,
   "metadata": {},
   "outputs": [
    {
     "data": {
      "image/png": "[encoded data removed]",
      "text/plain": [
       "<Figure size 432x288 with 1 Axes>"
      ]
     },
     "metadata": {
      "needs_background": "light"
     },
     "output_type": "display_data"
    }
   ],
   "source": [
    "import matplotlib.pyplot as plt\n",
    "%matplotlib inline\n",
    "\n",
    "max_steps = 20\n",
    "\n",
    "steps = list(range(20))\n",
    "_, cost_history1 = gradient_descent(g, 0.5, max_steps, 1.75)\n",
    "_, cost_history2 = gradient_descent(g, \"diminishing\", max_steps, 1.75)\n",
    "\n",
    "plt.plot(steps, cost_history1, color=\"green\")\n",
    "plt.plot(steps, cost_history2, color=\"red\")\n",
    "\n",
    "plt.title(\"     Non-diminishing vs. diminishing alpha\\n     (green: non-dim, red: dim)     \")\n",
    "plt.xlabel(\"Iteration\")\n",
    "plt.ylabel(\"Cost\")\n",
    "\n",
    "plt.show()"
   ]
  },
  {
   "cell_type": "markdown",
   "metadata": {},
   "source": [
    "We will now look at the oscilating behavior of gradient descent. \n",
    "\n",
    "Take the following cost function:\n",
    "$g(w) = w_0^2 + w_1^2 + 2\\sin(1.5 (w_0 + w_1)) +2$\n",
    "\n",
    "Note that this cost function has two parameters."
   ]
  },
  {
   "cell_type": "markdown",
   "metadata": {},
   "source": [
    "10) [5 points] Make sure your gradient descent function from problem 6 can handle cost functions with more than one parameter. You may need to rewrite it if you were not careful. Use the code template below (if your function from problem 6 is good, you can just copy and paste it here)"
   ]
  },
  {
   "cell_type": "code",
   "execution_count": 61,
   "metadata": {},
   "outputs": [
    {
     "name": "stdout",
     "output_type": "stream",
     "text": [
      "w=array([1., 1.])\n",
      "grad_g=[<function unary_to_nary.<locals>.nary_operator.<locals>.nary_f at 0x7fbca4290940>, <function unary_to_nary.<locals>.nary_operator.<locals>.nary_f at 0x7fbca42900d0>]\n"
     ]
    },
    {
     "ename": "TypeError",
     "evalue": "must be real number, not ArrayBox",
     "output_type": "error",
     "traceback": [
      "\u001b[0;31m---------------------------------------------------------------------------\u001b[0m",
      "\u001b[0;31mTypeError\u001b[0m                                 Traceback (most recent call last)",
      "\u001b[0;32m/tmp/ipykernel_29896/2301542738.py\u001b[0m in \u001b[0;36m<module>\u001b[0;34m\u001b[0m\n\u001b[1;32m     41\u001b[0m \u001b[0;31m# def g(*args) : return args[0]**2 + args[1]**2 + 2*sin(1.5*(args[0] + args[1])) + 2\u001b[0m\u001b[0;34m\u001b[0m\u001b[0;34m\u001b[0m\u001b[0m\n\u001b[1;32m     42\u001b[0m \u001b[0;32mdef\u001b[0m \u001b[0mg\u001b[0m\u001b[0;34m(\u001b[0m\u001b[0mw0\u001b[0m\u001b[0;34m,\u001b[0m \u001b[0mw1\u001b[0m\u001b[0;34m)\u001b[0m \u001b[0;34m:\u001b[0m \u001b[0;32mreturn\u001b[0m \u001b[0mw0\u001b[0m\u001b[0;34m**\u001b[0m\u001b[0;36m2\u001b[0m \u001b[0;34m+\u001b[0m \u001b[0mw1\u001b[0m\u001b[0;34m**\u001b[0m\u001b[0;36m2\u001b[0m \u001b[0;34m+\u001b[0m \u001b[0;36m2\u001b[0m\u001b[0;34m*\u001b[0m\u001b[0msin\u001b[0m\u001b[0;34m(\u001b[0m\u001b[0;36m1.5\u001b[0m\u001b[0;34m*\u001b[0m\u001b[0;34m(\u001b[0m\u001b[0mw0\u001b[0m \u001b[0;34m+\u001b[0m \u001b[0mw1\u001b[0m\u001b[0;34m)\u001b[0m\u001b[0;34m)\u001b[0m \u001b[0;34m+\u001b[0m \u001b[0;36m2\u001b[0m\u001b[0;34m\u001b[0m\u001b[0;34m\u001b[0m\u001b[0m\n\u001b[0;32m---> 43\u001b[0;31m \u001b[0mgradient_descent\u001b[0m\u001b[0;34m(\u001b[0m\u001b[0mg\u001b[0m\u001b[0;34m,\u001b[0m \u001b[0;36m0.1\u001b[0m\u001b[0;34m,\u001b[0m \u001b[0;36m1000\u001b[0m\u001b[0;34m,\u001b[0m \u001b[0mnp\u001b[0m\u001b[0;34m.\u001b[0m\u001b[0marray\u001b[0m\u001b[0;34m(\u001b[0m\u001b[0;34m[\u001b[0m\u001b[0;36m1.0\u001b[0m\u001b[0;34m,\u001b[0m \u001b[0;36m1.0\u001b[0m\u001b[0;34m]\u001b[0m\u001b[0;34m)\u001b[0m\u001b[0;34m)\u001b[0m\u001b[0;34m\u001b[0m\u001b[0;34m\u001b[0m\u001b[0m\n\u001b[0m",
      "\u001b[0;32m/tmp/ipykernel_29896/2301542738.py\u001b[0m in \u001b[0;36mgradient_descent\u001b[0;34m(g, alpha, max_its, w0)\u001b[0m\n\u001b[1;32m     22\u001b[0m     \u001b[0mgrad_g\u001b[0m \u001b[0;34m=\u001b[0m \u001b[0;34m[\u001b[0m\u001b[0mgrad\u001b[0m\u001b[0;34m(\u001b[0m\u001b[0mg\u001b[0m\u001b[0;34m,\u001b[0m \u001b[0mn\u001b[0m\u001b[0;34m)\u001b[0m \u001b[0;32mfor\u001b[0m \u001b[0mn\u001b[0m \u001b[0;32min\u001b[0m \u001b[0mrange\u001b[0m\u001b[0;34m(\u001b[0m\u001b[0mlen\u001b[0m\u001b[0;34m(\u001b[0m\u001b[0mw\u001b[0m\u001b[0;34m)\u001b[0m\u001b[0;34m)\u001b[0m\u001b[0;34m]\u001b[0m\u001b[0;34m\u001b[0m\u001b[0;34m\u001b[0m\u001b[0m\n\u001b[1;32m     23\u001b[0m     \u001b[0mprint\u001b[0m\u001b[0;34m(\u001b[0m\u001b[0;34mf\"{grad_g=}\"\u001b[0m\u001b[0;34m)\u001b[0m\u001b[0;34m\u001b[0m\u001b[0;34m\u001b[0m\u001b[0m\n\u001b[0;32m---> 24\u001b[0;31m     \u001b[0mprint\u001b[0m\u001b[0;34m(\u001b[0m\u001b[0;34mf\"{grad_g[0](*w)=}, {grad_g[1](*w)=}\"\u001b[0m\u001b[0;34m)\u001b[0m\u001b[0;34m\u001b[0m\u001b[0;34m\u001b[0m\u001b[0m\n\u001b[0m\u001b[1;32m     25\u001b[0m     \u001b[0;31m# 2. for each iteration step...\u001b[0m\u001b[0;34m\u001b[0m\u001b[0;34m\u001b[0m\u001b[0m\n\u001b[1;32m     26\u001b[0m     \u001b[0;32mfor\u001b[0m \u001b[0m_\u001b[0m \u001b[0;32min\u001b[0m \u001b[0mrange\u001b[0m\u001b[0;34m(\u001b[0m\u001b[0mmax_its\u001b[0m\u001b[0;34m)\u001b[0m\u001b[0;34m:\u001b[0m\u001b[0;34m\u001b[0m\u001b[0;34m\u001b[0m\u001b[0m\n",
      "\u001b[0;32m~/anaconda3/lib/python3.9/site-packages/autograd/wrap_util.py\u001b[0m in \u001b[0;36mnary_f\u001b[0;34m(*args, **kwargs)\u001b[0m\n\u001b[1;32m     18\u001b[0m             \u001b[0;32melse\u001b[0m\u001b[0;34m:\u001b[0m\u001b[0;34m\u001b[0m\u001b[0;34m\u001b[0m\u001b[0m\n\u001b[1;32m     19\u001b[0m                 \u001b[0mx\u001b[0m \u001b[0;34m=\u001b[0m \u001b[0mtuple\u001b[0m\u001b[0;34m(\u001b[0m\u001b[0margs\u001b[0m\u001b[0;34m[\u001b[0m\u001b[0mi\u001b[0m\u001b[0;34m]\u001b[0m \u001b[0;32mfor\u001b[0m \u001b[0mi\u001b[0m \u001b[0;32min\u001b[0m \u001b[0margnum\u001b[0m\u001b[0;34m)\u001b[0m\u001b[0;34m\u001b[0m\u001b[0;34m\u001b[0m\u001b[0m\n\u001b[0;32m---> 20\u001b[0;31m             \u001b[0;32mreturn\u001b[0m \u001b[0munary_operator\u001b[0m\u001b[0;34m(\u001b[0m\u001b[0munary_f\u001b[0m\u001b[0;34m,\u001b[0m \u001b[0mx\u001b[0m\u001b[0;34m,\u001b[0m \u001b[0;34m*\u001b[0m\u001b[0mnary_op_args\u001b[0m\u001b[0;34m,\u001b[0m \u001b[0;34m**\u001b[0m\u001b[0mnary_op_kwargs\u001b[0m\u001b[0;34m)\u001b[0m\u001b[0;34m\u001b[0m\u001b[0;34m\u001b[0m\u001b[0m\n\u001b[0m\u001b[1;32m     21\u001b[0m         \u001b[0;32mreturn\u001b[0m \u001b[0mnary_f\u001b[0m\u001b[0;34m\u001b[0m\u001b[0;34m\u001b[0m\u001b[0m\n\u001b[1;32m     22\u001b[0m     \u001b[0;32mreturn\u001b[0m \u001b[0mnary_operator\u001b[0m\u001b[0;34m\u001b[0m\u001b[0;34m\u001b[0m\u001b[0m\n",
      "\u001b[0;32m~/anaconda3/lib/python3.9/site-packages/autograd/differential_operators.py\u001b[0m in \u001b[0;36mgrad\u001b[0;34m(fun, x)\u001b[0m\n\u001b[1;32m     23\u001b[0m     \u001b[0marguments\u001b[0m \u001b[0;32mas\u001b[0m\u001b[0;31m \u001b[0m\u001b[0;31m`\u001b[0m\u001b[0mfun\u001b[0m\u001b[0;31m`\u001b[0m\u001b[0;34m,\u001b[0m \u001b[0mbut\u001b[0m \u001b[0mreturns\u001b[0m \u001b[0mthe\u001b[0m \u001b[0mgradient\u001b[0m \u001b[0minstead\u001b[0m\u001b[0;34m.\u001b[0m \u001b[0mThe\u001b[0m \u001b[0mfunction\u001b[0m\u001b[0;31m \u001b[0m\u001b[0;31m`\u001b[0m\u001b[0mfun\u001b[0m\u001b[0;31m`\u001b[0m\u001b[0;34m\u001b[0m\u001b[0;34m\u001b[0m\u001b[0m\n\u001b[1;32m     24\u001b[0m     should be scalar-valued. The gradient has the same type as the argument.\"\"\"\n\u001b[0;32m---> 25\u001b[0;31m     \u001b[0mvjp\u001b[0m\u001b[0;34m,\u001b[0m \u001b[0mans\u001b[0m \u001b[0;34m=\u001b[0m \u001b[0m_make_vjp\u001b[0m\u001b[0;34m(\u001b[0m\u001b[0mfun\u001b[0m\u001b[0;34m,\u001b[0m \u001b[0mx\u001b[0m\u001b[0;34m)\u001b[0m\u001b[0;34m\u001b[0m\u001b[0;34m\u001b[0m\u001b[0m\n\u001b[0m\u001b[1;32m     26\u001b[0m     \u001b[0;32mif\u001b[0m \u001b[0;32mnot\u001b[0m \u001b[0mvspace\u001b[0m\u001b[0;34m(\u001b[0m\u001b[0mans\u001b[0m\u001b[0;34m)\u001b[0m\u001b[0;34m.\u001b[0m\u001b[0msize\u001b[0m \u001b[0;34m==\u001b[0m \u001b[0;36m1\u001b[0m\u001b[0;34m:\u001b[0m\u001b[0;34m\u001b[0m\u001b[0;34m\u001b[0m\u001b[0m\n\u001b[1;32m     27\u001b[0m         raise TypeError(\"Grad only applies to real scalar-output functions. \"\n",
      "\u001b[0;32m~/anaconda3/lib/python3.9/site-packages/autograd/core.py\u001b[0m in \u001b[0;36mmake_vjp\u001b[0;34m(fun, x)\u001b[0m\n\u001b[1;32m      8\u001b[0m \u001b[0;32mdef\u001b[0m \u001b[0mmake_vjp\u001b[0m\u001b[0;34m(\u001b[0m\u001b[0mfun\u001b[0m\u001b[0;34m,\u001b[0m \u001b[0mx\u001b[0m\u001b[0;34m)\u001b[0m\u001b[0;34m:\u001b[0m\u001b[0;34m\u001b[0m\u001b[0;34m\u001b[0m\u001b[0m\n\u001b[1;32m      9\u001b[0m     \u001b[0mstart_node\u001b[0m \u001b[0;34m=\u001b[0m \u001b[0mVJPNode\u001b[0m\u001b[0;34m.\u001b[0m\u001b[0mnew_root\u001b[0m\u001b[0;34m(\u001b[0m\u001b[0;34m)\u001b[0m\u001b[0;34m\u001b[0m\u001b[0;34m\u001b[0m\u001b[0m\n\u001b[0;32m---> 10\u001b[0;31m     \u001b[0mend_value\u001b[0m\u001b[0;34m,\u001b[0m \u001b[0mend_node\u001b[0m \u001b[0;34m=\u001b[0m  \u001b[0mtrace\u001b[0m\u001b[0;34m(\u001b[0m\u001b[0mstart_node\u001b[0m\u001b[0;34m,\u001b[0m \u001b[0mfun\u001b[0m\u001b[0;34m,\u001b[0m \u001b[0mx\u001b[0m\u001b[0;34m)\u001b[0m\u001b[0;34m\u001b[0m\u001b[0;34m\u001b[0m\u001b[0m\n\u001b[0m\u001b[1;32m     11\u001b[0m     \u001b[0;32mif\u001b[0m \u001b[0mend_node\u001b[0m \u001b[0;32mis\u001b[0m \u001b[0;32mNone\u001b[0m\u001b[0;34m:\u001b[0m\u001b[0;34m\u001b[0m\u001b[0;34m\u001b[0m\u001b[0m\n\u001b[1;32m     12\u001b[0m         \u001b[0;32mdef\u001b[0m \u001b[0mvjp\u001b[0m\u001b[0;34m(\u001b[0m\u001b[0mg\u001b[0m\u001b[0;34m)\u001b[0m\u001b[0;34m:\u001b[0m \u001b[0;32mreturn\u001b[0m \u001b[0mvspace\u001b[0m\u001b[0;34m(\u001b[0m\u001b[0mx\u001b[0m\u001b[0;34m)\u001b[0m\u001b[0;34m.\u001b[0m\u001b[0mzeros\u001b[0m\u001b[0;34m(\u001b[0m\u001b[0;34m)\u001b[0m\u001b[0;34m\u001b[0m\u001b[0;34m\u001b[0m\u001b[0m\n",
      "\u001b[0;32m~/anaconda3/lib/python3.9/site-packages/autograd/tracer.py\u001b[0m in \u001b[0;36mtrace\u001b[0;34m(start_node, fun, x)\u001b[0m\n\u001b[1;32m      8\u001b[0m     \u001b[0;32mwith\u001b[0m \u001b[0mtrace_stack\u001b[0m\u001b[0;34m.\u001b[0m\u001b[0mnew_trace\u001b[0m\u001b[0;34m(\u001b[0m\u001b[0;34m)\u001b[0m \u001b[0;32mas\u001b[0m \u001b[0mt\u001b[0m\u001b[0;34m:\u001b[0m\u001b[0;34m\u001b[0m\u001b[0;34m\u001b[0m\u001b[0m\n\u001b[1;32m      9\u001b[0m         \u001b[0mstart_box\u001b[0m \u001b[0;34m=\u001b[0m \u001b[0mnew_box\u001b[0m\u001b[0;34m(\u001b[0m\u001b[0mx\u001b[0m\u001b[0;34m,\u001b[0m \u001b[0mt\u001b[0m\u001b[0;34m,\u001b[0m \u001b[0mstart_node\u001b[0m\u001b[0;34m)\u001b[0m\u001b[0;34m\u001b[0m\u001b[0;34m\u001b[0m\u001b[0m\n\u001b[0;32m---> 10\u001b[0;31m         \u001b[0mend_box\u001b[0m \u001b[0;34m=\u001b[0m \u001b[0mfun\u001b[0m\u001b[0;34m(\u001b[0m\u001b[0mstart_box\u001b[0m\u001b[0;34m)\u001b[0m\u001b[0;34m\u001b[0m\u001b[0;34m\u001b[0m\u001b[0m\n\u001b[0m\u001b[1;32m     11\u001b[0m         \u001b[0;32mif\u001b[0m \u001b[0misbox\u001b[0m\u001b[0;34m(\u001b[0m\u001b[0mend_box\u001b[0m\u001b[0;34m)\u001b[0m \u001b[0;32mand\u001b[0m \u001b[0mend_box\u001b[0m\u001b[0;34m.\u001b[0m\u001b[0m_trace\u001b[0m \u001b[0;34m==\u001b[0m \u001b[0mstart_box\u001b[0m\u001b[0;34m.\u001b[0m\u001b[0m_trace\u001b[0m\u001b[0;34m:\u001b[0m\u001b[0;34m\u001b[0m\u001b[0;34m\u001b[0m\u001b[0m\n\u001b[1;32m     12\u001b[0m             \u001b[0;32mreturn\u001b[0m \u001b[0mend_box\u001b[0m\u001b[0;34m.\u001b[0m\u001b[0m_value\u001b[0m\u001b[0;34m,\u001b[0m \u001b[0mend_box\u001b[0m\u001b[0;34m.\u001b[0m\u001b[0m_node\u001b[0m\u001b[0;34m\u001b[0m\u001b[0;34m\u001b[0m\u001b[0m\n",
      "\u001b[0;32m~/anaconda3/lib/python3.9/site-packages/autograd/wrap_util.py\u001b[0m in \u001b[0;36munary_f\u001b[0;34m(x)\u001b[0m\n\u001b[1;32m     13\u001b[0m                 \u001b[0;32melse\u001b[0m\u001b[0;34m:\u001b[0m\u001b[0;34m\u001b[0m\u001b[0;34m\u001b[0m\u001b[0m\n\u001b[1;32m     14\u001b[0m                     \u001b[0msubargs\u001b[0m \u001b[0;34m=\u001b[0m \u001b[0msubvals\u001b[0m\u001b[0;34m(\u001b[0m\u001b[0margs\u001b[0m\u001b[0;34m,\u001b[0m \u001b[0mzip\u001b[0m\u001b[0;34m(\u001b[0m\u001b[0margnum\u001b[0m\u001b[0;34m,\u001b[0m \u001b[0mx\u001b[0m\u001b[0;34m)\u001b[0m\u001b[0;34m)\u001b[0m\u001b[0;34m\u001b[0m\u001b[0;34m\u001b[0m\u001b[0m\n\u001b[0;32m---> 15\u001b[0;31m                 \u001b[0;32mreturn\u001b[0m \u001b[0mfun\u001b[0m\u001b[0;34m(\u001b[0m\u001b[0;34m*\u001b[0m\u001b[0msubargs\u001b[0m\u001b[0;34m,\u001b[0m \u001b[0;34m**\u001b[0m\u001b[0mkwargs\u001b[0m\u001b[0;34m)\u001b[0m\u001b[0;34m\u001b[0m\u001b[0;34m\u001b[0m\u001b[0m\n\u001b[0m\u001b[1;32m     16\u001b[0m             \u001b[0;32mif\u001b[0m \u001b[0misinstance\u001b[0m\u001b[0;34m(\u001b[0m\u001b[0margnum\u001b[0m\u001b[0;34m,\u001b[0m \u001b[0mint\u001b[0m\u001b[0;34m)\u001b[0m\u001b[0;34m:\u001b[0m\u001b[0;34m\u001b[0m\u001b[0;34m\u001b[0m\u001b[0m\n\u001b[1;32m     17\u001b[0m                 \u001b[0mx\u001b[0m \u001b[0;34m=\u001b[0m \u001b[0margs\u001b[0m\u001b[0;34m[\u001b[0m\u001b[0margnum\u001b[0m\u001b[0;34m]\u001b[0m\u001b[0;34m\u001b[0m\u001b[0;34m\u001b[0m\u001b[0m\n",
      "\u001b[0;32m/tmp/ipykernel_29896/2301542738.py\u001b[0m in \u001b[0;36mg\u001b[0;34m(w0, w1)\u001b[0m\n\u001b[1;32m     40\u001b[0m \u001b[0;34m\u001b[0m\u001b[0m\n\u001b[1;32m     41\u001b[0m \u001b[0;31m# def g(*args) : return args[0]**2 + args[1]**2 + 2*sin(1.5*(args[0] + args[1])) + 2\u001b[0m\u001b[0;34m\u001b[0m\u001b[0;34m\u001b[0m\u001b[0m\n\u001b[0;32m---> 42\u001b[0;31m \u001b[0;32mdef\u001b[0m \u001b[0mg\u001b[0m\u001b[0;34m(\u001b[0m\u001b[0mw0\u001b[0m\u001b[0;34m,\u001b[0m \u001b[0mw1\u001b[0m\u001b[0;34m)\u001b[0m \u001b[0;34m:\u001b[0m \u001b[0;32mreturn\u001b[0m \u001b[0mw0\u001b[0m\u001b[0;34m**\u001b[0m\u001b[0;36m2\u001b[0m \u001b[0;34m+\u001b[0m \u001b[0mw1\u001b[0m\u001b[0;34m**\u001b[0m\u001b[0;36m2\u001b[0m \u001b[0;34m+\u001b[0m \u001b[0;36m2\u001b[0m\u001b[0;34m*\u001b[0m\u001b[0msin\u001b[0m\u001b[0;34m(\u001b[0m\u001b[0;36m1.5\u001b[0m\u001b[0;34m*\u001b[0m\u001b[0;34m(\u001b[0m\u001b[0mw0\u001b[0m \u001b[0;34m+\u001b[0m \u001b[0mw1\u001b[0m\u001b[0;34m)\u001b[0m\u001b[0;34m)\u001b[0m \u001b[0;34m+\u001b[0m \u001b[0;36m2\u001b[0m\u001b[0;34m\u001b[0m\u001b[0;34m\u001b[0m\u001b[0m\n\u001b[0m\u001b[1;32m     43\u001b[0m \u001b[0mgradient_descent\u001b[0m\u001b[0;34m(\u001b[0m\u001b[0mg\u001b[0m\u001b[0;34m,\u001b[0m \u001b[0;36m0.1\u001b[0m\u001b[0;34m,\u001b[0m \u001b[0;36m1000\u001b[0m\u001b[0;34m,\u001b[0m \u001b[0mnp\u001b[0m\u001b[0;34m.\u001b[0m\u001b[0marray\u001b[0m\u001b[0;34m(\u001b[0m\u001b[0;34m[\u001b[0m\u001b[0;36m1.0\u001b[0m\u001b[0;34m,\u001b[0m \u001b[0;36m1.0\u001b[0m\u001b[0;34m]\u001b[0m\u001b[0;34m)\u001b[0m\u001b[0;34m)\u001b[0m\u001b[0;34m\u001b[0m\u001b[0;34m\u001b[0m\u001b[0m\n",
      "\u001b[0;31mTypeError\u001b[0m: must be real number, not ArrayBox"
     ]
    }
   ],
   "source": [
    "from autograd import grad\n",
    "from math import sin\n",
    "\n",
    "#gradient descent function\n",
    "#inputs: g (cost function), alpha (learning rate parameter), max_its (maximum number of iterations), w (initialization)\n",
    "def gradient_descent(g, alpha, max_its, w0):\n",
    "    \n",
    "    # 0. find gradient function\n",
    "    gradient = []\n",
    "    \n",
    "    # gradient = lambda w: [grad(g, n)(w) for n in range(len(w))]\n",
    "    \n",
    "    # 1. initialize cost history\n",
    "    cost_history = []\n",
    "    weight_history = []\n",
    "    w = np.array(w0, dtype=np.float64)\n",
    "    print(f\"{w=}\")\n",
    "    \n",
    "    # grad_vector = np.ones(2)\n",
    "    # print(grad_vector)\n",
    "    \n",
    "    grad_g = [grad(g, n) for n in range(len(w))]\n",
    "    print(f\"{grad_g=}\")\n",
    "    print(f\"{grad_g[0](*w)=}, {grad_g[1](*w)=}\")\n",
    "    # 2. for each iteration step...\n",
    "    for _ in range(max_its):\n",
    "        # grad_vector = [grad(g, n)(w) for n in range(len(w))]\n",
    "        \n",
    "        # print(f\"{grad_vector=}\")\n",
    "        \n",
    "        # 3. compute the gradient and step\n",
    "        # grad(g, gradient=grad_vector)\n",
    "        w -= alpha * np.array([grad_g[i](*w) for i in range(len(w))]) #[grad_vector(i)(w) for i in range(len(w))]\n",
    "        \n",
    "        # 4. record the current values.\n",
    "        cost_history.append(w)\n",
    "        # weight_history.append(g(w))\n",
    "        \n",
    "    return weight_history, cost_history\n",
    "\n",
    "# def g(*args) : return args[0]**2 + args[1]**2 + 2*sin(1.5*(args[0] + args[1])) + 2\n",
    "def g(w0, w1) : return w0**2 + w1**2 + 2*sin(1.5*(w0 + w1)) + 2\n",
    "gradient_descent(g, 0.1, 1000, np.array([1.0, 1.0]))"
   ]
  },
  {
   "cell_type": "markdown",
   "metadata": {},
   "source": [
    "11) [10 points] Run the gradient_descent function with the cost function above three times with the following parameters. Generate a single plot showing the cost as a function of step number for all three runs (combine all three runs into a single plot). Use the code template below. Which alpha leads to an oscillating behavior?\n",
    "\n",
    "$w^0$ = [3.0,3.0]\n",
    "max_its = 10\n",
    "\n",
    "# first run\n",
    "alpha = 0.01\n",
    "# second run\n",
    "alpha = 0.1\n",
    "# third run\n",
    "alpha = 1\n",
    "\n"
   ]
  },
  {
   "cell_type": "code",
   "execution_count": 11,
   "metadata": {},
   "outputs": [
    {
     "ename": "TypeError",
     "evalue": "Grad only applies to real scalar-output functions. Try jacobian, elementwise_grad or holomorphic_grad.",
     "output_type": "error",
     "traceback": [
      "\u001b[0;31m---------------------------------------------------------------------------\u001b[0m",
      "\u001b[0;31mTypeError\u001b[0m                                 Traceback (most recent call last)",
      "\u001b[0;32m/tmp/ipykernel_29896/1358233617.py\u001b[0m in \u001b[0;36m<module>\u001b[0;34m\u001b[0m\n\u001b[1;32m      6\u001b[0m \u001b[0;34m\u001b[0m\u001b[0m\n\u001b[1;32m      7\u001b[0m \u001b[0msteps\u001b[0m \u001b[0;34m=\u001b[0m \u001b[0mlist\u001b[0m\u001b[0;34m(\u001b[0m\u001b[0mrange\u001b[0m\u001b[0;34m(\u001b[0m\u001b[0;36m20\u001b[0m\u001b[0;34m)\u001b[0m\u001b[0;34m)\u001b[0m\u001b[0;34m\u001b[0m\u001b[0;34m\u001b[0m\u001b[0m\n\u001b[0;32m----> 8\u001b[0;31m \u001b[0m_\u001b[0m\u001b[0;34m,\u001b[0m \u001b[0mcost_history1\u001b[0m \u001b[0;34m=\u001b[0m \u001b[0mgradient_descent\u001b[0m\u001b[0;34m(\u001b[0m\u001b[0mg\u001b[0m\u001b[0;34m,\u001b[0m \u001b[0;36m0.01\u001b[0m\u001b[0;34m,\u001b[0m \u001b[0mmax_steps\u001b[0m\u001b[0;34m,\u001b[0m \u001b[0mnp\u001b[0m\u001b[0;34m.\u001b[0m\u001b[0marray\u001b[0m\u001b[0;34m(\u001b[0m\u001b[0;34m[\u001b[0m\u001b[0;36m3.0\u001b[0m\u001b[0;34m,\u001b[0m \u001b[0;36m3.0\u001b[0m\u001b[0;34m]\u001b[0m\u001b[0;34m)\u001b[0m\u001b[0;34m)\u001b[0m\u001b[0;34m\u001b[0m\u001b[0;34m\u001b[0m\u001b[0m\n\u001b[0m\u001b[1;32m      9\u001b[0m \u001b[0m_\u001b[0m\u001b[0;34m,\u001b[0m \u001b[0mcost_history2\u001b[0m \u001b[0;34m=\u001b[0m \u001b[0mgradient_descent\u001b[0m\u001b[0;34m(\u001b[0m\u001b[0mg\u001b[0m\u001b[0;34m,\u001b[0m \u001b[0;36m0.1\u001b[0m\u001b[0;34m,\u001b[0m \u001b[0mmax_steps\u001b[0m\u001b[0;34m,\u001b[0m \u001b[0mnp\u001b[0m\u001b[0;34m.\u001b[0m\u001b[0marray\u001b[0m\u001b[0;34m(\u001b[0m\u001b[0;34m[\u001b[0m\u001b[0;36m3.0\u001b[0m\u001b[0;34m,\u001b[0m \u001b[0;36m3.0\u001b[0m\u001b[0;34m]\u001b[0m\u001b[0;34m)\u001b[0m\u001b[0;34m)\u001b[0m\u001b[0;34m\u001b[0m\u001b[0;34m\u001b[0m\u001b[0m\n\u001b[1;32m     10\u001b[0m \u001b[0m_\u001b[0m\u001b[0;34m,\u001b[0m \u001b[0mcost_history3\u001b[0m \u001b[0;34m=\u001b[0m \u001b[0mgradient_descent\u001b[0m\u001b[0;34m(\u001b[0m\u001b[0mg\u001b[0m\u001b[0;34m,\u001b[0m \u001b[0;36m1\u001b[0m\u001b[0;34m,\u001b[0m \u001b[0mmax_steps\u001b[0m\u001b[0;34m,\u001b[0m \u001b[0mnp\u001b[0m\u001b[0;34m.\u001b[0m\u001b[0marray\u001b[0m\u001b[0;34m(\u001b[0m\u001b[0;34m[\u001b[0m\u001b[0;36m3.0\u001b[0m\u001b[0;34m,\u001b[0m \u001b[0;36m3.0\u001b[0m\u001b[0;34m]\u001b[0m\u001b[0;34m)\u001b[0m\u001b[0;34m)\u001b[0m\u001b[0;34m\u001b[0m\u001b[0;34m\u001b[0m\u001b[0m\n",
      "\u001b[0;32m/tmp/ipykernel_29896/2337160018.py\u001b[0m in \u001b[0;36mgradient_descent\u001b[0;34m(g, alpha, max_its, w0)\u001b[0m\n\u001b[1;32m     18\u001b[0m         \u001b[0;31m# 2. compute the gradient and step\u001b[0m\u001b[0;34m\u001b[0m\u001b[0;34m\u001b[0m\u001b[0m\n\u001b[1;32m     19\u001b[0m         \u001b[0ma\u001b[0m \u001b[0;34m=\u001b[0m \u001b[0malpha\u001b[0m \u001b[0;32mif\u001b[0m \u001b[0;32mnot\u001b[0m \u001b[0mflag\u001b[0m \u001b[0;32melse\u001b[0m \u001b[0;36m1\u001b[0m \u001b[0;34m/\u001b[0m \u001b[0;34m(\u001b[0m\u001b[0mstep\u001b[0m \u001b[0;34m+\u001b[0m \u001b[0;36m1\u001b[0m\u001b[0;34m)\u001b[0m\u001b[0;34m\u001b[0m\u001b[0;34m\u001b[0m\u001b[0m\n\u001b[0;32m---> 20\u001b[0;31m         \u001b[0mw\u001b[0m \u001b[0;34m-=\u001b[0m \u001b[0ma\u001b[0m \u001b[0;34m*\u001b[0m \u001b[0mgradient\u001b[0m\u001b[0;34m(\u001b[0m\u001b[0mw\u001b[0m\u001b[0;34m)\u001b[0m\u001b[0;34m\u001b[0m\u001b[0;34m\u001b[0m\u001b[0m\n\u001b[0m\u001b[1;32m     21\u001b[0m \u001b[0;34m\u001b[0m\u001b[0m\n\u001b[1;32m     22\u001b[0m         \u001b[0;31m# 3. record the current value.\u001b[0m\u001b[0;34m\u001b[0m\u001b[0;34m\u001b[0m\u001b[0m\n",
      "\u001b[0;32m~/anaconda3/lib/python3.9/site-packages/autograd/wrap_util.py\u001b[0m in \u001b[0;36mnary_f\u001b[0;34m(*args, **kwargs)\u001b[0m\n\u001b[1;32m     18\u001b[0m             \u001b[0;32melse\u001b[0m\u001b[0;34m:\u001b[0m\u001b[0;34m\u001b[0m\u001b[0;34m\u001b[0m\u001b[0m\n\u001b[1;32m     19\u001b[0m                 \u001b[0mx\u001b[0m \u001b[0;34m=\u001b[0m \u001b[0mtuple\u001b[0m\u001b[0;34m(\u001b[0m\u001b[0margs\u001b[0m\u001b[0;34m[\u001b[0m\u001b[0mi\u001b[0m\u001b[0;34m]\u001b[0m \u001b[0;32mfor\u001b[0m \u001b[0mi\u001b[0m \u001b[0;32min\u001b[0m \u001b[0margnum\u001b[0m\u001b[0;34m)\u001b[0m\u001b[0;34m\u001b[0m\u001b[0;34m\u001b[0m\u001b[0m\n\u001b[0;32m---> 20\u001b[0;31m             \u001b[0;32mreturn\u001b[0m \u001b[0munary_operator\u001b[0m\u001b[0;34m(\u001b[0m\u001b[0munary_f\u001b[0m\u001b[0;34m,\u001b[0m \u001b[0mx\u001b[0m\u001b[0;34m,\u001b[0m \u001b[0;34m*\u001b[0m\u001b[0mnary_op_args\u001b[0m\u001b[0;34m,\u001b[0m \u001b[0;34m**\u001b[0m\u001b[0mnary_op_kwargs\u001b[0m\u001b[0;34m)\u001b[0m\u001b[0;34m\u001b[0m\u001b[0;34m\u001b[0m\u001b[0m\n\u001b[0m\u001b[1;32m     21\u001b[0m         \u001b[0;32mreturn\u001b[0m \u001b[0mnary_f\u001b[0m\u001b[0;34m\u001b[0m\u001b[0;34m\u001b[0m\u001b[0m\n\u001b[1;32m     22\u001b[0m     \u001b[0;32mreturn\u001b[0m \u001b[0mnary_operator\u001b[0m\u001b[0;34m\u001b[0m\u001b[0;34m\u001b[0m\u001b[0m\n",
      "\u001b[0;32m~/anaconda3/lib/python3.9/site-packages/autograd/differential_operators.py\u001b[0m in \u001b[0;36mgrad\u001b[0;34m(fun, x)\u001b[0m\n\u001b[1;32m     25\u001b[0m     \u001b[0mvjp\u001b[0m\u001b[0;34m,\u001b[0m \u001b[0mans\u001b[0m \u001b[0;34m=\u001b[0m \u001b[0m_make_vjp\u001b[0m\u001b[0;34m(\u001b[0m\u001b[0mfun\u001b[0m\u001b[0;34m,\u001b[0m \u001b[0mx\u001b[0m\u001b[0;34m)\u001b[0m\u001b[0;34m\u001b[0m\u001b[0;34m\u001b[0m\u001b[0m\n\u001b[1;32m     26\u001b[0m     \u001b[0;32mif\u001b[0m \u001b[0;32mnot\u001b[0m \u001b[0mvspace\u001b[0m\u001b[0;34m(\u001b[0m\u001b[0mans\u001b[0m\u001b[0;34m)\u001b[0m\u001b[0;34m.\u001b[0m\u001b[0msize\u001b[0m \u001b[0;34m==\u001b[0m \u001b[0;36m1\u001b[0m\u001b[0;34m:\u001b[0m\u001b[0;34m\u001b[0m\u001b[0;34m\u001b[0m\u001b[0m\n\u001b[0;32m---> 27\u001b[0;31m         raise TypeError(\"Grad only applies to real scalar-output functions. \"\n\u001b[0m\u001b[1;32m     28\u001b[0m                         \"Try jacobian, elementwise_grad or holomorphic_grad.\")\n\u001b[1;32m     29\u001b[0m     \u001b[0;32mreturn\u001b[0m \u001b[0mvjp\u001b[0m\u001b[0;34m(\u001b[0m\u001b[0mvspace\u001b[0m\u001b[0;34m(\u001b[0m\u001b[0mans\u001b[0m\u001b[0;34m)\u001b[0m\u001b[0;34m.\u001b[0m\u001b[0mones\u001b[0m\u001b[0;34m(\u001b[0m\u001b[0;34m)\u001b[0m\u001b[0;34m)\u001b[0m\u001b[0;34m\u001b[0m\u001b[0;34m\u001b[0m\u001b[0m\n",
      "\u001b[0;31mTypeError\u001b[0m: Grad only applies to real scalar-output functions. Try jacobian, elementwise_grad or holomorphic_grad."
     ]
    }
   ],
   "source": [
    "import autograd.numpy as np\n",
    "import matplotlib.pyplot as plt\n",
    "max_steps = 10\n",
    "\n",
    "steps = list(range(20))\n",
    "_, cost_history1 = gradient_descent(g, 0.01, max_steps, np.array([3.0, 3.0]))\n",
    "_, cost_history2 = gradient_descent(g, 0.1, max_steps, np.array([3.0, 3.0]))\n",
    "_, cost_history3 = gradient_descent(g, 1, max_steps, np.array([3.0, 3.0]))\n",
    "\n",
    "plt.plot(steps, cost_history1, color=\"green\")\n",
    "plt.plot(steps, cost_history2, color=\"blue\")\n",
    "plt.plot(steps, cost_history3, color=\"red\")\n",
    "\n",
    "plt.title(\"     Performance with different learning rates\\n     (green: 0.01, blue: 0.1, red: 1)     \")\n",
    "plt.xlabel(\"Iteration\")\n",
    "plt.ylabel(\"Cost\")\n",
    "\n",
    "plt.show()"
   ]
  },
  {
   "cell_type": "markdown",
   "metadata": {},
   "source": [
    "12) [15 points] This problem is about learning to tune fixed step length for gradient descent. Here, you are given a cost function:\n",
    "$g(w) = 2w_0^2 + w_1^2 +4w_2^2$ \n",
    "\n",
    "Assume your $w^0$= [5,5,5] and your max_iter = 100\n",
    "\n",
    "Use your latest gradient descent function with a fixed learning rate. Play around with at least 5 different values of alpha (using your intuition). Generate a single plot of the cost as a function of the number of iterations. Which value of alpha seems to converge the fastest?\n",
    "\n",
    "Not that your grade will not depend on how well you do, as long as you try at least 5 different values for alpha and plot them."
   ]
  },
  {
   "cell_type": "code",
   "execution_count": null,
   "metadata": {},
   "outputs": [],
   "source": []
  }
 ],
 "metadata": {
  "interpreter": {
   "hash": "61a57a4b5406d2de388e2f91097d4e4bcd7d5f4a46f53a795aa28a02eed27fc5"
  },
  "kernelspec": {
   "display_name": "Julia 1.5.3",
   "language": "julia",
   "name": "julia-1.5"
  },
  "language_info": {
   "file_extension": ".jl",
   "mimetype": "application/julia",
   "name": "julia",
   "version": "1.5.3"
  }
 },
 "nbformat": 4,
 "nbformat_minor": 2
}
