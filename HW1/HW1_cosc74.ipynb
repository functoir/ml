{
 "cells": [
  {
   "cell_type": "markdown",
   "metadata": {},
   "source": [
    "# HW1  Try out gradient descent\n"
   ]
  },
  {
   "cell_type": "markdown",
   "metadata": {},
   "source": [
    "You should submit this jupyter notebook with your solutions. The solutions should include the code and also the output of all the cells.\n",
    "\n",
    "Note that for the problmes that require a cost function as input you should always use the most recent cost function that you have implemented (unless specified otherwise)."
   ]
  },
  {
   "cell_type": "markdown",
   "metadata": {},
   "source": [
    "1) [5 points] Calculate the derivative of following cost function and write it down:\n",
    "\n",
    "$g(w) = \\frac{1}{50}\\left(w^4 + w^2 + 10w - 50 \\right)$"
   ]
  },
  {
   "cell_type": "markdown",
   "metadata": {},
   "source": [
    "$\\frac{\\partial}{\\partial w}g(w) = \\frac{1}{50}(4w^3 + 2w + 10)$"
   ]
  },
  {
   "cell_type": "markdown",
   "metadata": {},
   "source": [
    "2) [25 points] Implement the gradient descent function as discussed in class using the gradient derived in the last problem. The function should return the cost history for each step. Use the code template below:\n"
   ]
  },
  {
   "cell_type": "code",
   "execution_count": 13,
   "metadata": {},
   "outputs": [
    {
     "data": {
      "text/plain": [
       "[-0.7600000000000002,\n",
       " -1.16344576,\n",
       " -1.2458689398802976,\n",
       " -1.2322467675572077,\n",
       " -1.2353172253121802,\n",
       " -1.2346540140018982,\n",
       " -1.2347986845644063,\n",
       " -1.2347671933426054,\n",
       " -1.2347740513753216,\n",
       " -1.2347725580104927]"
      ]
     },
     "execution_count": 13,
     "metadata": {},
     "output_type": "execute_result"
    }
   ],
   "source": [
    "#gradient descent function\n",
    "#inputs: alpha (learning rate parameter), max_its (maximum number of iterations), w0 (initialization)\n",
    "def gradient_descent(alpha, max_its: int, w0) -> list:\n",
    "    \"\"\"\n",
    "        Function to run gradient descent, given a starting weight and a number of iterations.\n",
    "        :param alpha: learning rate\n",
    "        :param max_its: number of iterations\n",
    "        :param w0: initial weight \n",
    "        :return: list of weights after each iteration step.   \n",
    "    \"\"\"\n",
    "    \n",
    "    # 0. initialize cost history\n",
    "    cost_history = []\n",
    "    w = w0\n",
    "    \n",
    "    # 1. for each iteration step...\n",
    "    for _ in range(max_its):\n",
    "        \n",
    "        # 2. compute the gradient and step\n",
    "        w -= alpha * dw(w)\n",
    "        \n",
    "        # 3. record the current value.\n",
    "        cost_history.append(w)\n",
    "        \n",
    "    return cost_history\n",
    "\n",
    "def g(w) : return 1/50 * (w**4 + w**2 + 10 * w - 50)\n",
    "def dw(w) : return 1/50 * (4 * w**3 + 2 * w + 10)\n",
    "\n",
    "\n",
    "gradient_descent(3, 10, 2.0)"
   ]
  },
  {
   "cell_type": "markdown",
   "metadata": {},
   "source": [
    "3) [10 points] Run the gradient_descent function you implemented three times, with the following parameters. Generate a single plot showing the cost as a function of step number for all three runs (combine all three runs into a single plot). If you are not familiar with plotting in python, here is the docs for matplotlib:(https://matplotlib.org/3.2.1/api/_as_gen/matplotlib.pyplot.plot.html#matplotlib.pyplot.plot). \n",
    "\n",
    "\n",
    "$w^0$ = 2.0\n",
    "max_its = 1000\n",
    "\n",
    "# first run\n",
    "alpha = 1\n",
    "# second run\n",
    "alpha = 0.1\n",
    "# third run\n",
    "alpha = 0.01\n"
   ]
  },
  {
   "cell_type": "code",
   "execution_count": 17,
   "metadata": {},
   "outputs": [
    {
     "data": {
      "image/png": "[encoded data removed]",
      "text/plain": [
       "<Figure size 432x288 with 1 Axes>"
      ]
     },
     "metadata": {
      "needs_background": "light"
     },
     "output_type": "display_data"
    }
   ],
   "source": [
    "import matplotlib.pyplot as plt\n",
    "%matplotlib inline\n",
    "\n",
    "max_steps = 1000\n",
    "steps = list(range(1000))\n",
    "alpha_1 = gradient_descent(1, 1000, 2.0)\n",
    "alpha_2 = gradient_descent(0.1, 1000, 2.0)\n",
    "alpha_3 = gradient_descent(0.01, 1000, 2.0)\n",
    "\n",
    "plt.plot(steps, alpha_1, color=\"green\", label='alpha=1')\n",
    "plt.plot(steps, alpha_2, color=\"blue\", label='alpha=0.1')\n",
    "plt.plot(steps, alpha_3, color=\"red\",label='alpha=0.01')\n",
    "\n",
    "plt.show()\n"
   ]
  },
  {
   "cell_type": "markdown",
   "metadata": {},
   "source": [
    "For the next few problems we will be comparing fixed and diminishing learning rates"
   ]
  },
  {
   "cell_type": "markdown",
   "metadata": {},
   "source": [
    "Take the following cost function:\n",
    "\\begin{equation}\n",
    "g(w) = \\left \\vert w \\right \\vert\n",
    "\\end{equation}"
   ]
  },
  {
   "cell_type": "markdown",
   "metadata": {},
   "source": [
    "4) [5 points] Is this function convex? If no, why not? If yes, where is its global minimum?"
   ]
  },
  {
   "cell_type": "markdown",
   "metadata": {},
   "source": [
    "Yes, the function is convex.\n",
    "\n",
    "$$\n",
    "\\forall w \\in \\mathbb{R}, \\quad g(w) = \\left \\vert w \\right \\vert \\ge 0\n",
    "$$\n",
    "\n",
    "The global minimum is at $w = 0$"
   ]
  },
  {
   "cell_type": "markdown",
   "metadata": {},
   "source": [
    "5) [5 points] What is the derivative of the cost function? "
   ]
  },
  {
   "cell_type": "markdown",
   "metadata": {},
   "source": [
    "6) [20 points] Rewrite the gradient descent function from question 2 such that it takes the cost funciton g as input and uses the autograd library to calculate the gradient. The function should return the weight and cost history for each step. Use the code template below.\n",
    "\n",
    "autograd is a python package for automatic calculation of the gradient. Here is a tutorial on it: (http://www.cs.toronto.edu/~rgrosse/courses/csc321_2017/tutorials/tut4.pdf\n",
    "\n",
    "Note that in Python you can pass functions around like any other variables. That is why you can pass the cost function g to the gradient_descent function. \n",
    "\n",
    "You should be able to install it by running \"pip install autograd\" in a cell in your Jupyter notebook."
   ]
  },
  {
   "cell_type": "code",
   "execution_count": 19,
   "metadata": {},
   "outputs": [
    {
     "data": {
      "text/plain": [
       "[-0.7600000000000002,\n",
       " -1.16344576,\n",
       " -1.2458689398802976,\n",
       " -1.2322467675572077,\n",
       " -1.2353172253121802,\n",
       " -1.2346540140018982,\n",
       " -1.2347986845644061,\n",
       " -1.2347671933426054,\n",
       " -1.2347740513753216,\n",
       " -1.2347725580104927]"
      ]
     },
     "execution_count": 19,
     "metadata": {},
     "output_type": "execute_result"
    }
   ],
   "source": [
    "from autograd import grad \n",
    "\n",
    "#gradient descent function\n",
    "#inputs: g (cost function), alpha (learning rate parameter), max_its (maximum number of iterations), w (initialization)\n",
    "def gradient_descent(g, alpha, max_its, w0):\n",
    "    \n",
    "    # 0. find gradient function\n",
    "    gradient = grad(g)\n",
    "    \n",
    "    # 1. initialize cost history\n",
    "    cost_history = []\n",
    "    weight_history = []\n",
    "    w = w0\n",
    "    \n",
    "    # 2. for each iteration step...\n",
    "    for _ in range(max_its):\n",
    "        \n",
    "        # 2. compute the gradient and step\n",
    "        w -= alpha * gradient(w)\n",
    "        \n",
    "        # 3. record the current value.\n",
    "        cost_history.append(w)\n",
    "        weight_history.append(g(w))\n",
    "        \n",
    "    return cost_history, weight_history\n",
    "\n",
    "def g(w) : return 1/50 * (w**4 + w**2 + 10 * w - 50)\n",
    "\n",
    "gradient_descent(g, 3, 10, 2.0)"
   ]
  },
  {
   "cell_type": "markdown",
   "metadata": {},
   "source": [
    "7) [10 points] Make a run of max_its=20 steps of gradient descent with initialization at the point $w^0 = 1.75$, and a fixed learning rate of $\\alpha = 0.5$. Using the cost and weight history, plot the cost as a function of the weight for each step (cost on y-axis, weight on x-axis). Recall that the terms weight and parameter used interchangeably and both refer to w."
   ]
  },
  {
   "cell_type": "code",
   "execution_count": null,
   "metadata": {},
   "outputs": [],
   "source": [
    "import matplotlib.pyplot as plt\n",
    "%matplotlib inline\n",
    "\n",
    "max_steps = 1000\n",
    "steps = list(range(1000))\n",
    "\n",
    "weight_history = gradient_descent(g, 0.5, 20, 1.75)\n",
    "alpha_2 = gradient_descent(0.1, 1000, 2.0)\n",
    "alpha_3 = gradient_descent(0.01, 1000, 2.0)\n",
    "\n",
    "plt.plot(steps, alpha_1, color=\"green\", label='alpha=1')\n",
    "plt.plot(steps, alpha_2, color=\"blue\", label='alpha=0.1')\n",
    "plt.plot(steps, alpha_3, color=\"red\",label='alpha=0.01')\n",
    "\n",
    "plt.show()"
   ]
  },
  {
   "cell_type": "markdown",
   "metadata": {},
   "source": [
    "8) [15 points] Make a run of max_its=20 steps of gradient descent with initialization at the point $w^0 = 1.75$, using the diminishing rule $\\alpha = \\frac{1}{k}$ (for this you have to modify the gradient_descent function slightly. Use the code template below. Using the cost and wiehgt history, plot the cost as a function of the weight for each step (cost on y-axis, weight on x-axis)"
   ]
  },
  {
   "cell_type": "code",
   "execution_count": null,
   "metadata": {},
   "outputs": [],
   "source": [
    "from autograd import grad \n",
    "\n",
    "#gradient descent function\n",
    "#inputs: g (cost function), alpha (learning rate parameter), max_its (maximum number of iterations), w (initialization)\n",
    "def gradient_descent(g,alpha,max_its,w0):\n",
    "    gradient = grad(g)   ## This is how you use the autograd library to find the gradient of a function \n",
    "    ##Your code here\n",
    "    if alpha=='diminishing':\n",
    "        pass\n",
    "    else:\n",
    "        pass\n",
    "    return weight_history,cost_history"
   ]
  },
  {
   "cell_type": "markdown",
   "metadata": {},
   "source": [
    "9) [10 points]  Generate a single plot showing the cost as a function of step number for both runs (combine all  runs into a single plot). Which approach works better? Why ?"
   ]
  },
  {
   "cell_type": "markdown",
   "metadata": {},
   "source": [
    "We will now look at the oscilating behavior of gradient descent. \n",
    "\n",
    "Take the following cost function:\n",
    "$g(w) = w_0^2 + w_1^2 + 2\\sin(1.5 (w_0 + w_1)) +2$\n",
    "\n",
    "Note that this cost function has two parameters."
   ]
  },
  {
   "cell_type": "markdown",
   "metadata": {},
   "source": [
    "10) [5 points] Make sure your gradient descent function from problem 6 can handle cost functions with more than one parameter. You may need to rewrite it if you were not careful. Use the code template below (if your function from problem 6 is good, you can just copy and paste it here)"
   ]
  },
  {
   "cell_type": "code",
   "execution_count": null,
   "metadata": {},
   "outputs": [],
   "source": [
    "from autograd import grad \n",
    "\n",
    "#gradient descent function\n",
    "#inputs: g (cost function), alpha (learning rate parameter), max_its (maximum number of iterations), w (initialization)\n",
    "def gradient_descent(g,alpha,max_its,w0):\n",
    "    gradient = grad(g)   ## This is how you use the autograd library to find the gradient of a function  \n",
    "    ##Your code here\n",
    "    return weight_history,cost_history"
   ]
  },
  {
   "cell_type": "markdown",
   "metadata": {},
   "source": [
    "11) [10 points] Run the gradient_descent function with the cost function above three times with the following parameters. Generate a single plot showing the cost as a function of step number for all three runs (combine all three runs into a single plot). Use the code template below. Which alpha leads to an oscillating behavior?\n",
    "\n",
    "$w^0$ = [3.0,3.0]\n",
    "max_its = 10\n",
    "\n",
    "# first run\n",
    "alpha = 0.01\n",
    "# second run\n",
    "alpha = 0.1\n",
    "# third run\n",
    "alpha = 1\n",
    "\n"
   ]
  },
  {
   "cell_type": "code",
   "execution_count": null,
   "metadata": {},
   "outputs": [],
   "source": [
    "import autograd.numpy as np\n",
    "#Your code here"
   ]
  },
  {
   "cell_type": "markdown",
   "metadata": {},
   "source": [
    "12) [15 points] This problem is about learning to tune fixed step length for gradient descent. Here, you are given a cost function:\n",
    "$g(w) = 2w_0^2 + w_1^2 +4w_2^2$ \n",
    "\n",
    "Assume your $w^0$= [5,5,5] and your max_iter = 100\n",
    "\n",
    "Use your latest gradient descent function with a fixed learning rate. Play around with at least 5 different values of alpha (using your intuition). Generate a single plot of the cost as a function of the number of iterations. Which value of alpha seems to converge the fastest?\n",
    "\n",
    "Not that your grade will not depend on how well you do, as long as you try at least 5 different values for alpha and plot them."
   ]
  },
  {
   "cell_type": "code",
   "execution_count": null,
   "metadata": {},
   "outputs": [],
   "source": []
  }
 ],
 "metadata": {
  "interpreter": {
   "hash": "61a57a4b5406d2de388e2f91097d4e4bcd7d5f4a46f53a795aa28a02eed27fc5"
  },
  "kernelspec": {
   "display_name": "Xonsh",
   "language": "python",
   "name": "python3"
  },
  "language_info": {
   "codemirror_mode": {
    "name": "ipython",
    "version": 3
   },
   "file_extension": ".py",
   "mimetype": "text/x-python",
   "name": "python",
   "nbconvert_exporter": "python",
   "pygments_lexer": "ipython3",
   "version": "3.9.7"
  }
 },
 "nbformat": 4,
 "nbformat_minor": 2
}
