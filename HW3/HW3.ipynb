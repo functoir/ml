{
 "cells": [
  {
   "cell_type": "markdown",
   "metadata": {},
   "source": [
    "# COSC 74: Machine Learning\n",
    "\n",
    "## Homework 3\n",
    "\n",
    "### Student Name: Amittai Wekesa"
   ]
  },
  {
   "cell_type": "markdown",
   "metadata": {},
   "source": [
    "Please run the cell below to import libraries needed for this HW. Please use the autograd numpy, otherwise you will have issues. Please remember to always use the np library for mathematical functions (e.g., np.log, np.exp, np.sum, etc)"
   ]
  },
  {
   "cell_type": "code",
   "execution_count": 89,
   "metadata": {},
   "outputs": [],
   "source": [
    "import autograd.numpy as np\n",
    "from autograd import grad \n",
    "import matplotlib.pyplot as plt\n",
    "%matplotlib inline"
   ]
  },
  {
   "cell_type": "markdown",
   "metadata": {},
   "source": [
    "Q1) [5 points] Implement the sigmod funcation discussed in class. The function takes a value, x, as input and returns the sigmoid function applied to the value."
   ]
  },
  {
   "cell_type": "code",
   "execution_count": 90,
   "metadata": {},
   "outputs": [],
   "source": [
    "def sigmoid(x):\n",
    "    \"\"\"\n",
    "    Sigmoid function.\n",
    "\n",
    "    Inputs:\n",
    "    ------\n",
    "        `x`: input data.\n",
    "\n",
    "    Outputs:\n",
    "    -------\n",
    "        `y`: sigmoid of `x`. \n",
    "\n",
    "    Notes:\n",
    "    ------\n",
    "    We calculate the sigmoid per the following function:\n",
    "        `f(x) = 1 / (1 + e^(-x))`\n",
    "\n",
    "    \"\"\"\n",
    "    y = 1/(1+np.exp(-x))\n",
    "    return y"
   ]
  },
  {
   "cell_type": "markdown",
   "metadata": {},
   "source": [
    "Q2) [20 points] Implement the logistic regression model and the cross entropy cost discussed in class. Note that the logistic regression model relies on the sigmoid function (which you have implemented above) and the linear  model (which you have implemented in HW2). You can use the linear model from HW2 for this problem. Similar to the least-squares cost from HW2, the cross entropy cost takes in as input an array of weights, w, an array of x's and an array of ys and return a float indicating the total cost."
   ]
  },
  {
   "cell_type": "code",
   "execution_count": 91,
   "metadata": {},
   "outputs": [],
   "source": [
    "def model(x, w):\n",
    "    \"\"\"\n",
    "    Model function for linear regression.\n",
    "\n",
    "    Inputs:\n",
    "    ------\n",
    "        `x`: input data\n",
    "        `w`: weights &mdash; w = [intercept, slope]\n",
    "\n",
    "    Outputs:\n",
    "    -------\n",
    "        `y_predicted`: output predictions\n",
    "    \"\"\"\n",
    "    y_predicted = w[0] + w[1] * x\n",
    "    return y_predicted\n",
    "\n",
    "def cross_entropy(w,x,y):\n",
    "    \"\"\"\n",
    "    Cross entropy cost function.\n",
    "    \n",
    "    Inputs\n",
    "    ------\n",
    "        `w`: weights &mdash; w = [intercept, slope]\n",
    "        `x`: input data\n",
    "        `y`: correct labels\n",
    "\n",
    "    Outputs\n",
    "    -------\n",
    "        `cost`: Computed cost value\n",
    "    \"\"\"\n",
    "\n",
    "    epsilon     = 1e-15               # to avoid log(0)\n",
    "    xTw         = model(x, w)\n",
    "    sigmoid_x   = sigmoid(xTw)\n",
    "    cost_1      = -y * np.log(epsilon + sigmoid_x)\n",
    "    cost_0      = (1 - y) * np.log(epsilon + 1 - sigmoid_x)\n",
    "    _cost       = cost_1 - cost_0\n",
    "    cost        = np.mean(_cost)\n",
    "    return cost"
   ]
  },
  {
   "cell_type": "markdown",
   "metadata": {},
   "source": [
    "Q3) [2 points] Run the code below to read a data file. Plot a scatter plot of x vs y."
   ]
  },
  {
   "cell_type": "code",
   "execution_count": 92,
   "metadata": {},
   "outputs": [
    {
     "data": {
      "image/png": "[encoded data removed]",
      "text/plain": [
       "<Figure size 432x288 with 1 Axes>"
      ]
     },
     "metadata": {
      "needs_background": "light"
     },
     "output_type": "display_data"
    }
   ],
   "source": [
    "csvname = '2d_classification_data_v1_entropy.csv'\n",
    "data = np.loadtxt(csvname, delimiter = ',')\n",
    "x = data[:-1,:]\n",
    "y = data[-1:,:]\n",
    "\n",
    "plt.scatter(x, y, color='red')\n",
    "plt.grid(linestyle=\"--\")\n",
    "plt.xlabel('x')\n",
    "plt.ylabel('y')\n",
    "plt.xticks(range(0, 7))\n",
    "plt.yticks([-1, 0, 1, 2])\n",
    "plt.show()"
   ]
  },
  {
   "cell_type": "markdown",
   "metadata": {},
   "source": [
    "Q4) [10 points] Move the gradient descent function from HW2. Run the function using the cross_entropy cost and the x and y from above. The parameters should be set to: max_its=2000,w=[3.0,3.0 ], and alpha=1. Save the cost and weight history returned by the gradient descent function. Plot the cost history.\n"
   ]
  },
  {
   "cell_type": "code",
   "execution_count": 93,
   "metadata": {},
   "outputs": [],
   "source": [
    "def gradient_descent(g, alpha, max_its, w, x, y):\n",
    "    \"\"\"\n",
    "    Gradient Descent.\n",
    "\n",
    "    Inputs:\n",
    "    ------\n",
    "        `g`: cost function.\n",
    "        `alpha`: learning rate\n",
    "        `max_its`: number of iterations\n",
    "        `w`: initial weight \n",
    "        `x`: input data\n",
    "        `y`: correct tags\n",
    "    \n",
    "    Outputs:\n",
    "    -------\n",
    "        `weight_history`: lists of weights\n",
    "        `cost_history`: list of costs corresponding to the weights.\n",
    "    \"\"\"\n",
    "    \n",
    "    # 0. init\n",
    "    gradient = grad(g)\n",
    "\n",
    "    weight_history = [w]\n",
    "    cost_history = [g(w, x, y)]\n",
    "    \n",
    "    # 1. iterate\n",
    "    for step in range(max_its):\n",
    "\n",
    "        # 2. step\n",
    "        w -= alpha * gradient(w, x, y)\n",
    "        \n",
    "        # 3. record\n",
    "        cost_history.append(g(w, x, y))\n",
    "        weight_history.append(w)\n",
    "        \n",
    "    return weight_history, cost_history\n"
   ]
  },
  {
   "cell_type": "code",
   "execution_count": 94,
   "metadata": {},
   "outputs": [
    {
     "data": {
      "image/png": "[encoded data removed]",
      "text/plain": [
       "<Figure size 432x288 with 1 Axes>"
      ]
     },
     "metadata": {
      "needs_background": "light"
     },
     "output_type": "display_data"
    }
   ],
   "source": [
    "max_its = 2000\n",
    "w       = np.array([3.0, 3.0])\n",
    "alpha   = 1\n",
    "\n",
    "weights, costs = gradient_descent(cross_entropy, alpha, max_its, w, x, y)\n",
    "steps = np.arange(max_its + 1)\n",
    "\n",
    "plt.plot(steps, costs, color='blue')\n",
    "plt.grid(linestyle=\"--\")\n",
    "plt.xlabel('iteration')\n",
    "plt.ylabel('cost')\n",
    "plt.xticks(range(0, max_its + 2, 200))\n",
    "plt.yticks(np.arange(0, 2, 0.25))\n",
    "plt.show()\n"
   ]
  },
  {
   "cell_type": "markdown",
   "metadata": {},
   "source": [
    "Q5) [10 points] Implement a logistic regression classifier that takes in the learned weights and x as input and returns the probability of the positive class (note that this is just the output of the sigmoid applied to the linear combination of the x and w)"
   ]
  },
  {
   "cell_type": "code",
   "execution_count": 95,
   "metadata": {},
   "outputs": [],
   "source": [
    "def logistic_regression(learned_w,x):\n",
    "    \"\"\"\n",
    "    Logistic regression.\n",
    "\n",
    "    Inputs:\n",
    "    ------\n",
    "        `learned_w`: weights &mdash; learned_w = [intercept, slope]\n",
    "        `x`: input data\n",
    "\n",
    "    Outputs:\n",
    "    -------\n",
    "        `positive_class_prob`: distribution probabilities (0 <= x <= 1)\n",
    "            of the point being the positive class (1)\n",
    "    \"\"\"\n",
    "    \n",
    "    positive_class_prob = sigmoid(model(x, learned_w))\n",
    "    return positive_class_prob"
   ]
  },
  {
   "cell_type": "markdown",
   "metadata": {},
   "source": [
    "Q6) [5 points] Use the learned weights from the last gradient descent run and the logistic regression function implemented above to plot the learned curve. You can use the linspace method (shown below) to generate a list of xs that you can use. You need to generate a y for each of the candidate xs using the logistic regression function and the learned weights. On the same figure, also plot the scatter plot from Q3. \n"
   ]
  },
  {
   "cell_type": "code",
   "execution_count": 96,
   "metadata": {},
   "outputs": [
    {
     "data": {
      "image/png": "[encoded data removed]",
      "text/plain": [
       "<Figure size 432x288 with 1 Axes>"
      ]
     },
     "metadata": {
      "needs_background": "light"
     },
     "output_type": "display_data"
    }
   ],
   "source": [
    "s = np.linspace(np.min(x),np.max(x))\n",
    "learned_weights = weights[-1]\n",
    "ys = logistic_regression(learned_weights, s)\n",
    "\n",
    "plt.scatter(x, y, color='red')\n",
    "plt.plot(s, ys, color='blue')\n",
    "plt.grid(linestyle=\"--\")\n",
    "plt.xlabel(\"x\")\n",
    "plt.ylabel(\"predicted y\")\n",
    "plt.xticks(range(0, 7))\n",
    "plt.yticks([-1, 0, 1, 2])\n",
    "plt.show()"
   ]
  },
  {
   "cell_type": "markdown",
   "metadata": {},
   "source": [
    "Q7) [5 points] Slightly modify the logistic regression model above so that it returns a 1 or 0 based on the specified threshold."
   ]
  },
  {
   "cell_type": "code",
   "execution_count": 97,
   "metadata": {},
   "outputs": [],
   "source": [
    "def logistic_regression_modified(learned_w, x, threshold):\n",
    "    \"\"\"\n",
    "    Logistic regression &mdash; discretized to either produce 0 or 1\n",
    "    depending on a specifided threshold.\n",
    "\n",
    "    Inputs:\n",
    "    ------\n",
    "        `learned_w`: weights &mdash; learned_w = [intercept, slope]\n",
    "        `x`: input data\n",
    "        `threshold`: threshold value\n",
    "\n",
    "    Outputs:\n",
    "    -------\n",
    "        `class_label`: the predicted class, either 0 or 1\n",
    "    \"\"\"\n",
    "\n",
    "    prediction = logistic_regression(learned_w, x)\n",
    "    class_label: int = np.round(prediction - threshold + 0.5)\n",
    "    return class_label"
   ]
  },
  {
   "cell_type": "markdown",
   "metadata": {},
   "source": [
    "Q8) [15 points] Write a function (called evaluate) that takes in actual and predicted ys (for a binary classification problem) and return a confusion matrix and the accuracy. Use the modified logistic regression model and the evaluate function below to report the confusion matrix and accuracy for the x and y used for our training at a threshold of 0.5.  "
   ]
  },
  {
   "cell_type": "code",
   "execution_count": 98,
   "metadata": {},
   "outputs": [
    {
     "name": "stdout",
     "output_type": "stream",
     "text": [
      "false_positive = 0\n",
      "false_negative = 0\n",
      "true_positive = 6\n",
      "true_negative = 5\n",
      "accuracy = 1.0\n"
     ]
    }
   ],
   "source": [
    "def evaluate(y_actual,y_pred):\n",
    "    \"\"\"\n",
    "    Evaluate the performance of the model.\n",
    "\n",
    "    Inputs:\n",
    "    ------\n",
    "        `y_actual`: actual labels\n",
    "        `y_pred`: predicted labels\n",
    "        \n",
    "    Outputs:\n",
    "    -------\n",
    "        `false_positives`: number of false positives\n",
    "        `false_negatives`: number of false negatives\n",
    "        `true_positives`: number of true positives\n",
    "        `true_negatives`: number of true negatives\n",
    "        `accuracy`: the percentage of predictions that were correct, 0 <= accuracy <= 1\n",
    "\n",
    "    \"\"\"\n",
    "\n",
    "    false_positive  = 0\n",
    "    false_negative  = 0\n",
    "    true_positive   = 0\n",
    "    true_negative   = 0\n",
    "    correct         = 0\n",
    "\n",
    "    for (actual, predicted) in zip(y_actual[0], y_pred[0]):\n",
    "        if actual == predicted:\n",
    "            correct += 1\n",
    "\n",
    "            if actual == 1:\n",
    "                true_positive += 1\n",
    "            else:\n",
    "                true_negative += 1\n",
    "    \n",
    "        elif actual == 1:\n",
    "            false_negative += 1\n",
    "        else:\n",
    "            false_positive += 1\n",
    "    \n",
    "    accuracy = correct / len(y_actual[0])\n",
    "\n",
    "    return false_positive, false_negative, true_positive, true_negative, accuracy\n",
    "\n",
    "predictions = logistic_regression_modified(learned_weights, x, 0.5)\n",
    "false_positive, false_negative, true_positive, true_negative, accuracy = evaluate(y, predictions)\n",
    "\n",
    "print(f\"{false_positive = }\")\n",
    "print(f\"{false_negative = }\")\n",
    "print(f\"{true_positive = }\")\n",
    "print(f\"{true_negative = }\")\n",
    "print(f\"{accuracy = }\")"
   ]
  },
  {
   "cell_type": "markdown",
   "metadata": {},
   "source": [
    "Q9) [20 points] Implement the perceptron cost function from the class (the softmax version). Note that the perceptron cost also uses the linear model (the model function from question 2)."
   ]
  },
  {
   "cell_type": "code",
   "execution_count": 99,
   "metadata": {},
   "outputs": [],
   "source": [
    "def perceptron_cost(w, x, y):\n",
    "   \"\"\"\n",
    "   Perceptron cost function.\n",
    "\n",
    "   Inputs:\n",
    "   ------\n",
    "      `w`: weights &mdash; w = [intercept, slope]\n",
    "      `x`: input data\n",
    "      `y`: correct tags\n",
    "      \n",
    "   Outputs:\n",
    "   -------\n",
    "      `cost`: computed softmax cost.\n",
    "   \"\"\"\n",
    "\n",
    "   xTw = model(x, w)\n",
    "\n",
    "   soft_s = np.log(1 + np.exp(-y * xTw))\n",
    "\n",
    "   cost = np.mean(soft_s)\n",
    "   \n",
    "   return cost"
   ]
  },
  {
   "cell_type": "markdown",
   "metadata": {},
   "source": [
    "Q10) [10 points] Run gradient descent function using the perceptron cost and the x and y from above and the parameters set to: max_its=2000,w=[1.0,1.0], and alpha=1.0. Save the cost and weight history returned by the gradient descent function. Plot the cost history. Which cost seems to do better on this dataset? Why do think that is?\n"
   ]
  },
  {
   "cell_type": "code",
   "execution_count": 100,
   "metadata": {},
   "outputs": [
    {
     "data": {
      "image/png": "[encoded data removed]",
      "text/plain": [
       "<Figure size 432x288 with 1 Axes>"
      ]
     },
     "metadata": {
      "needs_background": "light"
     },
     "output_type": "display_data"
    }
   ],
   "source": [
    "max_its = 2000\n",
    "w       = np.array([1.0, 1.0])\n",
    "alpha   = 1.0\n",
    "\n",
    "# create copy of ys for perceptron, replace 0 with -1\n",
    "y_2 = y.copy()\n",
    "y_2[y_2 == 0] = -1\n",
    "\n",
    "\n",
    "weights_cross_entropy, costs_cross_entropy = gradient_descent(cross_entropy, alpha, max_its, np.array([1.0, 1.0]), x, y)\n",
    "weights_perceptron, costs_perceptron = gradient_descent(perceptron_cost, alpha, max_its, np.array([1.0, 1.0]), x, y_2)\n",
    "steps = np.arange(max_its + 1)\n",
    "\n",
    "plt.plot(steps, costs_cross_entropy, color='blue', label='cross entropy', alpha=0.7)\n",
    "plt.plot(steps, costs_perceptron, color='red', label='perceptron', alpha=0.7)\n",
    "plt.grid(linestyle=\"--\")\n",
    "plt.xlabel('iteration')\n",
    "plt.ylabel('cost')\n",
    "plt.xticks(range(0, max_its + 2, 200))\n",
    "plt.legend()\n",
    "plt.show()\n",
    "\n"
   ]
  },
  {
   "cell_type": "markdown",
   "metadata": {},
   "source": [
    "I (suspiciously) got the identical performance with the perceptron cost as with cross entropy cost when I set both runs to use the same starting weights.\n",
    "\n",
    "I think this is justified, since the tanh function is just a shifted version of the sigmoid function.\n",
    "\n",
    "---"
   ]
  },
  {
   "cell_type": "markdown",
   "metadata": {},
   "source": [
    "## The rest of these problems are for bonus points"
   ]
  },
  {
   "cell_type": "markdown",
   "metadata": {},
   "source": [
    "Q11) [2 points]  The file 'heart.csv' has 304 lines, each one corresponding to a data point. Each row (i.e., data point), has several columns. Read the data file. Note that the first line is the header describing each column."
   ]
  },
  {
   "cell_type": "code",
   "execution_count": 101,
   "metadata": {},
   "outputs": [
    {
     "data": {
      "text/html": [
       "<div>\n",
       "<style scoped>\n",
       "    .dataframe tbody tr th:only-of-type {\n",
       "        vertical-align: middle;\n",
       "    }\n",
       "\n",
       "    .dataframe tbody tr th {\n",
       "        vertical-align: top;\n",
       "    }\n",
       "\n",
       "    .dataframe thead th {\n",
       "        text-align: right;\n",
       "    }\n",
       "</style>\n",
       "<table border=\"1\" class=\"dataframe\">\n",
       "  <thead>\n",
       "    <tr style=\"text-align: right;\">\n",
       "      <th></th>\n",
       "      <th>age</th>\n",
       "      <th>sex</th>\n",
       "      <th>cp</th>\n",
       "      <th>trestbps</th>\n",
       "      <th>chol</th>\n",
       "      <th>fbs</th>\n",
       "      <th>restecg</th>\n",
       "      <th>thalach</th>\n",
       "      <th>exang</th>\n",
       "      <th>oldpeak</th>\n",
       "      <th>slope</th>\n",
       "      <th>ca</th>\n",
       "      <th>thal</th>\n",
       "      <th>target</th>\n",
       "    </tr>\n",
       "  </thead>\n",
       "  <tbody>\n",
       "    <tr>\n",
       "      <th>0</th>\n",
       "      <td>63</td>\n",
       "      <td>1</td>\n",
       "      <td>3</td>\n",
       "      <td>145</td>\n",
       "      <td>233</td>\n",
       "      <td>1</td>\n",
       "      <td>0</td>\n",
       "      <td>150</td>\n",
       "      <td>0</td>\n",
       "      <td>2.3</td>\n",
       "      <td>0</td>\n",
       "      <td>0</td>\n",
       "      <td>1</td>\n",
       "      <td>1</td>\n",
       "    </tr>\n",
       "    <tr>\n",
       "      <th>1</th>\n",
       "      <td>37</td>\n",
       "      <td>1</td>\n",
       "      <td>2</td>\n",
       "      <td>130</td>\n",
       "      <td>250</td>\n",
       "      <td>0</td>\n",
       "      <td>1</td>\n",
       "      <td>187</td>\n",
       "      <td>0</td>\n",
       "      <td>3.5</td>\n",
       "      <td>0</td>\n",
       "      <td>0</td>\n",
       "      <td>2</td>\n",
       "      <td>1</td>\n",
       "    </tr>\n",
       "    <tr>\n",
       "      <th>2</th>\n",
       "      <td>41</td>\n",
       "      <td>0</td>\n",
       "      <td>1</td>\n",
       "      <td>130</td>\n",
       "      <td>204</td>\n",
       "      <td>0</td>\n",
       "      <td>0</td>\n",
       "      <td>172</td>\n",
       "      <td>0</td>\n",
       "      <td>1.4</td>\n",
       "      <td>2</td>\n",
       "      <td>0</td>\n",
       "      <td>2</td>\n",
       "      <td>1</td>\n",
       "    </tr>\n",
       "    <tr>\n",
       "      <th>3</th>\n",
       "      <td>56</td>\n",
       "      <td>1</td>\n",
       "      <td>1</td>\n",
       "      <td>120</td>\n",
       "      <td>236</td>\n",
       "      <td>0</td>\n",
       "      <td>1</td>\n",
       "      <td>178</td>\n",
       "      <td>0</td>\n",
       "      <td>0.8</td>\n",
       "      <td>2</td>\n",
       "      <td>0</td>\n",
       "      <td>2</td>\n",
       "      <td>1</td>\n",
       "    </tr>\n",
       "    <tr>\n",
       "      <th>4</th>\n",
       "      <td>57</td>\n",
       "      <td>0</td>\n",
       "      <td>0</td>\n",
       "      <td>120</td>\n",
       "      <td>354</td>\n",
       "      <td>0</td>\n",
       "      <td>1</td>\n",
       "      <td>163</td>\n",
       "      <td>1</td>\n",
       "      <td>0.6</td>\n",
       "      <td>2</td>\n",
       "      <td>0</td>\n",
       "      <td>2</td>\n",
       "      <td>1</td>\n",
       "    </tr>\n",
       "  </tbody>\n",
       "</table>\n",
       "</div>"
      ],
      "text/plain": [
       "   age  sex  cp  trestbps  chol  fbs  restecg  thalach  exang  oldpeak  slope  \\\n",
       "0   63    1   3       145   233    1        0      150      0      2.3      0   \n",
       "1   37    1   2       130   250    0        1      187      0      3.5      0   \n",
       "2   41    0   1       130   204    0        0      172      0      1.4      2   \n",
       "3   56    1   1       120   236    0        1      178      0      0.8      2   \n",
       "4   57    0   0       120   354    0        1      163      1      0.6      2   \n",
       "\n",
       "   ca  thal  target  \n",
       "0   0     1       1  \n",
       "1   0     2       1  \n",
       "2   0     2       1  \n",
       "3   0     2       1  \n",
       "4   0     2       1  "
      ]
     },
     "execution_count": 101,
     "metadata": {},
     "output_type": "execute_result"
    }
   ],
   "source": [
    "import pandas as pd\n",
    "csvname = 'heart.csv'\n",
    "dataframe = pd.read_csv(csvname, delimiter = ',')\n",
    "dataframe.head()"
   ]
  },
  {
   "cell_type": "markdown",
   "metadata": {},
   "source": [
    "Q12) [2 points] Use the data above to set y to be the \"target\" and X to be the remaining columns."
   ]
  },
  {
   "cell_type": "code",
   "execution_count": 102,
   "metadata": {},
   "outputs": [
    {
     "name": "stdout",
     "output_type": "stream",
     "text": [
      "   age  sex  cp  trestbps  chol  fbs  restecg  thalach  exang  oldpeak  slope  \\\n",
      "0   63    1   3       145   233    1        0      150      0      2.3      0   \n",
      "1   37    1   2       130   250    0        1      187      0      3.5      0   \n",
      "2   41    0   1       130   204    0        0      172      0      1.4      2   \n",
      "3   56    1   1       120   236    0        1      178      0      0.8      2   \n",
      "4   57    0   0       120   354    0        1      163      1      0.6      2   \n",
      "\n",
      "   ca  thal  \n",
      "0   0     1  \n",
      "1   0     2  \n",
      "2   0     2  \n",
      "3   0     2  \n",
      "4   0     2  \n",
      "0    1\n",
      "1    1\n",
      "2    1\n",
      "3    1\n",
      "4    1\n",
      "Name: target, dtype: int64\n"
     ]
    }
   ],
   "source": [
    "x = dataframe.drop(\"target\", axis=1)\n",
    "y = dataframe[\"target\"]\n",
    "print(x.head())\n",
    "print(y.head())"
   ]
  },
  {
   "cell_type": "markdown",
   "metadata": {},
   "source": [
    "Q13) [2 points] Run the code below to import the logistic regression and the train_test split functions from sklearn. Split your data into 80% train 20% test."
   ]
  },
  {
   "cell_type": "code",
   "execution_count": 103,
   "metadata": {},
   "outputs": [
    {
     "name": "stdout",
     "output_type": "stream",
     "text": [
      "X train\n",
      "     age  sex  cp  trestbps  chol  fbs  restecg  thalach  exang  oldpeak  \\\n",
      "74    43    0   2       122   213    0        1      165      0      0.2   \n",
      "153   66    0   2       146   278    0        0      152      0      0.0   \n",
      "64    58    1   2       140   211    1        0      165      0      0.0   \n",
      "296   63    0   0       124   197    0        1      136      1      0.0   \n",
      "287   57    1   1       154   232    0        0      164      0      0.0   \n",
      "\n",
      "     slope  ca  thal  \n",
      "74       1   0     2  \n",
      "153      1   1     2  \n",
      "64       2   0     2  \n",
      "296      1   0     2  \n",
      "287      2   1     2  \n",
      "y train\n",
      "74     1\n",
      "153    1\n",
      "64     1\n",
      "296    0\n",
      "287    0\n",
      "Name: target, dtype: int64\n",
      "x test\n",
      "     age  sex  cp  trestbps  chol  fbs  restecg  thalach  exang  oldpeak  \\\n",
      "225   70    1   0       145   174    0        1      125      1      2.6   \n",
      "152   64    1   3       170   227    0        0      155      0      0.6   \n",
      "228   59    1   3       170   288    0        0      159      0      0.2   \n",
      "201   60    1   0       125   258    0        0      141      1      2.8   \n",
      "52    62    1   2       130   231    0        1      146      0      1.8   \n",
      "\n",
      "     slope  ca  thal  \n",
      "225      0   0     3  \n",
      "152      1   0     3  \n",
      "228      1   0     3  \n",
      "201      1   1     3  \n",
      "52       1   3     3  \n",
      "y test\n",
      "225    0\n",
      "152    1\n",
      "228    0\n",
      "201    0\n",
      "52     1\n",
      "Name: target, dtype: int64\n"
     ]
    }
   ],
   "source": [
    "from sklearn.linear_model import LogisticRegression\n",
    "from sklearn.model_selection import train_test_split \n",
    "\n",
    "X_train, X_test, y_train, y_test = train_test_split(x, y, test_size=0.2, random_state=0)\n",
    "print(\"X train\")\n",
    "print(X_train.head())\n",
    "print(\"y train\")\n",
    "print(y_train.head())\n",
    "print(\"x test\")\n",
    "print(X_test.head())\n",
    "print(\"y test\")\n",
    "print(y_test.head())"
   ]
  },
  {
   "cell_type": "markdown",
   "metadata": {},
   "source": [
    "Q14) [5 points] Use sklearn to fit a logistic regression model on your training set. Use all the default parameter. Do not evaluate at this point. (You can find out about sklearn logistic regression here: https://scikit-learn.org/stable/modules/generated/sklearn.linear_model.LogisticRegression.html)"
   ]
  },
  {
   "cell_type": "code",
   "execution_count": 112,
   "metadata": {},
   "outputs": [
    {
     "data": {
      "text/plain": [
       "LogisticRegression(max_iter=10000)"
      ]
     },
     "execution_count": 112,
     "metadata": {},
     "output_type": "execute_result"
    }
   ],
   "source": [
    "model = LogisticRegression(max_iter=10000)\n",
    "model.fit(X_train, y_train)\n"
   ]
  },
  {
   "cell_type": "markdown",
   "metadata": {},
   "source": [
    "Q15) [5 points] Use the .predict_proba function of the logistic regression model that you have learned on your X_test. Note that the .predict_proba function returns an array of tuples where each element corresponds to the predicted probability for class 0 and 1 of the data point."
   ]
  },
  {
   "cell_type": "code",
   "execution_count": 120,
   "metadata": {},
   "outputs": [
    {
     "name": "stdout",
     "output_type": "stream",
     "text": [
      "[[0.95653143 0.04346857]\n",
      " [0.2012099  0.7987901 ]\n",
      " [0.18789902 0.81210098]\n",
      " [0.97680918 0.02319082]\n",
      " [0.8981166  0.1018834 ]\n",
      " [0.53840472 0.46159528]\n",
      " [0.91759944 0.08240056]\n",
      " [0.88163044 0.11836956]\n",
      " [0.99517745 0.00482255]\n",
      " [0.9963012  0.0036988 ]\n",
      " [0.24084346 0.75915654]\n",
      " [0.06664967 0.93335033]\n",
      " [0.96514038 0.03485962]\n",
      " [0.15739838 0.84260162]\n",
      " [0.03670801 0.96329199]\n",
      " [0.2868466  0.7131534 ]\n",
      " [0.92713893 0.07286107]\n",
      " [0.27613696 0.72386304]\n",
      " [0.99203218 0.00796782]\n",
      " [0.15202987 0.84797013]\n",
      " [0.18005283 0.81994717]\n",
      " [0.65234629 0.34765371]\n",
      " [0.90642826 0.09357174]\n",
      " [0.85953742 0.14046258]\n",
      " [0.11952041 0.88047959]\n",
      " [0.46000158 0.53999842]\n",
      " [0.81758619 0.18241381]\n",
      " [0.61903428 0.38096572]\n",
      " [0.02040678 0.97959322]\n",
      " [0.34753823 0.65246177]\n",
      " [0.36971027 0.63028973]\n",
      " [0.98309235 0.01690765]\n",
      " [0.03482673 0.96517327]\n",
      " [0.26089137 0.73910863]\n",
      " [0.07176474 0.92823526]\n",
      " [0.34173925 0.65826075]\n",
      " [0.96422061 0.03577939]\n",
      " [0.15622893 0.84377107]\n",
      " [0.9111741  0.0888259 ]\n",
      " [0.86458061 0.13541939]\n",
      " [0.23417797 0.76582203]\n",
      " [0.20329599 0.79670401]\n",
      " [0.64564379 0.35435621]\n",
      " [0.91629497 0.08370503]\n",
      " [0.48687015 0.51312985]\n",
      " [0.29391228 0.70608772]\n",
      " [0.1846724  0.8153276 ]\n",
      " [0.37170546 0.62829454]\n",
      " [0.95350866 0.04649134]\n",
      " [0.18160551 0.81839449]\n",
      " [0.14512933 0.85487067]\n",
      " [0.40063871 0.59936129]\n",
      " [0.02753735 0.97246265]\n",
      " [0.1319537  0.8680463 ]\n",
      " [0.0051157  0.9948843 ]\n",
      " [0.86584252 0.13415748]\n",
      " [0.05242184 0.94757816]\n",
      " [0.07307177 0.92692823]\n",
      " [0.23571117 0.76428883]\n",
      " [0.04895149 0.95104851]\n",
      " [0.2386537  0.7613463 ]]\n"
     ]
    }
   ],
   "source": [
    "predictions = model.predict_proba(X_test)\n",
    "# print(type(predictions))\n",
    "# print(predictions.shape)\n",
    "print(predictions)\n"
   ]
  },
  {
   "cell_type": "markdown",
   "metadata": {},
   "source": [
    "Q16) [2 points] Filter the predicted probabilties from the last question to an array containing only the probabilites for class 1. I.e., you should no longer have tuples."
   ]
  },
  {
   "cell_type": "code",
   "execution_count": 121,
   "metadata": {},
   "outputs": [
    {
     "name": "stdout",
     "output_type": "stream",
     "text": [
      "[0.04346857 0.7987901  0.81210098 0.02319082 0.1018834  0.46159528\n",
      " 0.08240056 0.11836956 0.00482255 0.0036988  0.75915654 0.93335033\n",
      " 0.03485962 0.84260162 0.96329199 0.7131534  0.07286107 0.72386304\n",
      " 0.00796782 0.84797013 0.81994717 0.34765371 0.09357174 0.14046258\n",
      " 0.88047959 0.53999842 0.18241381 0.38096572 0.97959322 0.65246177\n",
      " 0.63028973 0.01690765 0.96517327 0.73910863 0.92823526 0.65826075\n",
      " 0.03577939 0.84377107 0.0888259  0.13541939 0.76582203 0.79670401\n",
      " 0.35435621 0.08370503 0.51312985 0.70608772 0.8153276  0.62829454\n",
      " 0.04649134 0.81839449 0.85487067 0.59936129 0.97246265 0.8680463\n",
      " 0.9948843  0.13415748 0.94757816 0.92692823 0.76428883 0.95104851\n",
      " 0.7613463 ]\n"
     ]
    }
   ],
   "source": [
    "predictions = predictions[:, 1]\n",
    "print(predictions)"
   ]
  },
  {
   "cell_type": "markdown",
   "metadata": {},
   "source": [
    "Q17) [8 points] Use the roc_curve function from sklearn (https://scikit-learn.org/stable/modules/generated/sklearn.metrics.roc_curve.html) to plot the ROC curve for your predictions using the predicted probabilities for class 1 and your y_test (use the default parameters). Also, print out the thresholds generated by the roc_curve function."
   ]
  },
  {
   "cell_type": "code",
   "execution_count": 124,
   "metadata": {},
   "outputs": [
    {
     "name": "stdout",
     "output_type": "stream",
     "text": [
      "thresholds = array([1.9948843 , 0.9948843 , 0.92823526, 0.92692823, 0.8153276 ,\n",
      "       0.81210098, 0.70608772, 0.65826075, 0.65246177, 0.62829454,\n",
      "       0.59936129, 0.53999842, 0.51312985, 0.38096572, 0.35435621,\n",
      "       0.11836956, 0.1018834 , 0.08240056, 0.07286107, 0.0036988 ])\n"
     ]
    },
    {
     "data": {
      "image/png": "[encoded data removed]",
      "text/plain": [
       "<Figure size 432x288 with 1 Axes>"
      ]
     },
     "metadata": {
      "needs_background": "light"
     },
     "output_type": "display_data"
    }
   ],
   "source": [
    "from sklearn.metrics import roc_curve\n",
    "\n",
    "fpr, tpr, thresholds = roc_curve(y_test, predictions)\n",
    "print(f\"{thresholds = }\")\n",
    "\n",
    "plt.plot(fpr, tpr, color='red', label='ROC curve')\n",
    "plt.grid(linestyle=\"--\")\n",
    "plt.xlabel('fpr')\n",
    "plt.ylabel('tpr')\n",
    "plt.legend(loc=\"lower right\")\n",
    "plt.show()"
   ]
  },
  {
   "cell_type": "markdown",
   "metadata": {},
   "source": [
    "Q18) [2 points] Use the roc_auc_score function from sklearn (https://scikit-learn.org/stable/modules/generated/sklearn.metrics.roc_auc_score.html#sklearn.metrics.roc_auc_score) to report the AUC score using the exact same setup as the last question."
   ]
  },
  {
   "cell_type": "code",
   "execution_count": 125,
   "metadata": {},
   "outputs": [
    {
     "name": "stdout",
     "output_type": "stream",
     "text": [
      "AUC = 0.9095860566448801\n"
     ]
    }
   ],
   "source": [
    "from sklearn.metrics import roc_auc_score\n",
    "\n",
    "AUC = roc_auc_score(y_test, predictions)\n",
    "print(f\"{AUC = }\")\n"
   ]
  }
 ],
 "metadata": {
  "interpreter": {
   "hash": "607b7d84c7d8e26dbbffb4014e40424fe2faf80a09a85d717e93e42c2773dc40"
  },
  "kernelspec": {
   "display_name": "Python 3.10.4 ('ml')",
   "language": "python",
   "name": "python3"
  },
  "language_info": {
   "codemirror_mode": {
    "name": "ipython",
    "version": 3
   },
   "file_extension": ".py",
   "mimetype": "text/x-python",
   "name": "python",
   "nbconvert_exporter": "python",
   "pygments_lexer": "ipython3",
   "version": "3.10.4"
  },
  "vscode": {
   "interpreter": {
    "hash": "61a57a4b5406d2de388e2f91097d4e4bcd7d5f4a46f53a795aa28a02eed27fc5"
   }
  }
 },
 "nbformat": 4,
 "nbformat_minor": 2
}
