{
 "cells": [
  {
   "cell_type": "markdown",
   "metadata": {},
   "source": [
    "# COSC 74: Machine Learning\n",
    "\n",
    "## Homework 3\n",
    "\n",
    "### Student Name: Amittai Wekesa"
   ]
  },
  {
   "cell_type": "markdown",
   "metadata": {},
   "source": [
    "Please run the cell below to import libraries needed for this HW. Please use the autograd numpy, otherwise you will have issues. Please remember to always use the np library for mathematical functions (e.g., np.log, np.exp, np.sum, etc)"
   ]
  },
  {
   "cell_type": "code",
   "execution_count": 148,
   "metadata": {},
   "outputs": [],
   "source": [
    "import autograd.numpy as np\n",
    "from autograd import grad \n",
    "import matplotlib.pyplot as plt\n",
    "%matplotlib inline"
   ]
  },
  {
   "cell_type": "markdown",
   "metadata": {},
   "source": [
    "Q1) [5 points] Implement the sigmod funcation discussed in class. The function takes a value, x, as input and returns the sigmoid function applied to the value."
   ]
  },
  {
   "cell_type": "code",
   "execution_count": 149,
   "metadata": {},
   "outputs": [],
   "source": [
    "def sigmoid(x):\n",
    "    \"\"\"\n",
    "    Sigmoid function.\n",
    "\n",
    "    Inputs:\n",
    "    ------\n",
    "        `x`: input data.\n",
    "\n",
    "    Outputs:\n",
    "    -------\n",
    "        `y`: sigmoid of `x`. \n",
    "\n",
    "    Notes:\n",
    "    ------\n",
    "    We calculate the sigmoid per the following function:\n",
    "        `f(x) = 1 / (1 + e^(-x))`\n",
    "\n",
    "    \"\"\"\n",
    "    y = 1/(1+np.exp(-x))\n",
    "    return y"
   ]
  },
  {
   "cell_type": "markdown",
   "metadata": {},
   "source": [
    "Q2) [20 points] Implement the logistic regression model and the cross entropy cost discussed in class. Note that the logistic regression model relies on the sigmoid function (which you have implemented above) and the linear  model (which you have implemented in HW2). You can use the linear model from HW2 for this problem. Similar to the least-squares cost from HW2, the cross entropy cost takes in as input an array of weights, w, an array of x's and an array of ys and return a float indicating the total cost."
   ]
  },
  {
   "cell_type": "code",
   "execution_count": 150,
   "metadata": {},
   "outputs": [],
   "source": [
    "def model(x, w):\n",
    "    \"\"\"\n",
    "    Model function for linear regression.\n",
    "\n",
    "    Inputs:\n",
    "    ------\n",
    "        `x`: input data\n",
    "        `w`: weights &mdash; w = [intercept, slope]\n",
    "\n",
    "    Outputs:\n",
    "    -------\n",
    "        `y_predicted`: output predictions\n",
    "    \"\"\"\n",
    "    y_predicted = w[0] + w[1] * x\n",
    "    return y_predicted\n",
    "\n",
    "def cross_entropy(w,x,y):\n",
    "    \"\"\"\n",
    "    Cross entropy cost function.\n",
    "    \n",
    "    Inputs\n",
    "    ------\n",
    "        `w`: weights &mdash; w = [intercept, slope]\n",
    "        `x`: input data\n",
    "        `y`: correct labels\n",
    "\n",
    "    Outputs\n",
    "    -------\n",
    "        `cost`: Computed cost value\n",
    "    \"\"\"\n",
    "\n",
    "    epsilon     = 1e-15               # to avoid log(0)\n",
    "    xTw         = model(x, w)\n",
    "    sigmoid_x   = sigmoid(xTw)\n",
    "    cost_1      = -y * np.log(epsilon + sigmoid_x)\n",
    "    cost_0      = (1 - y) * np.log(epsilon + 1 - sigmoid_x)\n",
    "    _cost       = cost_1 - cost_0\n",
    "    cost        = np.mean(_cost)\n",
    "    return cost"
   ]
  },
  {
   "cell_type": "markdown",
   "metadata": {},
   "source": [
    "Q3) [2 points] Run the code below to read a data file. Plot a scatter plot of x vs y."
   ]
  },
  {
   "cell_type": "code",
   "execution_count": 151,
   "metadata": {},
   "outputs": [
    {
     "data": {
      "image/png": "[encoded data removed]",
      "text/plain": [
       "<Figure size 432x288 with 1 Axes>"
      ]
     },
     "metadata": {
      "needs_background": "light"
     },
     "output_type": "display_data"
    }
   ],
   "source": [
    "csvname = '2d_classification_data_v1_entropy.csv'\n",
    "data = np.loadtxt(csvname,delimiter = ',')\n",
    "x = data[:-1,:]\n",
    "y = data[-1:,:]\n",
    "\n",
    "plt.scatter(x, y, color='red')\n",
    "plt.grid(linestyle=\"--\")\n",
    "plt.xlabel('x')\n",
    "plt.ylabel('y')\n",
    "plt.xticks(range(0, 7))\n",
    "plt.yticks([-1, 0, 1, 2])\n",
    "plt.show()"
   ]
  },
  {
   "cell_type": "markdown",
   "metadata": {},
   "source": [
    "Q4) [10 points] Move the gradient descent function from HW2. Run the function using the cross_entropy cost and the x and y from above. The parameters should be set to: max_its=2000,w=[3.0,3.0 ], and alpha=1. Save the cost and weight history returned by the gradient descent function. Plot the cost history.\n"
   ]
  },
  {
   "cell_type": "code",
   "execution_count": 152,
   "metadata": {},
   "outputs": [],
   "source": [
    "def gradient_descent(g, alpha, max_its, w, x, y):\n",
    "    \"\"\"\n",
    "    Gradient Descent.\n",
    "\n",
    "    Inputs:\n",
    "    ------\n",
    "        `g`: cost function.\n",
    "        `alpha`: learning rate\n",
    "        `max_its`: number of iterations\n",
    "        `w`: initial weight \n",
    "        `x`: input data\n",
    "        `y`: correct tags\n",
    "    \n",
    "    Outputs:\n",
    "    -------\n",
    "        `weight_history`: lists of weights\n",
    "        `cost_history`: list of costs corresponding to the weights.\n",
    "    \"\"\"\n",
    "    \n",
    "    # 0. init\n",
    "    gradient = grad(g)\n",
    "\n",
    "    weight_history = [w]\n",
    "    cost_history = [g(w, x, y)]\n",
    "    \n",
    "    # 1. iterate\n",
    "    for step in range(max_its):\n",
    "\n",
    "        # 2. step\n",
    "        w -= alpha * gradient(w, x, y)\n",
    "        \n",
    "        # 3. record\n",
    "        cost_history.append(g(w, x, y))\n",
    "        weight_history.append(w)\n",
    "        \n",
    "    return weight_history, cost_history\n"
   ]
  },
  {
   "cell_type": "code",
   "execution_count": 153,
   "metadata": {},
   "outputs": [
    {
     "data": {
      "image/png": "[encoded data removed]",
      "text/plain": [
       "<Figure size 432x288 with 1 Axes>"
      ]
     },
     "metadata": {
      "needs_background": "light"
     },
     "output_type": "display_data"
    }
   ],
   "source": [
    "max_its = 2000\n",
    "w       = np.array([3.0, 3.0])\n",
    "alpha   = 1\n",
    "\n",
    "weights, costs = gradient_descent(cross_entropy, alpha, max_its, w, x, y)\n",
    "steps = np.arange(max_its + 1)\n",
    "\n",
    "plt.plot(steps, costs, color='blue')\n",
    "plt.grid(linestyle=\"--\")\n",
    "plt.xlabel('iteration')\n",
    "plt.ylabel('cost')\n",
    "plt.xticks(range(0, max_its + 2, 200))\n",
    "plt.yticks(np.arange(0, 2, 0.25))\n",
    "plt.show()\n"
   ]
  },
  {
   "cell_type": "markdown",
   "metadata": {},
   "source": [
    "Q5) [10 points] Implement a logistic regression classifier that takes in the learned weights and x as input and returns the probability of the positive class (note that this is just the output of the sigmoid applied to the linear combination of the x and w)"
   ]
  },
  {
   "cell_type": "code",
   "execution_count": 154,
   "metadata": {},
   "outputs": [],
   "source": [
    "def logistic_regression(learned_w,x):\n",
    "    \"\"\"\n",
    "    Logistic regression.\n",
    "\n",
    "    Inputs:\n",
    "    ------\n",
    "        `learned_w`: weights &mdash; learned_w = [intercept, slope]\n",
    "        `x`: input data\n",
    "\n",
    "    Outputs:\n",
    "    -------\n",
    "        `positive_class_prob`: distribution probabilities (0 <= x <= 1)\n",
    "            of the point being the positive class (1)\n",
    "    \"\"\"\n",
    "    \n",
    "    positive_class_prob = sigmoid(model(x, learned_w))\n",
    "    return positive_class_prob"
   ]
  },
  {
   "cell_type": "markdown",
   "metadata": {},
   "source": [
    "Q6) [5 points] Use the learned weights from the last gradient descent run and the logistic regression function implemented above to plot the learned curve. You can use the linspace method (shown below) to generate a list of xs that you can use. You need to generate a y for each of the candidate xs using the logistic regression function and the learned weights. On the same figure, also plot the scatter plot from Q3. \n"
   ]
  },
  {
   "cell_type": "code",
   "execution_count": 155,
   "metadata": {},
   "outputs": [
    {
     "data": {
      "image/png": "[encoded data removed]",
      "text/plain": [
       "<Figure size 432x288 with 1 Axes>"
      ]
     },
     "metadata": {
      "needs_background": "light"
     },
     "output_type": "display_data"
    }
   ],
   "source": [
    "s = np.linspace(np.min(x),np.max(x))\n",
    "learned_weights = weights[-1]\n",
    "ys = logistic_regression(learned_weights, s)\n",
    "\n",
    "plt.scatter(x, y, color='red')\n",
    "plt.plot(s, ys, color='blue')\n",
    "plt.grid(linestyle=\"--\")\n",
    "plt.xlabel(\"x\")\n",
    "plt.ylabel(\"predicted y\")\n",
    "plt.xticks(range(0, 7))\n",
    "plt.yticks([-1, 0, 1, 2])\n",
    "plt.show()"
   ]
  },
  {
   "cell_type": "markdown",
   "metadata": {},
   "source": [
    "Q7) [5 points] Slightly modify the logistic regression model above so that it returns a 1 or 0 based on the specified threshold."
   ]
  },
  {
   "cell_type": "code",
   "execution_count": 156,
   "metadata": {},
   "outputs": [],
   "source": [
    "def logistic_regression_modified(learned_w,x, threshold):\n",
    "    \"\"\"\n",
    "    Logistic regression &mdash; discretized to either produce 0 or 1\n",
    "    depending on a specifided threshold.\n",
    "\n",
    "    Inputs:\n",
    "    ------\n",
    "        `learned_w`: weights &mdash; learned_w = [intercept, slope]\n",
    "        `x`: input data\n",
    "        `threshold`: threshold value\n",
    "\n",
    "    Outputs:\n",
    "    -------\n",
    "        `class_label`: the predicted class, either 0 or 1\n",
    "    \"\"\"\n",
    "\n",
    "    prediction = logistic_regression(learned_w, x)\n",
    "    class_label: int = np.round(prediction - threshold + 0.5)\n",
    "    return class_label"
   ]
  },
  {
   "cell_type": "markdown",
   "metadata": {},
   "source": [
    "Q8) [15 points] Write a function (called evaluate) that takes in actual and predicted ys (for a binary classification problem) and return a confusion matrix and the accuracy. Use the modified logistic regression model and the evaluate function below to report the confusion matrix and accuracy for the x and y used for our training at a threshold of 0.5.  "
   ]
  },
  {
   "cell_type": "code",
   "execution_count": 157,
   "metadata": {},
   "outputs": [],
   "source": [
    "def evaluate(y_actual,y_pred):\n",
    "    \"\"\"\n",
    "    Evaluate the performance of the model.\n",
    "\n",
    "    Inputs:\n",
    "    ------\n",
    "        `y_actual`: actual labels\n",
    "        `y_pred`: predicted labels\n",
    "        \n",
    "    Outputs:\n",
    "    -------\n",
    "        `false_positives`: number of false positives\n",
    "        `false_negatives`: number of false negatives\n",
    "        `true_positives`: number of true positives\n",
    "        `true_negatives`: number of true negatives\n",
    "        `accuracy`: the percentage of predictions that were correct, 0 <= accuracy <= 1\n",
    "\n",
    "    \"\"\"\n",
    "\n",
    "    false_positive  = 0\n",
    "    false_negative  = 0\n",
    "    true_positive   = 0\n",
    "    true_negative   = 0\n",
    "    correct         = 0\n",
    "\n",
    "    for (actual, predicted) in zip(y_actual, y_pred):\n",
    "        if actual == predicted:\n",
    "            correct += 1\n",
    "\n",
    "            if actual == 1:\n",
    "                true_positive += 1\n",
    "            else:\n",
    "                true_negative += 1\n",
    "    \n",
    "        elif actual == 1:\n",
    "            false_negative += 1\n",
    "        else:\n",
    "            false_positive += 1\n",
    "    \n",
    "    false_positive\n",
    "    false_negative\n",
    "    true_positive\n",
    "    true_negative\n",
    "    accuracy = correct / len(y_actual)\n",
    "\n",
    "    return false_positive, false_negative, true_positive, true_negative, accuracy"
   ]
  },
  {
   "cell_type": "markdown",
   "metadata": {},
   "source": [
    "Q9) [20 points] Implement the perceptron cost function from the class (the softmax version). Note that the perceptron cost also uses the linear model (the model function from question 2)."
   ]
  },
  {
   "cell_type": "code",
   "execution_count": 158,
   "metadata": {},
   "outputs": [],
   "source": [
    "def perceptron_cost(w, x, y):\n",
    "   \"\"\"\n",
    "   Perceptron cost function.\n",
    "\n",
    "   Inputs:\n",
    "   ------\n",
    "      `w`: weights &mdash; w = [intercept, slope]\n",
    "      `x`: input data\n",
    "      `y`: correct tags\n",
    "      \n",
    "   Outputs:\n",
    "   -------\n",
    "      `cost`: computed softmax cost.\n",
    "   \"\"\"\n",
    "\n",
    "   xTw = model(x, w)\n",
    "\n",
    "   soft_s = np.log(1 + np.exp(-y * xTw))\n",
    "\n",
    "   cost = np.mean(soft_s)\n",
    "   \n",
    "   return cost"
   ]
  },
  {
   "cell_type": "markdown",
   "metadata": {},
   "source": [
    "Q10) [10 points] Run gradient descent function using the perceptron cost and the x and y from above and the parameters set to: max_its=2000,w=[1.0,1.0], and alpha=1.0. Save the cost and weight history returned by the gradient descent function. Plot the cost history. Which cost seems to do better on this dataset? Why do think that is?\n"
   ]
  },
  {
   "cell_type": "code",
   "execution_count": 159,
   "metadata": {},
   "outputs": [
    {
     "data": {
      "image/png": "[encoded data removed]",
      "text/plain": [
       "<Figure size 432x288 with 1 Axes>"
      ]
     },
     "metadata": {
      "needs_background": "light"
     },
     "output_type": "display_data"
    }
   ],
   "source": [
    "max_its = 2000\n",
    "w       = np.array([1.0, 1.0])\n",
    "alpha   = 1.0\n",
    "\n",
    "weights_cross_entropy, costs_cross_entropy = gradient_descent(cross_entropy, alpha, max_its, np.array([1.0, 1.0]), x, y)\n",
    "weights_perceptron, costs_perceptron = gradient_descent(perceptron_cost, alpha, max_its, np.array([1.0, 1.0]), x, y)\n",
    "steps = np.arange(max_its + 1)\n",
    "\n",
    "plt.plot(steps, costs_cross_entropy, color='blue', label='cross entropy')\n",
    "plt.plot(steps, costs_perceptron, color='red', label='perceptron')\n",
    "plt.grid(linestyle=\"--\")\n",
    "plt.xlabel('iteration')\n",
    "plt.ylabel('cost')\n",
    "plt.xticks(range(0, max_its + 2, 200))\n",
    "plt.legend()\n",
    "plt.yticks(np.arange(0, 1, 0.1))\n",
    "plt.show()"
   ]
  },
  {
   "cell_type": "markdown",
   "metadata": {},
   "source": [
    "## The rest of these problems are for bonus points"
   ]
  },
  {
   "cell_type": "markdown",
   "metadata": {},
   "source": [
    "Q11) [2 points]  The file 'heart.csv' has 304 lines, each one corresponding to a data point. Each row (i.e., data point), has several columns. Read the data file. Note that the first line is the header describing each column."
   ]
  },
  {
   "cell_type": "code",
   "execution_count": 160,
   "metadata": {},
   "outputs": [],
   "source": [
    "##Your code here"
   ]
  },
  {
   "cell_type": "markdown",
   "metadata": {},
   "source": [
    "Q12) [2 points] Use the data above to set y to be the \"target\" and X to be the remaining columns."
   ]
  },
  {
   "cell_type": "code",
   "execution_count": 161,
   "metadata": {},
   "outputs": [],
   "source": [
    "##Your code here"
   ]
  },
  {
   "cell_type": "markdown",
   "metadata": {},
   "source": [
    "Q13) [2 points] Run the code below to import the logistic regression and the train_test split functions from sklearn. Split your data into 80% train 20% test."
   ]
  },
  {
   "cell_type": "code",
   "execution_count": 162,
   "metadata": {},
   "outputs": [],
   "source": [
    "from sklearn.linear_model import LogisticRegression\n",
    "from sklearn.model_selection import train_test_split \n",
    "##Your code here"
   ]
  },
  {
   "cell_type": "markdown",
   "metadata": {},
   "source": [
    "Q14) [5 points] Use sklearn to fit a logistic regression model on your training set. Use all the default parameter. Do not evaluate at this point. (You can find out about sklearn logistic regression here: https://scikit-learn.org/stable/modules/generated/sklearn.linear_model.LogisticRegression.html)"
   ]
  },
  {
   "cell_type": "code",
   "execution_count": 163,
   "metadata": {},
   "outputs": [],
   "source": [
    "##Your code here"
   ]
  },
  {
   "cell_type": "markdown",
   "metadata": {},
   "source": [
    "Q15) [5 points] Use the .predict_proba function of the logistic regression model that you have learned on your X_test. Note that the .predict_proba function returns an array of tuples where each element corresponds to the predicted probability for class 0 and 1 of the data point."
   ]
  },
  {
   "cell_type": "code",
   "execution_count": 164,
   "metadata": {},
   "outputs": [],
   "source": [
    "##Your code here"
   ]
  },
  {
   "cell_type": "markdown",
   "metadata": {},
   "source": [
    "Q16) [2 points] Filter the predicted probabilties from the last question to an array containing only the probabilites for class 1. I.e., you should no longer have tuples."
   ]
  },
  {
   "cell_type": "code",
   "execution_count": 165,
   "metadata": {},
   "outputs": [],
   "source": [
    "##Your code here"
   ]
  },
  {
   "cell_type": "markdown",
   "metadata": {},
   "source": [
    "Q17) [8 points] Use the roc_curve function from sklearn (https://scikit-learn.org/stable/modules/generated/sklearn.metrics.roc_curve.html) to plot the ROC curve for your predictions using the predicted probabilities for class 1 and your y_test (use the default parameters). Also, print out the thresholds generated by the roc_curve function."
   ]
  },
  {
   "cell_type": "code",
   "execution_count": 166,
   "metadata": {},
   "outputs": [],
   "source": [
    "##Your code here"
   ]
  },
  {
   "cell_type": "markdown",
   "metadata": {},
   "source": [
    "Q18) [2 points] Use the roc_auc_score function from sklearn (https://scikit-learn.org/stable/modules/generated/sklearn.metrics.roc_auc_score.html#sklearn.metrics.roc_auc_score) to report the AUC score using the exact same setup as the last question."
   ]
  },
  {
   "cell_type": "code",
   "execution_count": 167,
   "metadata": {},
   "outputs": [],
   "source": [
    "##Your code here"
   ]
  }
 ],
 "metadata": {
  "interpreter": {
   "hash": "607b7d84c7d8e26dbbffb4014e40424fe2faf80a09a85d717e93e42c2773dc40"
  },
  "kernelspec": {
   "display_name": "Python 3.10.4 ('ml')",
   "language": "python",
   "name": "python3"
  },
  "language_info": {
   "codemirror_mode": {
    "name": "ipython",
    "version": 3
   },
   "file_extension": ".py",
   "mimetype": "text/x-python",
   "name": "python",
   "nbconvert_exporter": "python",
   "pygments_lexer": "ipython3",
   "version": "3.10.4"
  },
  "vscode": {
   "interpreter": {
    "hash": "61a57a4b5406d2de388e2f91097d4e4bcd7d5f4a46f53a795aa28a02eed27fc5"
   }
  }
 },
 "nbformat": 4,
 "nbformat_minor": 2
}
