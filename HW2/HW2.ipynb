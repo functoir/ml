{
 "cells": [
  {
   "cell_type": "markdown",
   "metadata": {},
   "source": [
    "# HW2  Regression Fun Time!\n",
    "\n",
    "## Amittai W "
   ]
  },
  {
   "cell_type": "markdown",
   "metadata": {},
   "source": [
    "Please run the cell below to import libraries needed for this HW. Please use the autograd numpy, otherwise you will have issues. "
   ]
  },
  {
   "cell_type": "code",
   "execution_count": 313,
   "metadata": {},
   "outputs": [],
   "source": [
    "import autograd.numpy as np\n",
    "from autograd import grad\n",
    "import matplotlib.pyplot as plt\n",
    "%matplotlib inline\n"
   ]
  },
  {
   "cell_type": "markdown",
   "metadata": {},
   "source": [
    "Q1) [10 points] Implement the linear regression model discussed in class below. The function (called model) takes in an array of data points, x , and an array of weights, w, and returns a vector y_predicted containing the linear combination for each of the data points. This is the linear model we have discussed in class. You can assume each data point in x only has one feature.  The length of the vector being returned should be the same as x.\n"
   ]
  },
  {
   "cell_type": "code",
   "execution_count": 314,
   "metadata": {},
   "outputs": [],
   "source": [
    "def model(x, w):\n",
    "    \"\"\"\n",
    "        Model function for linear regression.\n",
    "\n",
    "        Inputs:\n",
    "            `x`: input data\n",
    "            `w`: weights &mdash; w = [intercept, slope]\n",
    "\n",
    "        Outputs:\n",
    "            `y`: output predictions\n",
    "    \"\"\"\n",
    "    y_predicted = w[0] + w[1] * x\n",
    "    return y_predicted"
   ]
  },
  {
   "cell_type": "markdown",
   "metadata": {},
   "source": [
    "Q2) [10 ponts] Implement the least squares function discussed in class below. The function should take in an array of weights, w, an array of x's and an array of ys. It should use the model function implemented above and return a float indicating the total cost."
   ]
  },
  {
   "cell_type": "code",
   "execution_count": 315,
   "metadata": {},
   "outputs": [],
   "source": [
    "def least_squares(w, x, y):\n",
    "    \"\"\"\n",
    "        Least squares loss function.\n",
    "\n",
    "        Inputs:\n",
    "            `w`: weights &mdash; w = [intercept, slope]\n",
    "            `x`: input data\n",
    "            `y`: correct tags\n",
    "\n",
    "        Outputs:\n",
    "            `cost`: the least squares cost.\n",
    "    \"\"\"\n",
    "    predictions = model(x, w)\n",
    "    cost = np.mean(np.square(predictions - y))\n",
    "    return cost"
   ]
  },
  {
   "cell_type": "markdown",
   "metadata": {},
   "source": [
    "Q3) [5 point] This one is a freebie from HW1. Copy and paste your gradient descent function here. Specifically, the one that takes in the cost function as input and return the weight and cost history. We will be using a fixed alpha for this HW. The only difference is that this function should now also take in as input an array of x and ys, corresponding to our data. The w,x, and y are given as inputs to the cost funtion and its gradient."
   ]
  },
  {
   "cell_type": "code",
   "execution_count": 316,
   "metadata": {},
   "outputs": [],
   "source": [
    "def gradient_descent(g, alpha, max_its, w, x, y):\n",
    "    \"\"\"\n",
    "        Gradient Descent.\n",
    "\n",
    "        Inputs:\n",
    "            `g`: cost function.\n",
    "            `alpha`: learning rate\n",
    "            `max_its`: number of iterations\n",
    "            `w`: initial weight \n",
    "            `x`: input data\n",
    "            `y`: correct tags\n",
    "        Outputs:\n",
    "\n",
    "            `returns`: lists of weights and corresponding costs.\n",
    "                        The last set of weights has minimal cost.\n",
    "    \"\"\"\n",
    "    \n",
    "    # 0. init\n",
    "    gradient = grad(g)\n",
    "    weight_history = [w]\n",
    "    cost_history = [g(w, x, y)]\n",
    "    \n",
    "    # 1. iterate\n",
    "    for step in range(max_its):\n",
    "\n",
    "        # 2. step\n",
    "        w -= alpha * gradient(w, x, y)\n",
    "        \n",
    "        # 3. record\n",
    "        cost_history.append(g(w, x, y))\n",
    "        weight_history.append(w)\n",
    "        \n",
    "    return weight_history, cost_history\n"
   ]
  },
  {
   "cell_type": "markdown",
   "metadata": {},
   "source": [
    "Q4) [1 points]  Run the code below to import a dataset. Then, plot a scatter plot of the data (x vs y)."
   ]
  },
  {
   "cell_type": "code",
   "execution_count": 317,
   "metadata": {},
   "outputs": [],
   "source": [
    "import autograd.numpy as np\n",
    "# import the dataset\n",
    "csvname = 'kleibers_law_data.csv'\n",
    "data = np.loadtxt(csvname,delimiter=',')\n",
    "x = np.log(data[:-1,:])[0]\n",
    "y = np.log(data[-1:,:])[0]\n",
    "# print(x, y)\n"
   ]
  },
  {
   "cell_type": "code",
   "execution_count": 318,
   "metadata": {},
   "outputs": [
    {
     "name": "stderr",
     "output_type": "stream",
     "text": [
      "No handles with labels found to put in legend.\n"
     ]
    },
    {
     "data": {
      "image/png": "[encoded data removed]",
      "text/plain": [
       "<Figure size 432x288 with 1 Axes>"
      ]
     },
     "metadata": {
      "needs_background": "light"
     },
     "output_type": "display_data"
    }
   ],
   "source": [
    "plt.scatter(x, y, color='red')\n",
    "plt.grid(linestyle=\"--\")\n",
    "\n",
    "plt.legend(loc=\"upper right\")\n",
    "plt.show()"
   ]
  },
  {
   "cell_type": "markdown",
   "metadata": {},
   "source": [
    "Q5) [5 points] Use your gradient descent function to learn a linear regression model for the x and y above using the following parameters and plot the cost_history over the 1000 iterations\n",
    "\n",
    "g = least_squares function you implemented\n",
    "\n",
    "w = [w_0, w_1]  , where w_0 and w_1 are random numbers between -0.1 and 0.1\n",
    "\n",
    "max_its=1000\n",
    "\n",
    "alpha=0.01"
   ]
  },
  {
   "cell_type": "code",
   "execution_count": 319,
   "metadata": {},
   "outputs": [
    {
     "data": {
      "image/png": "[encoded data removed]",
      "text/plain": [
       "<Figure size 432x288 with 1 Axes>"
      ]
     },
     "metadata": {
      "needs_background": "light"
     },
     "output_type": "display_data"
    }
   ],
   "source": [
    "weights, costs = gradient_descent(least_squares, 0.01, 1000, np.random.uniform(-0.1, 0.1, 2), x, y)\n",
    "plt.plot(list(range(len(costs))), costs, label=\"cost\")\n",
    "plt.grid(linestyle=\"--\")\n",
    "\n",
    "plt.legend(loc=\"upper right\")\n",
    "plt.show()"
   ]
  },
  {
   "cell_type": "markdown",
   "metadata": {},
   "source": [
    "Q6) [5 points] Use the learned weights from above (note that the \"learned\" weights are the ones with the lowest cost) to plot the learned line. You can use the linspace method (shown below) to generate a list of xs that you can use for plotting. You need to generate a y for each of the candidate xs using the learned weights. On the same figure, also plot the scatter plot from Q4. \n"
   ]
  },
  {
   "cell_type": "code",
   "execution_count": 320,
   "metadata": {},
   "outputs": [
    {
     "name": "stderr",
     "output_type": "stream",
     "text": [
      "No handles with labels found to put in legend.\n"
     ]
    },
    {
     "data": {
      "image/png": "[encoded data removed]",
      "text/plain": [
       "<Figure size 432x288 with 1 Axes>"
      ]
     },
     "metadata": {
      "needs_background": "light"
     },
     "output_type": "display_data"
    }
   ],
   "source": [
    "s = np.linspace(np.min(x),np.max(x))\n",
    "ys = model(s, weights[-1])\n",
    "plt.scatter(x, y, color='red')\n",
    "plt.grid(linestyle=\"--\")\n",
    "\n",
    "plt.legend(loc=\"upper right\")\n",
    "plt.plot(s, ys, color='blue')\n",
    "\n",
    "plt.show()"
   ]
  },
  {
   "cell_type": "markdown",
   "metadata": {},
   "source": [
    "Q7) [1 points]  Run the code below to import a dataset. Then, plot a scatter plot of the data (x vs y). "
   ]
  },
  {
   "cell_type": "code",
   "execution_count": 321,
   "metadata": {},
   "outputs": [
    {
     "name": "stderr",
     "output_type": "stream",
     "text": [
      "No handles with labels found to put in legend.\n"
     ]
    },
    {
     "data": {
      "image/png": "[encoded data removed]",
      "text/plain": [
       "<Figure size 432x288 with 1 Axes>"
      ]
     },
     "metadata": {
      "needs_background": "light"
     },
     "output_type": "display_data"
    }
   ],
   "source": [
    "# load in dataset\n",
    "data = np.loadtxt('regression_outliers.csv',delimiter = ',')\n",
    "x = data[:-1,:]\n",
    "y = data[-1:,:] \n",
    "\n",
    "plt.scatter(x, y)\n",
    "plt.grid(linestyle=\"--\")\n",
    "\n",
    "plt.legend(loc=\"upper right\")\n",
    "plt.show()"
   ]
  },
  {
   "cell_type": "markdown",
   "metadata": {},
   "source": [
    "Q8) [10 ponts] Implement the least absolute deviations function discussed in class. The function should take in an array of weights, w, an array of x's and an array of ys. It should use the model function implemented in Q1  and return a float indicating the total cost."
   ]
  },
  {
   "cell_type": "code",
   "execution_count": 322,
   "metadata": {},
   "outputs": [],
   "source": [
    "def least_absolute_deviations(w, x, y):\n",
    "    #your code here\n",
    "    predictions = model(x, w)\n",
    "    cost = np.mean(np.abs(predictions - y))\n",
    "    return cost"
   ]
  },
  {
   "cell_type": "markdown",
   "metadata": {},
   "source": [
    "Q9) [5 points] Use the gradient descent function twice to learn two linear models using the new x and y from Q7 using the following parameters and plot the cost_history for both runs on the same plot. Make the plot for the first run blue and the plot for the second run red.\n",
    "\n",
    "Run 1) \n",
    "g = least_squares function\n",
    "\n",
    "w = [1.0,1.0]\n",
    "\n",
    "max_its=100\n",
    "\n",
    "alpha=0.1\n",
    "\n",
    "Run 2) \n",
    "g = least_absoulte_deviations\n",
    "\n",
    "w = [1.0,1.0]\n",
    "\n",
    "max_its=100\n",
    "\n",
    "alpha=0.1\n"
   ]
  },
  {
   "cell_type": "code",
   "execution_count": 323,
   "metadata": {},
   "outputs": [
    {
     "data": {
      "image/png": "[encoded data removed]",
      "text/plain": [
       "<Figure size 432x288 with 1 Axes>"
      ]
     },
     "metadata": {
      "needs_background": "light"
     },
     "output_type": "display_data"
    }
   ],
   "source": [
    "max_its = 100\n",
    "alpha = 0.1\n",
    "weights1, costs1 = gradient_descent(least_squares, alpha, max_its, np.array([1.0, 1.0]), x, y)\n",
    "weights2, costs2 = gradient_descent(least_absolute_deviations, alpha, max_its, np.array([1.0, 1.0]), x, y)\n",
    "\n",
    "plt.plot(list(range(len(costs1))), costs1, label=\"cost1\")\n",
    "plt.plot(list(range(len(costs2))), costs2, label=\"cost2\")\n",
    "plt.grid(linestyle=\"--\")\n",
    "\n",
    "plt.legend(loc=\"upper right\")\n",
    "plt.show()"
   ]
  },
  {
   "cell_type": "markdown",
   "metadata": {},
   "source": [
    "Q10) [5 points] Use the learned weights from above to plot the two learned lines (use same colors as above). You can use the linspace method again to generate a list of xs that you can use. On the same figure, also plot the scatter plot from Q7. Which of these lines look like a better fit to you? \n"
   ]
  },
  {
   "cell_type": "code",
   "execution_count": 324,
   "metadata": {},
   "outputs": [
    {
     "data": {
      "image/png": "[encoded data removed]",
      "text/plain": [
       "<Figure size 432x288 with 1 Axes>"
      ]
     },
     "metadata": {
      "needs_background": "light"
     },
     "output_type": "display_data"
    }
   ],
   "source": [
    "s = np.linspace(np.min(x),np.max(x))\n",
    "ys1 = model(s, weights1[-1])\n",
    "ys2 = model(s, weights2[-1])\n",
    "plt.scatter(x, y, color=\"black\")\n",
    "plt.plot(s, ys1, color='blue', label=\"least squares\")\n",
    "plt.plot(s, ys2, color='red', label=\"least absolute deviations\")\n",
    "\n",
    "plt.grid(linestyle=\"--\")\n",
    "\n",
    "plt.legend(loc=\"upper right\")\n",
    "plt.show()"
   ]
  },
  {
   "cell_type": "markdown",
   "metadata": {},
   "source": [
    "Q11) [6 points] Implement the mean squared error (MSE) and the mean absolute deviation functions from class. The functions should take in as input an array of actual ys and an array of predicted ys and return the prediction error."
   ]
  },
  {
   "cell_type": "code",
   "execution_count": 325,
   "metadata": {},
   "outputs": [],
   "source": [
    "def MSE(y_actual, y_pred):\n",
    "    #Your code here\n",
    "    error = np.mean(np.square(y_actual - y_pred))\n",
    "    return error\n",
    "\n",
    "def MAD(y_actual, y_pred):\n",
    "    #Your code here\n",
    "    error = np.mean(np.abs(y_actual - y_pred))\n",
    "    return error"
   ]
  },
  {
   "cell_type": "markdown",
   "metadata": {},
   "source": [
    "Q12) [4 points] Use the functions above to report the MSE and MAD for the two models learned in Q9, using the x and y from Q7. You should have 4 values total, two for each model. Which model is doing better? (Note that since you are evaluating the model on the training data, this corresponds to the training error)"
   ]
  },
  {
   "cell_type": "code",
   "execution_count": 326,
   "metadata": {},
   "outputs": [
    {
     "name": "stdout",
     "output_type": "stream",
     "text": [
      "Mean squared error for Least Squares: \t\t\t6.841394300667753\n",
      "Mean absolute deviation for Least Squares: \t\t1.68937055338514\n",
      "Mean squared error for Least Absolute Deviations: \t9.866874898545982\n",
      "Mean absolute deviation for Least Absolute Deviations: \t1.09670195220381\n"
     ]
    }
   ],
   "source": [
    "#Your code here\n",
    "mse_least_squares = MSE(y, model(x, weights1[-1]))\n",
    "mad_least_squares = MAD(y, model(x, weights1[-1]))\n",
    "\n",
    "mse_least_abs_deviations = MSE(y, model(x, weights2[-1]))\n",
    "mad_least_abs_deviations = MAD(y, model(x, weights2[-1]))\n",
    "\n",
    "print(f\"Mean squared error for Least Squares: \\t\\t\\t{mse_least_squares}\")\n",
    "print(f\"Mean absolute deviation for Least Squares: \\t\\t{mad_least_squares}\")\n",
    "print(f\"Mean squared error for Least Absolute Deviations: \\t{mse_least_abs_deviations}\")\n",
    "print(f\"Mean absolute deviation for Least Absolute Deviations: \\t{mad_least_abs_deviations}\")\n",
    "\n"
   ]
  },
  {
   "cell_type": "markdown",
   "metadata": {},
   "source": [
    "The least absolute deviations cost function does better on the training data because it is less sensitive to outliers.\n",
    "On the other hand, the least-squares cost function, being more sensitive to outliers, tries to fit all the data (including outliers)\n",
    "and results in a higher mean absolute deviation and a generally worse fit as we can see from the graph above."
   ]
  },
  {
   "cell_type": "markdown",
   "metadata": {},
   "source": [
    "Q13) [6 points] Implement the L1 and L2 regularizers from class. Recall the regularizers take in input the weight vector and return a score based on the L1 or L2 norm of the weights"
   ]
  },
  {
   "cell_type": "code",
   "execution_count": 327,
   "metadata": {},
   "outputs": [],
   "source": [
    "def L2_regularizer(w):\n",
    "    L2 = np.sum(np.square(w))\n",
    "    return L2\n",
    "\n",
    "def L1_regularizer(w):\n",
    "    L1 = np.sum(np.abs(w))\n",
    "    return L1"
   ]
  },
  {
   "cell_type": "markdown",
   "metadata": {},
   "source": [
    "Q14) [12 points] Turn the least squares function implemented in Q2 into the Ridge (L2) and Lasso (L1) least squares (covered in class) using the functions implemented in Q13. Recall that $\\lambda$ is used as a hyperparameter to specify the smoothness of the function learned (higher $\\lambda$ leads to simpler and smoother functions whereas lower $\\lambda$ leads to better fitting to the data. $\\lambda=0$ is the same as non-regularized least-squares)"
   ]
  },
  {
   "cell_type": "code",
   "execution_count": 328,
   "metadata": {},
   "outputs": [],
   "source": [
    "def ridge(w, x, y, lmbda):\n",
    "    cost = least_squares(w, x, y) + lmbda * L2_regularizer(w)\n",
    "    return cost\n",
    "\n",
    "def lasso(w,x,y,lmbda):    \n",
    "    cost = least_squares(w, x, y) + lmbda * L1_regularizer(w)\n",
    "    return cost\n"
   ]
  },
  {
   "cell_type": "code",
   "execution_count": 338,
   "metadata": {},
   "outputs": [
    {
     "name": "stdout",
     "output_type": "stream",
     "text": [
      "weights1[-1] = array([1.59661726e+128, 1.18555529e+128]),\n",
      "weights2[-1] = array([5.95948171, 8.0247121 ])\n",
      "1\n"
     ]
    },
    {
     "data": {
      "image/png": "[encoded data removed]",
      "text/plain": [
       "<Figure size 432x288 with 1 Axes>"
      ]
     },
     "metadata": {
      "needs_background": "light"
     },
     "output_type": "display_data"
    }
   ],
   "source": [
    "def gradient_descent(g, alpha, lmbda, max_its, w, x, y):\n",
    "    \"\"\"\n",
    "        Gradient Descent.\n",
    "\n",
    "        Inputs:\n",
    "            `g`: cost function.\n",
    "            `alpha`: learning rate.\n",
    "            `lmbda`: regularization constant.\n",
    "            `max_its`: number of iterations.\n",
    "            `w`: initial weights.\n",
    "        Outputs:\n",
    "\n",
    "            `returns`: lists of weights and corresponding costs\n",
    "                        costs after each iteration step.   \n",
    "    \"\"\"\n",
    "    \n",
    "    # 0. init\n",
    "    gradient = grad(g)\n",
    "    weight_history = [w]\n",
    "    cost_history = [g(w, x, y, lmbda)]\n",
    "    \n",
    "    # 1. iterate\n",
    "    for step in range(max_its):\n",
    "\n",
    "        # 2. step\n",
    "        w -= alpha * gradient(w, x, y, lmbda)\n",
    "        \n",
    "        # 3. record\n",
    "        cost_history.append(g(w, x, y, lmbda))\n",
    "        weight_history.append(w)\n",
    "        \n",
    "    return weight_history, cost_history\n",
    "\n",
    "max_its = 100\n",
    "alpha = 0.1\n",
    "lmbda = 100\n",
    "weights1, costs1 = gradient_descent(ridge, alpha, lmbda, max_its, np.array([1.0, 1.0]), x, y)\n",
    "weights2, costs2 = gradient_descent(lasso, alpha, lmbda, max_its, np.array([1.0, 1.0]), x, y)\n",
    "\n",
    "s = np.linspace(np.min(x),np.max(x))\n",
    "\n",
    "print(f\"{weights1[-1] = },\\n{weights2[-1] = }\")\n",
    "ys1 = model(s, weights1[-1])\n",
    "ys2 = model(s, weights2[-1])\n",
    "plt.scatter(x, y, color=\"black\")\n",
    "print(len(y))\n",
    "plt.plot(s, ys1, color=\"blue\", label=\"ridge\")\n",
    "plt.plot(s, ys2, color=\"red\", label=\"lasso\")\n",
    "plt.grid(linestyle=\"--\")\n",
    "plt.legend(loc=\"upper left\")\n",
    "plt.show()"
   ]
  },
  {
   "cell_type": "markdown",
   "metadata": {},
   "source": [
    "# The rest of the questions are for bonus points, but highly recommended"
   ]
  },
  {
   "cell_type": "markdown",
   "metadata": {},
   "source": [
    "Q15) [2 points] The file 'weatherHistory.csv'has 96,454 lines, each one corresponding to a data point. Each row (i.e., data point), has several columns. Read the data file. Note that the first line is the header describing each column."
   ]
  },
  {
   "cell_type": "code",
   "execution_count": 330,
   "metadata": {},
   "outputs": [],
   "source": [
    "#Your code here"
   ]
  },
  {
   "cell_type": "markdown",
   "metadata": {},
   "source": [
    "Q16) [5 points] Use the data above to set y to be the temperatures and X to be the following columns (in order): [Apparent_Temperature, Humidity, Wind_Speed, Wind_Bearing, Visibility, Pressure] Basically, we want to see whether we can predict the temperature, using the features in X."
   ]
  },
  {
   "cell_type": "code",
   "execution_count": 331,
   "metadata": {},
   "outputs": [],
   "source": [
    "#Your code here"
   ]
  },
  {
   "cell_type": "markdown",
   "metadata": {},
   "source": [
    "We are now going to using a well-known ML library called sklearn. If you do not have it installed, please do so using this instruction: https://scikit-learn.org/stable/install.html\n",
    "\n",
    "sklearn comes with many models already implemented, below we import the standard linear regression, Ridge, and Lasso models from sklearn. We also import a method that can divide our data into train/test sets. Please run the cell below."
   ]
  },
  {
   "cell_type": "code",
   "execution_count": 332,
   "metadata": {},
   "outputs": [],
   "source": [
    "from sklearn.linear_model import LinearRegression, Ridge, Lasso \n",
    "from sklearn.model_selection import train_test_split "
   ]
  },
  {
   "cell_type": "markdown",
   "metadata": {},
   "source": [
    "This library is very easy to use. We briefly went over it in the class but please use the API and user guide  ( https://scikit-learn.org) to learn exactly how to use this library.\n",
    "\n",
    "For instance, learning a linear regression model using sklearn can be done in two lines:\n",
    "\n",
    "linearModel = LinearRegression() \n",
    "\n",
    "linearModel.fit(x_train, y_train)"
   ]
  },
  {
   "cell_type": "markdown",
   "metadata": {},
   "source": [
    "Q17) [2 points] Use the train_test_split to divide your modified data from Q16 into 80% train, 20% test. "
   ]
  },
  {
   "cell_type": "code",
   "execution_count": 333,
   "metadata": {},
   "outputs": [],
   "source": [
    "#Your code here"
   ]
  },
  {
   "cell_type": "markdown",
   "metadata": {},
   "source": [
    "Q18) [10 points] Use sklearn to train a LinearRegression model using the data above. Report the performance of the model on the test data (use sklearn's MSE implementation: https://scikit-learn.org/stable/modules/generated/sklearn.metrics.mean_squared_error.html). Note that the .predict method can be used to get the y_predictions for the test xs."
   ]
  },
  {
   "cell_type": "code",
   "execution_count": 334,
   "metadata": {},
   "outputs": [
    {
     "name": "stdout",
     "output_type": "stream",
     "text": [
      "Hello\n"
     ]
    }
   ],
   "source": [
    "from sklearn.metrics import mean_squared_error\n",
    "print(\"Hello\")\n",
    "#Your code here"
   ]
  },
  {
   "cell_type": "markdown",
   "metadata": {},
   "source": [
    "Q19) [10 points] Repeat Q18 but instead of LinearRegression, use the Ridge and Lasso functions. You can keep the default alpha (note that what we called lambda in the class, the hyperparameter for regularization, is called alpha in sklearn. It is the same thing)."
   ]
  },
  {
   "cell_type": "code",
   "execution_count": 335,
   "metadata": {},
   "outputs": [],
   "source": [
    "#Your code here"
   ]
  },
  {
   "cell_type": "markdown",
   "metadata": {},
   "source": [
    "Q20) [4 points] Print the learned parameters for the Ridge and Lasso models (using .coef_).  Note that the parameters below correspond to the feature vector ( [Apparent_Temperature, Humidity, Wind_Speed, Wind_Bearing, Visibility, Pressure]), in order. I.e., the first value corresponds to \"Apparent_Temperature\", etc. What is the difference between the ridge and lasso parameters? Which features, if any, have been eliminated by lasso?"
   ]
  },
  {
   "cell_type": "code",
   "execution_count": 336,
   "metadata": {},
   "outputs": [],
   "source": [
    "#Your code here"
   ]
  }
 ],
 "metadata": {
  "interpreter": {
   "hash": "61a57a4b5406d2de388e2f91097d4e4bcd7d5f4a46f53a795aa28a02eed27fc5"
  },
  "kernelspec": {
   "display_name": "Xonsh",
   "language": "python",
   "name": "python3"
  },
  "language_info": {
   "codemirror_mode": {
    "name": "ipython",
    "version": 3
   },
   "file_extension": ".py",
   "mimetype": "text/x-python",
   "name": "python",
   "nbconvert_exporter": "python",
   "pygments_lexer": "ipython3",
   "version": "3.9.7"
  }
 },
 "nbformat": 4,
 "nbformat_minor": 2
}
