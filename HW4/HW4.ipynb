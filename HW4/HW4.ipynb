{
 "cells": [
  {
   "cell_type": "markdown",
   "metadata": {},
   "source": [
    "# COSC 74: Machine Learning\n",
    "\n",
    "## Homework  4"
   ]
  },
  {
   "cell_type": "markdown",
   "metadata": {},
   "source": [
    "### Needed Imports"
   ]
  },
  {
   "cell_type": "code",
   "execution_count": 627,
   "metadata": {},
   "outputs": [],
   "source": [
    "import pandas as pd\n",
    "import numpy as np\n",
    "from numpy import typing as npt\n",
    "import matplotlib.pyplot as plt\n",
    "from sklearn.model_selection import train_test_split\n",
    "%matplotlib inline"
   ]
  },
  {
   "cell_type": "markdown",
   "metadata": {},
   "source": [
    "### 1. Load the Data and Partition it\n",
    "\n",
    "80% of the data is used for training and 20% for testing."
   ]
  },
  {
   "cell_type": "code",
   "execution_count": 628,
   "metadata": {},
   "outputs": [
    {
     "name": "stdout",
     "output_type": "stream",
     "text": [
      "   Feature_1  Feature_2  Feature_3  Feature_4  Feature_5  Feature_6  Label\n",
      "0    7430.14    9529.78   -2453.33         19        123        621      0\n",
      "1   11256.40   50455.10   -4220.00         18        216       2677      0\n",
      "2   13093.00   51897.10   -2880.00         30        234       2464      0\n",
      "3   14303.00  102632.00   -5702.20        144        281       4061      1\n",
      "4   14688.00   83343.40   -2430.00         52        223       2822      1\n"
     ]
    }
   ],
   "source": [
    "df = pd.read_csv(\"hw4_naive.csv\")\n",
    "print(df.head())\n",
    "\n",
    "dataset = np.array(df)\n",
    "\n",
    "trainset, testset = train_test_split(dataset, test_size=0.2, random_state=0)\n"
   ]
  },
  {
   "cell_type": "markdown",
   "metadata": {},
   "source": [
    "### 2. Multinomial Naivë Bayes classifier with Smooting "
   ]
  },
  {
   "cell_type": "code",
   "execution_count": 629,
   "metadata": {},
   "outputs": [],
   "source": [
    "class NaiveBayes():\n",
    "    \"\"\"\n",
    "    Naive Bayes Predictor.\n",
    "\n",
    "    \"\"\"\n",
    "\n",
    "    def __init__(self, trainset=None, smoothing_coeff=1):\n",
    "        \"\"\"\n",
    "            Initializes the Naive Bayes predictor.\n",
    "\n",
    "            Inputs:\n",
    "            -------\n",
    "                `trainset`: 2D numpy array of training data.\n",
    "                    >>> NOTE: The last column of the data is the class label.\n",
    "                `smoothing_coeff`: float, smoothing coefficient\n",
    "                        for multinomial classifier.\n",
    "                        Default value = 1.\n",
    "\n",
    "        \"\"\"\n",
    "\n",
    "        self.possible_classes = list(np.unique(trainset[:, -1]))\n",
    "        self.trainset: npt.NDArray = trainset\n",
    "        self.smoothing_coeff: float = smoothing_coeff\n",
    "        self.feature_count: int = self.trainset.shape[1] - 1\n",
    "\n",
    "        # these variables are used by the gaussian classifier\n",
    "        self.gaussian_means = None\n",
    "        self.gaussian_variance = None\n",
    "\n",
    "    def multinomial(self, feature_vector):\n",
    "        \"\"\"\n",
    "            Calculates the probability of each class given the data.\n",
    "\n",
    "            Inputs:\n",
    "            -------\n",
    "\n",
    "            `feature_vector`: 1D numpy array for aa single row of data.\n",
    "\n",
    "            Returns:\n",
    "            --------\n",
    "            A classification for the feature vector,\n",
    "            based on the priorly saved X_train and y_train.\n",
    "\n",
    "        \"\"\"\n",
    "\n",
    "        class_count = len(self.possible_classes)\n",
    "        classes = np.array([0 for _ in range(class_count)])\n",
    "        class_totals = np.array([0 for _ in self.possible_classes])\n",
    "        for record in self.trainset:\n",
    "            label = record[-1]\n",
    "            class_index = self.possible_classes.index(label)\n",
    "            for feature in range(self.feature_count):\n",
    "                if record[feature] == feature_vector[feature]:\n",
    "                    classes[class_index] += 1\n",
    "\n",
    "                class_totals[class_index] += 1\n",
    "\n",
    "        probabilities = (classes + self.smoothing_coeff) / (class_totals + class_count)\n",
    "        return self.possible_classes[np.argmax(probabilities)]\n",
    "\n",
    "    def multinomial_predictions(self, feature_vectors):\n",
    "        \"\"\"\n",
    "            Calculates the multinomial predictions for each record in a matrix.\n",
    "\n",
    "            Inputs:\n",
    "            -------\n",
    "                `feature_vectors`: 2D numpy array of feature vectors.\n",
    "            \n",
    "            Outputs:\n",
    "            --------\n",
    "                `predictions`: 1D list of predictions.\n",
    "\n",
    "        \"\"\"\n",
    "        return np.apply_along_axis(self.multinomial, 1, feature_vectors)\n",
    "    \n",
    "    def gaussian(self, feature_vector):\n",
    "        \"\"\"\n",
    "            Calculates the probability of each class given the data.\n",
    "\n",
    "            Inputs:\n",
    "            -------\n",
    "\n",
    "            `feature_vector`: 1D numpy array for aa single row of data.\n",
    "\n",
    "            Returns:\n",
    "            --------\n",
    "            A classification for the feature vector,\n",
    "            based on the priorly saved X_train and y_train.\n",
    "\n",
    "        \"\"\"\n",
    "        if feature_vector.shape[0] == self.feature_count + 1:\n",
    "            feature_vector = feature_vector[:-1]\n",
    "\n",
    "\n",
    "        # if means and variance are not initialized, initialize them\n",
    "        if self.gaussian_means is None:\n",
    "            self.gaussian_means = []\n",
    "            self.gaussian_variance = []\n",
    "\n",
    "            for possible_class in self.possible_classes:\n",
    "                class_data = self.trainset[self.trainset[:, -1] == possible_class]\n",
    "                class_mean = np.mean(class_data[:, :-1], axis=0)\n",
    "                class_variance = np.var(class_data[:, :-1], axis=0)\n",
    "                self.gaussian_means.append(class_mean)\n",
    "                self.gaussian_variance.append(class_variance)\n",
    "\n",
    "        probabilities = []\n",
    "        for possible_class in range(len(self.possible_classes)):\n",
    "            class_mean = self.gaussian_means[possible_class]\n",
    "            class_variance = self.gaussian_variance[possible_class]\n",
    "            prob = (1 / (np.sqrt(2 * np.pi * class_variance)))\n",
    "            prob *= np.exp(-( (feature_vector - class_mean) ** 2) / (2 * class_variance))\n",
    "            probabilities.append(np.product(prob))\n",
    "            \n",
    "        return self.possible_classes[np.argmax(probabilities)]\n",
    "\n",
    "    def gaussian_predictions(self, feature_vectors):\n",
    "        \"\"\"\n",
    "            Calculates the multinomial predictions for each record in a matrix.\n",
    "\n",
    "            Inputs:\n",
    "            -------\n",
    "                `feature_vectors`: 2D numpy array of feature vectors.\n",
    "            \n",
    "            Outputs:\n",
    "            --------\n",
    "                `predictions`: 1D list of predictions.\n",
    "\n",
    "        \"\"\"\n",
    "        return np.apply_along_axis(self.gaussian, 1, feature_vectors)\n"
   ]
  },
  {
   "cell_type": "markdown",
   "metadata": {},
   "source": [
    "### Test Multinomial Naive Bayes classifier with Smoothing."
   ]
  },
  {
   "cell_type": "code",
   "execution_count": 630,
   "metadata": {},
   "outputs": [
    {
     "name": "stdout",
     "output_type": "stream",
     "text": [
      "correct = 865, total = 1120\n",
      "precision = 0.8523076923076923\n",
      "recall = 0.5723140495867769\n",
      "f1 = 0.684796044499382\n",
      "accuracy = 0.7723214285714286\n"
     ]
    }
   ],
   "source": [
    "nb = NaiveBayes(trainset)\n",
    "multinomial_predictions = nb.multinomial_predictions(testset)\n",
    "\n",
    "# print(f\"{multinomial_predictions = }\")\n",
    "\n",
    "# check the accuracy of the predictions\n",
    "count = len(multinomial_predictions)\n",
    "true_positive = 0\n",
    "true_negative = 0\n",
    "false_positive = 0\n",
    "false_negative = 0\n",
    "for i in range(count):\n",
    "    prediction = multinomial_predictions[i]\n",
    "    if prediction == testset[i][-1]:\n",
    "        if prediction == 1:\n",
    "            true_positive += 1\n",
    "        else:\n",
    "            true_negative += 1\n",
    "    else:\n",
    "        if prediction == 1:\n",
    "            false_positive += 1\n",
    "        else:\n",
    "            false_negative += 1\n",
    "\n",
    "correct = true_positive + true_negative\n",
    "precision = true_positive / (true_positive + false_positive)\n",
    "recall = true_positive / (true_positive + false_negative)\n",
    "f1 = 2 * precision * recall / (precision + recall)\n",
    "print(f\"{correct = }, total = {count}\")\n",
    "print(f\"{precision = }\\n{recall = }\\n{f1 = }\")\n",
    "print(f\"accuracy = {correct / count}\")"
   ]
  },
  {
   "cell_type": "markdown",
   "metadata": {},
   "source": [
    "### Test Gaussian Naive Bayes classifier."
   ]
  },
  {
   "cell_type": "code",
   "execution_count": 631,
   "metadata": {},
   "outputs": [
    {
     "name": "stdout",
     "output_type": "stream",
     "text": [
      "correct = 666, total = 1120\n",
      "precision = 0.5707547169811321\n",
      "recall = 0.25\n",
      "f1 = 0.34770114942528735\n",
      "accuracy = 0.5946428571428571\n"
     ]
    }
   ],
   "source": [
    "# nb = NaiveBayes(trainset)  # if initialized above, no need to initialize here.\n",
    "gaussian_predictions = nb.gaussian_predictions(testset)\n",
    "\n",
    "# print(gaussian_predictions)\n",
    "\n",
    "# check the accuracy of the predictions\n",
    "count = len(gaussian_predictions)\n",
    "true_positive = 0\n",
    "true_negative = 0\n",
    "false_positive = 0\n",
    "false_negative = 0\n",
    "for i in range(count):\n",
    "    prediction = gaussian_predictions[i]\n",
    "    if prediction == testset[i][-1]:\n",
    "        if prediction == 1:\n",
    "            true_positive += 1\n",
    "        else:\n",
    "            true_negative += 1\n",
    "    else:\n",
    "        if prediction == 1:\n",
    "            false_positive += 1\n",
    "        else:\n",
    "            false_negative += 1\n",
    "\n",
    "correct = true_positive + true_negative\n",
    "precision = true_positive / (true_positive + false_positive)\n",
    "recall = true_positive / (true_positive + false_negative)\n",
    "f1 = 2 * precision * recall / (precision + recall)\n",
    "print(f\"{correct = }, total = {count}\")\n",
    "print(f\"{precision = }\\n{recall = }\\n{f1 = }\")\n",
    "print(f\"accuracy = {correct / count}\")"
   ]
  },
  {
   "cell_type": "markdown",
   "metadata": {},
   "source": [
    "---\n"
   ]
  },
  {
   "cell_type": "markdown",
   "metadata": {},
   "source": [
    "##  Bonus Questions: Clustering\n",
    "\n",
    "- Given a [training dataset](./hw4_cluster.csv) containing 40 rows, each with 2 columns.\n",
    "- Column 1 & 2 are the features.\n",
    "- There are no labels for this dataset.\n",
    "- Implement different clustering algorithms and run them on this\n",
    "dataset. \n",
    "- **Assume the distance function is _Euclidean Distance_.**"
   ]
  },
  {
   "cell_type": "markdown",
   "metadata": {},
   "source": [
    "### 1 (35 points) Implement a generalized K-means/median algorithm.\n",
    "\n",
    "  - You should have a single function that takes in as input the data points, K,\n",
    "    and some other hyperparameters specified below.\n",
    "  - The function should return K sets of data points, each set corresponding to one cluster.\n",
    "\n",
    "Hyperparameters:\n",
    "\n",
    "- The method for calculating the centroid: Means or Median\n",
    "- The initialization method: Random Split Initialization or Random Seed Selection Method\n",
    "- Max_iter: max number of iterations to run the algorithm.\n",
    "- K: number of clusters"
   ]
  },
  {
   "cell_type": "code",
   "execution_count": 632,
   "metadata": {},
   "outputs": [
    {
     "name": "stdout",
     "output_type": "stream",
     "text": [
      "         x1        x2\n",
      "0 -0.201517 -0.683358\n",
      "1  0.374519 -0.828082\n",
      "2 -0.161895 -1.247107\n",
      "3  0.037711 -0.047303\n",
      "4 -0.260479  1.770204\n"
     ]
    },
    {
     "data": {
      "image/png": "[encoded data removed]",
      "text/plain": [
       "<Figure size 432x288 with 1 Axes>"
      ]
     },
     "metadata": {
      "needs_background": "light"
     },
     "output_type": "display_data"
    }
   ],
   "source": [
    "dataframe = pd.read_csv('hw4_cluster.csv')\n",
    "print(dataframe.head())\n",
    "data = np.array(dataframe)\n",
    "\n",
    "# visualize the data\n",
    "plt.scatter(data[:, 0], data[:, 1])\n",
    "plt.grid()\n",
    "plt.show()"
   ]
  },
  {
   "cell_type": "markdown",
   "metadata": {},
   "source": [
    "#### Convenience Representation of a Point\n"
   ]
  },
  {
   "cell_type": "code",
   "execution_count": 633,
   "metadata": {},
   "outputs": [],
   "source": [
    "class Point():\n",
    "    def __init__(self, coordinates):\n",
    "        self.coordinates = np.array(coordinates)\n",
    "        self.cluster = None\n",
    "    \n",
    "    def __hash__(self):\n",
    "        return hash(tuple(self.coordinates))\n",
    "\n",
    "    def __str__(self):\n",
    "        return str(self.coordinates)\n",
    "\n",
    "    def __eq__(self, other):\n",
    "        return np.array_equal(self.coordinates, other.coordinates)\n",
    "\n"
   ]
  },
  {
   "cell_type": "markdown",
   "metadata": {},
   "source": [
    "#### 1.1 Distance Function"
   ]
  },
  {
   "cell_type": "code",
   "execution_count": 634,
   "metadata": {},
   "outputs": [
    {
     "name": "stdout",
     "output_type": "stream",
     "text": [
      "distance(Point([0, 3]), Point([4, 0])) = 5.0\n"
     ]
    }
   ],
   "source": [
    "def distance(p1: Point, p2: Point) -> float:\n",
    "    separation = p1.coordinates - p2.coordinates\n",
    "    return np.sqrt(np.dot(separation, separation))\n",
    "\n",
    "print(f\"{distance(Point([0, 3]), Point([4, 0])) = }\")"
   ]
  },
  {
   "cell_type": "markdown",
   "metadata": {},
   "source": [
    "#### 1.2 Centroid Functions"
   ]
  },
  {
   "cell_type": "code",
   "execution_count": 635,
   "metadata": {},
   "outputs": [
    {
     "name": "stdout",
     "output_type": "stream",
     "text": [
      "mean = [4.13574432 7.09951132]\n",
      "median = [3.39533665 4.99323915]\n"
     ]
    }
   ],
   "source": [
    "def mean_centroid(points: list[Point]):\n",
    "    all_coordinates = np.array([p.coordinates for p in points])\n",
    "    return Point(np.mean(all_coordinates, axis=0))\n",
    "\n",
    "def median_centroid(points):\n",
    "    all_coordinates = np.array([p.coordinates for p in points])\n",
    "    return Point(np.median(all_coordinates, axis=0))\n",
    "\n",
    "datapoints = [Point(p) for p in data]\n",
    "mean = mean_centroid(datapoints)\n",
    "median = median_centroid(datapoints)\n",
    "print(f\"mean = {mean}\")\n",
    "print(f\"median = {median}\")\n",
    "\n"
   ]
  },
  {
   "cell_type": "markdown",
   "metadata": {},
   "source": [
    "#### 1.3 Initialization Methods\n"
   ]
  },
  {
   "cell_type": "code",
   "execution_count": 636,
   "metadata": {},
   "outputs": [],
   "source": [
    "\n",
    "def random_split(points: list, k):\n",
    "    clusters = [set() for _ in range(k)]\n",
    "    cluster_size = len(points) // k\n",
    "    for _ in range(cluster_size):\n",
    "        for cluster in range(k):\n",
    "            index = np.random.randint(0, len(points))\n",
    "            point = points.pop(index)\n",
    "            point.cluster = cluster\n",
    "            clusters[cluster].add(point)\n",
    "    return clusters\n",
    "        \n",
    "def random_seed(points: list, k):\n",
    "    clusters = [set() for _ in range(k)]\n",
    "    for cluster in range(k):\n",
    "        index = np.random.randint(0, len(points))\n",
    "        point = points.pop(index)\n",
    "        point.cluster = cluster\n",
    "        clusters[cluster].add(point)\n",
    "    return clusters"
   ]
  },
  {
   "cell_type": "markdown",
   "metadata": {},
   "source": [
    "#### 1.4 K-means/median algorithm"
   ]
  },
  {
   "cell_type": "code",
   "execution_count": 651,
   "metadata": {},
   "outputs": [],
   "source": [
    "\n",
    "def cluster(points, centroid_func, init_func, max_iter, k):\n",
    "    \n",
    "    pts = [Point(p) for p in points]\n",
    "    clusters = init_func(pts.copy(), k)\n",
    "    \n",
    "\n",
    "    for iter in range(max_iter):\n",
    "\n",
    "        change = False\n",
    "        centroids = [centroid_func(cluster) for cluster in clusters]\n",
    "\n",
    "        for pt in pts:\n",
    "            min_dist = float('inf')\n",
    "            min_cluster = 0\n",
    "            for cluster in range(k):\n",
    "                dist = distance(pt, centroids[cluster])\n",
    "                if dist < min_dist:\n",
    "                    min_dist = dist\n",
    "                    min_cluster = cluster\n",
    "\n",
    "            old_cluster = pt.cluster\n",
    "            if old_cluster is None or old_cluster != min_cluster:\n",
    "                change = True\n",
    "                if old_cluster is not None:\n",
    "                    clusters[old_cluster].remove(pt)\n",
    "                clusters[min_cluster].add(pt)\n",
    "                pt.cluster = min_cluster\n",
    "        \n",
    "        if not change:\n",
    "            print(f\"Converged at iteration {iter}\")\n",
    "            break\n",
    "    return clusters"
   ]
  },
  {
   "cell_type": "markdown",
   "metadata": {},
   "source": [
    "#### Test the Algorithm\n"
   ]
  },
  {
   "cell_type": "code",
   "execution_count": 652,
   "metadata": {},
   "outputs": [
    {
     "name": "stdout",
     "output_type": "stream",
     "text": [
      "Converged at iteration 4\n",
      "cluster sizes = [0, 10, 10, 18, 2]\n"
     ]
    }
   ],
   "source": [
    "k = 5\n",
    "clusters = cluster(data, mean_centroid, random_split, 1000, k)\n",
    "# clusters = [[p.coordinates for p in cluster] for cluster in clusters]\n",
    "# print(clusters)\n",
    "print(f\"cluster sizes = {[len(c) for c in clusters]}\")"
   ]
  },
  {
   "cell_type": "markdown",
   "metadata": {},
   "source": [
    "#### 2. SSE Score\n",
    "\n",
    "Implement a function to take in a list of clusters and calculate the SSE score."
   ]
  },
  {
   "cell_type": "code",
   "execution_count": 647,
   "metadata": {},
   "outputs": [
    {
     "name": "stdout",
     "output_type": "stream",
     "text": [
      "SSE = 38.43293302177801\n"
     ]
    }
   ],
   "source": [
    "def SSE(centroid_func, clusters):\n",
    "    sse = 0.0\n",
    "    for cluster in clusters:\n",
    "        centroid = centroid_func(cluster)\n",
    "        for point in cluster:\n",
    "            sse += distance(point, centroid)\n",
    "    return sse\n",
    "\n",
    "sse_score = SSE(mean_centroid, clusters)\n",
    "print(f\"SSE = {sse_score}\")"
   ]
  },
  {
   "cell_type": "markdown",
   "metadata": {},
   "source": [
    "#### 3. Finding the best K\n",
    "\n",
    "Run the code you implemented in question 1 for $k \\in \\{2, 3, 4, 5\\}$.\n",
    "\n",
    "Set the other hyperparameters as follows:\n",
    "\n",
    "- The method for calculating the centroid: Mean\n",
    "- The initialization method: Random Split Initialization\n",
    "- Max_iterations: 100\n",
    "\n",
    "Calculate the SSE for each K using the function in question 2 and use these scores to pick the best K. What is the best K?\n",
    "\n",
    "> Per the performance of the predictions below, it seems the best $k$ is $5$\n",
    ">\n",
    "> This makes sense since the more groups we can create, the more compact we can make those clusters.\n",
    ">\n",
    "> ...but the quality of the information we get from those predictions goes down."
   ]
  },
  {
   "cell_type": "code",
   "execution_count": 655,
   "metadata": {},
   "outputs": [
    {
     "name": "stdout",
     "output_type": "stream",
     "text": [
      "Converged at iteration 3\n",
      "Converged at iteration 5\n",
      "Converged at iteration 4\n",
      "Converged at iteration 4\n",
      "k = 2, SSE = 105.18805496092499\n",
      "k = 3, SSE = 55.41320608126317\n",
      "k = 4, SSE = 49.62723344463008\n",
      "k = 5, SSE = 38.43293302177801\n"
     ]
    },
    {
     "data": {
      "image/png": "[encoded data removed]",
      "text/plain": [
       "<Figure size 432x288 with 1 Axes>"
      ]
     },
     "metadata": {
      "needs_background": "light"
     },
     "output_type": "display_data"
    }
   ],
   "source": [
    "centroid_func = mean_centroid\n",
    "init_func = random_split\n",
    "max_iterations = 1000\n",
    "K = [2, 3, 4, 5]\n",
    "\n",
    "sse_scores = []\n",
    "all_clusters = []\n",
    "for k in K:\n",
    "    clusters = cluster(data, centroid_func, init_func, max_iterations, k)\n",
    "    all_clusters.append(clusters)\n",
    "    sse_scores.append(SSE(centroid_func, clusters))\n",
    "\n",
    "for k, sse in zip(K, sse_scores):\n",
    "    print(f\"k = {k}, SSE = {sse}\")\n",
    "plt.scatter(K, sse_scores)\n",
    "plt.plot(K, sse_scores)\n",
    "plt.grid()\n",
    "plt.show()\n",
    "\n"
   ]
  },
  {
   "cell_type": "code",
   "execution_count": 658,
   "metadata": {},
   "outputs": [
    {
     "data": {
      "image/png": "[encoded data removed]",
      "text/plain": [
       "<Figure size 432x288 with 1 Axes>"
      ]
     },
     "metadata": {
      "needs_background": "light"
     },
     "output_type": "display_data"
    }
   ],
   "source": [
    "\n",
    "best_clusters = all_clusters[np.argmin(sse_scores)]\n",
    "\n",
    "colors = ['r', 'g', 'b', 'c', 'm', 'y', 'k']\n",
    "for c in range(len(best_clusters)):\n",
    "    points = best_clusters[c]\n",
    "    raw_points = [p.coordinates for p in points]\n",
    "    x = [p[0] for p in raw_points]\n",
    "    y = [p[1] for p in raw_points]\n",
    "    plt.scatter(x, y, color=colors[c])\n",
    "plt.grid()\n",
    "plt.title(f\"Best Clusters (k = {K[np.argmin(sse_scores)]})\")\n",
    "plt.show()"
   ]
  },
  {
   "cell_type": "code",
   "execution_count": 659,
   "metadata": {},
   "outputs": [
    {
     "data": {
      "image/png": "[encoded data removed]",
      "text/plain": [
       "<Figure size 432x288 with 1 Axes>"
      ]
     },
     "metadata": {
      "needs_background": "light"
     },
     "output_type": "display_data"
    }
   ],
   "source": [
    "worst_clusters = all_clusters[np.argmax(sse_scores)]\n",
    "\n",
    "colors = ['r', 'g', 'b', 'c', 'm', 'y', 'k']\n",
    "for c in range(len(worst_clusters)):\n",
    "    points = worst_clusters[c]\n",
    "    raw_points = [p.coordinates for p in points]\n",
    "    x = [p[0] for p in raw_points]\n",
    "    y = [p[1] for p in raw_points]\n",
    "    plt.scatter(x, y, color=colors[c])\n",
    "plt.grid()\n",
    "plt.title(f\"Worst Clusters (k = {K[np.argmax(sse_scores)]})\")\n",
    "plt.show()"
   ]
  }
 ],
 "metadata": {
  "interpreter": {
   "hash": "607b7d84c7d8e26dbbffb4014e40424fe2faf80a09a85d717e93e42c2773dc40"
  },
  "kernelspec": {
   "display_name": "Python 3.10.4 ('ml')",
   "language": "python",
   "name": "python3"
  },
  "language_info": {
   "codemirror_mode": {
    "name": "ipython",
    "version": 3
   },
   "file_extension": ".py",
   "mimetype": "text/x-python",
   "name": "python",
   "nbconvert_exporter": "python",
   "pygments_lexer": "ipython3",
   "version": "3.10.4"
  },
  "orig_nbformat": 4
 },
 "nbformat": 4,
 "nbformat_minor": 2
}
